{
 "cells": [
  {
   "cell_type": "code",
   "execution_count": null,
   "metadata": {
    "collapsed": false
   },
   "outputs": [],
   "source": [
    "import os, niprov, nibabel\n",
    "from glob import glob\n",
    "import os.path as join\n",
    "from pylabs.utils.paths import getlocaldataroot\n"
   ]
  },
  {
   "cell_type": "code",
   "execution_count": null,
   "metadata": {
    "collapsed": false
   },
   "outputs": [],
   "source": [
    "fs = getlocaldataroot()\n",
    "project = 'bbc'\n",
    "subtemplate = 'sub-bbc{sid}'\n",
    "subjid = [101, 105, 106, 108, 109, 113, 116, 118, 119, 120, 202, 208, 209, 211, 212, 215, 218, 219, 231, 236, 241, 243, 249, 252, 253]\n",
    "#subjects = [subtemplate.format(sid=str(s)) for s in subjid]\n",
    "subjects = ['sub-bbc105']\n",
    "subject = subjects[0]\n",
    "dwifiles = glob(join(fs, project, subject, 'ses-?', 'dwi', '*.nii'))"
   ]
  },
  {
   "cell_type": "code",
   "execution_count": null,
   "metadata": {
    "collapsed": true
   },
   "outputs": [],
   "source": [
    "dtiqcdir = join(fs, project, subject, 'toddprocess')\n",
    "if os.isdir"
   ]
  },
  {
   "cell_type": "code",
   "execution_count": null,
   "metadata": {
    "collapsed": true
   },
   "outputs": [],
   "source": [
    "origdir = os.getcwd()\n",
    "for subject in subjects:\n",
    "    dwifiles = glob.glob(join(fs, project, subject, 'ses-?', 'dwi', '*.nii'))\n",
    "    for dwifile in dwifiles:\n",
    "        dtidir = join('/', *dwifile.split('/')[:-1])\n",
    "        dtifbasenm = dwifile.split('.')[0]\n",
    "        qcdir = join(dtidir, 'dwi_qc')\n",
    "        if os.path.exists(qcdir):\n",
    "            shutil.rmtree(qcdir)\n",
    "        os.makedirs(qcdir)\n",
    "        shutil.copy2(dwifile, join(qcdir, 'dtishort.nii'))\n",
    "        shutil.copy2(dtifbasenm+'.bvals', join(qcdir, 'bvals'))\n",
    "        shutil.copy2(dtifbasenm+'.bvecs', join(qcdir, 'bvecs'))\n",
    "        shutil.copy2(join(origdir, 'pylabs/diffusion/plotqc1.m'), join(qcdir, 'plotqc1.m'))\n",
    "        os.chdir(qcdir)\n",
    "        with open(join(qcdir, 'alphalevel.txt'), \"w\") as alphalevel:\n",
    "            alphalevel.write(\"{}\".format(alpha))\n",
    "        cmd = ['fslchfiletype', 'ANALYZE', join(qcdir, 'dtishort.nii')]\n",
    "        run_subprocess(' '.join(cmd))\n",
    "        run_subprocess(join(origdir, 'pylabs/diffusion/dti_qc_correlation_bval1000'))\n",
    "os.chdir(origdir)\n"
   ]
  },
  {
   "cell_type": "code",
   "execution_count": null,
   "metadata": {
    "collapsed": true
   },
   "outputs": [],
   "source": [
    "%load_ext oct2py.ipython"
   ]
  },
  {
   "cell_type": "code",
   "execution_count": null,
   "metadata": {
    "collapsed": false
   },
   "outputs": [],
   "source": [
    "origdir = os.getcwd()\n",
    "dwifiles = glob.glob(join(fs, project, subject, 'ses-?', 'dwi', '*.nii'))\n",
    "for dwifile in dwifiles:\n",
    "    dtidir = join('/', *dwifile.split('/')[:-1])\n",
    "    dtifbasenm = dwifile.split('.')[0]\n",
    "    qcdir = join(dtidir, 'dwi_qc')\n",
    "    os.chdir(qcdir)\n"
   ]
  },
  {
   "cell_type": "code",
   "execution_count": null,
   "metadata": {
    "collapsed": false
   },
   "outputs": [],
   "source": [
    "    %%octave\n",
    "    load dimensionsgood1.txt\n",
    "    filename = \"report_title.txt\";\n",
    "    fid = fopen (filename, \"r\");\n",
    "    m_s = fscanf(fid,'%s');\n",
    "    fclose (fid);\n",
    "\n",
    "\n",
    "    fkern = 'plotgood1'; \n",
    "        fid = fopen(fkern, 'rb');\n",
    "        I = fread(fid, 'float');\n",
    "       fclose(fid);\n",
    "        typeinfo(I)\n",
    "    clf;\n",
    "    h = figure('Position',[1,1,4000,2048]);\n",
    "    dimensionsgood1\n",
    "    for it = 1:dimensionsgood1(:,4)-1\n",
    "    pos1 = ((it-1)*(dimensionsgood1(:,3)-1))+1;\n",
    "    pos2 = pos1+dimensionsgood1(:,3)-1;\n",
    "    plot(1:1+dimensionsgood1(:,3)-1,I(pos1:pos2));\n",
    "    hold on\n",
    "    end;\n",
    "\n",
    "    load dimensionsbad1.txt\n",
    "\n",
    "    fkern = 'plotbad1'; \n",
    "        fid = fopen(fkern, 'rb');\n",
    "        I = fread(fid, 'float');\n",
    "       fclose(fid);\n",
    "        typeinfo(I)\n",
    "    fkern = 'badvolumes1'; \n",
    "        fid = fopen(fkern, 'rb');\n",
    "        Ib = fread(fid, 'float');\n",
    "       fclose(fid);\n",
    "        typeinfo(Ib)\n",
    "\n",
    "\n",
    "    dimensionsbad1\n",
    "    map=rainbow(dimensionsbad1(:,4)-1);\n",
    "    for it = 1:dimensionsbad1(:,4)-1\n",
    "    pos1 = ((it-1)*(dimensionsbad1(:,3)-1))+1;\n",
    "    pos2 = pos1+dimensionsbad1(:,3)-1;\n",
    "    [R, G, B] = ind2rgb (it, map);\n",
    "    if (it == 1)\n",
    "    plot(1:1+dimensionsbad1(:,3)-1,I(pos1:pos2),sprintf ('+-;%d;',Ib(it:it)-1), 'Linewidth', 2, 'color',[R, G, B]);\n",
    "     endif\n",
    "    if (it == 2)\n",
    "    plot(1:1+dimensionsbad1(:,3)-1,I(pos1:pos2),sprintf ('o-;%d;',Ib(it:it)-1), 'Linewidth', 2, 'color',[R, G, B]);\n",
    "     endif\n",
    "    if (it == 3)\n",
    "    plot(1:1+dimensionsbad1(:,3)-1,I(pos1:pos2),sprintf ('s-;%d;',Ib(it:it)-1), 'Linewidth', 2, 'color',[R, G, B]);\n",
    "     endif\n",
    "    if (it == 4)\n",
    "    plot(1:1+dimensionsbad1(:,3)-1,I(pos1:pos2),sprintf ('d-;%d;',Ib(it:it)-1), 'Linewidth', 2, 'color',[R, G, B]);\n",
    "     endif\n",
    "    if (it == 5)\n",
    "    plot(1:1+dimensionsbad1(:,3)-1,I(pos1:pos2),sprintf ('*-;%d;',Ib(it:it)-1), 'Linewidth', 2, 'color',[R, G, B]);\n",
    "     endif\n",
    "\n",
    "    if (it == 6)\n",
    "    plot(1:1+dimensionsbad1(:,3)-1,I(pos1:pos2),sprintf ('x-;%d;',Ib(it:it)-1), 'Linewidth', 2, 'color',[R, G, B]);\n",
    "     endif\n",
    "    if (it == 7)\n",
    "    plot(1:1+dimensionsbad1(:,3)-1,I(pos1:pos2),sprintf ('^-;%d;',Ib(it:it)-1), 'Linewidth', 2, 'color',[R, G, B]);\n",
    "     endif\n",
    "    if (it == 8)\n",
    "    plot(1:1+dimensionsbad1(:,3)-1,I(pos1:pos2),sprintf ('>-;%d;',Ib(it:it)-1), 'Linewidth', 2, 'color',[R, G, B]);\n",
    "     endif\n",
    "    if (it == 9)\n",
    "    plot(1:1+dimensionsbad1(:,3)-1,I(pos1:pos2),sprintf ('<-;%d;',Ib(it:it)-1), 'Linewidth', 2, 'color',[R, G, B]);\n",
    "     endif\n",
    "    if (it == 10)\n",
    "    plot(1:1+dimensionsbad1(:,3)-1,I(pos1:pos2),sprintf ('p-;%d;',Ib(it:it)-1), 'Linewidth', 2, 'color',[R, G, B]);\n",
    "     endif\n",
    "    if (it == 11)\n",
    "    plot(1:1+dimensionsbad1(:,3)-1,I(pos1:pos2),sprintf ('h-;%d;',Ib(it:it)-1), 'Linewidth', 2, 'color',[R, G, B]);\n",
    "     endif\n",
    "    if (it > 11)\n",
    "    plot(1:1+dimensionsbad1(:,3)-1,I(pos1:pos2),sprintf ('.-;%d;',Ib(it:it)-1), 'Linewidth', 2, 'color',[R, G, B]);\n",
    "     endif\n",
    "\n",
    "\n",
    "    hold (\"on\"); \n",
    "    end;\n",
    "    plot(1:75,(1:75)/10000);\n",
    "    xlabel('slice number ','fontsize',20)\n",
    "    ylabel('Interlace Correlation ','fontsize',20)\n",
    "    title(m_s,'fontsize',20)\n",
    "    set(gca,'fontsize',15);\n",
    "    print('qcreport1.jpg','-djpg',\"-S3000,1500\");\n",
    "    pause;\n"
   ]
  },
  {
   "cell_type": "code",
   "execution_count": null,
   "metadata": {
    "collapsed": true
   },
   "outputs": [],
   "source": []
  }
 ],
 "metadata": {
  "kernelspec": {
   "display_name": "Python 2",
   "language": "python",
   "name": "python2"
  },
  "language_info": {
   "codemirror_mode": {
    "name": "ipython",
    "version": 2
   },
   "file_extension": ".py",
   "mimetype": "text/x-python",
   "name": "python",
   "nbconvert_exporter": "python",
   "pygments_lexer": "ipython2",
   "version": "2.7.12"
  }
 },
 "nbformat": 4,
 "nbformat_minor": 0
}
