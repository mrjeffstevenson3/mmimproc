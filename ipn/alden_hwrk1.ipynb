{
 "cells": [
  {
   "cell_type": "code",
   "execution_count": 1,
   "metadata": {},
   "outputs": [],
   "source": [
    "# import needed modules to do work. numpy is coolest.\n",
    "import numpy as np                                \n",
    "from itertools import count, islice\n",
    "\n",
    "# method for question 1\n",
    "# make 3D solution with defaults for zcoords set to 0 for 2D case\n",
    "def getdistance(x1,y1,x2,y2, z1=0, z2=0):\n",
    "    # set up vectors\n",
    "    p1 = np.array([x1, y1, z1], dtype=np.float64)  \n",
    "    p2 = np.array([x2, y2, z2], dtype=np.float64)\n",
    "    # calculate cartesian distance\n",
    "    dist = np.sqrt(np.sum((p2-p1)**2, axis=0))    \n",
    "    return dist\n",
    "\n",
    "# method for question 2\n",
    "def isprime(n):\n",
    "    if n < 2:\n",
    "        return False\n",
    "    # divide the work in half. \n",
    "    # see https://stackoverflow.com/questions/4114167/checking-if-a-number-is-a-prime-number-in-python/27946768\n",
    "    nsqrt = np.floor(np.sqrt(n))\n",
    "    # use islice and count to set up array of numbers to test\n",
    "    for number in islice(count(2), int(nsqrt) - 1):\n",
    "        # if it can be divided without remainder by any intervening number it is not prime\n",
    "        if n % number == 0: \n",
    "            return False\n",
    "    return True\n",
    "\n",
    "# method for question 3\n",
    "def usernamechecker(uname):\n",
    "    # make sure its string data type\n",
    "    uname = str(uname)                        \n",
    "    if len(uname) < 5:\n",
    "        return False\n",
    "    # set up counters for testing upper, lower, and digit\n",
    "    upcount, lowcount, numcount = 0, 0, 0\n",
    "    # loop over and test every letter.\n",
    "    for l in uname:                           \n",
    "        if l in ['@', '#', ' ']:\n",
    "            # stop here if you find special chars\n",
    "            return False\n",
    "        # test/count for uppercase, lowercase, and digit\n",
    "        if str.isupper(l):                   \n",
    "            upcount += 1\n",
    "        if str.islower(l):\n",
    "            lowcount += 1\n",
    "        if str.isdigit(l):\n",
    "            numcount += 1\n",
    "    # test if any of the counters are lower than 1\n",
    "    if any([upcount < 1, lowcount < 1, numcount < 1]):     \n",
    "        return False\n",
    "    # passed all tests and over whole loop. must be a good uname\n",
    "    return True                                            \n",
    "\n",
    "# method for question 4\n",
    "def counttriple(blurb):\n",
    "    blurb = str(blurb)\n",
    "    # set up counters\n",
    "    i, end, numtriples = 0, len(blurb) - 2, 0        \n",
    "    while i <= end:\n",
    "        # grab 1st char using slicing\n",
    "        lead = blurb[0]\n",
    "        # test if it repeats twice after itself\n",
    "        if lead * 2 in blurb[1:3]:                   \n",
    "            numtriples += 1\n",
    "        # shorten string by one and increment counter\n",
    "        blurb = blurb[1:]                            \n",
    "        i += 1\n",
    "    return numtriples\n",
    "\n",
    "# method for question 5\n",
    "def swappairs(listofpairs):\n",
    "    # make sure its a valid list or array\n",
    "    if not isinstance(listofpairs, (list, np.ndarray)):   \n",
    "        raise TypeError('input not a list or array.')\n",
    "    # set up counter and empty new list\n",
    "    i, newlist = 0, []  \n",
    "    # do even swapping\n",
    "    if len(listofpairs) % 2 == 0:                         \n",
    "        while i < len(listofpairs):\n",
    "            # reverse order of pairs using indexing\n",
    "            newlist.append(listofpairs[i + 1])            \n",
    "            newlist.append(listofpairs[i])\n",
    "            i += 2\n",
    "    else:\n",
    "        # do odd swapping\n",
    "        while i < (len(listofpairs) - 1):                 \n",
    "            newlist.append(listofpairs[i + 1])\n",
    "            newlist.append(listofpairs[i])\n",
    "            i += 2\n",
    "        # add the odd man out at the end\n",
    "        newlist.append(listofpairs[-1])                   \n",
    "    return newlist\n",
    "\n",
    "# extra credit question\n",
    "def arraysums(arr1, arr2):\n",
    "    # make sure they are a valid list or arrays\n",
    "    if not any([isinstance(arr1, (list, np.ndarray)), isinstance(arr2, (list, np.ndarray))]):   \n",
    "        raise TypeError('one or both inputs not a list or array.')\n",
    "    # convert to numpy arrays for easy manipulation\n",
    "    arr1, arr2 = np.array(arr1), np.array(arr2)\n",
    "    # if array sizes are the same add them\n",
    "    if arr1.shape == arr2.shape:\n",
    "        arr_sum = np.add(arr1, arr2)\n",
    "    # if size/shape of arr1 is larger then make that template size the smaller arr2 will fit into\n",
    "    if arr1.shape > arr2.shape and len(arr1.shape) == len(arr2.shape):\n",
    "        # make dummy arr2, same size as arr1 but with zeros\n",
    "        _arr2 = np.zeros(arr1.shape)\n",
    "        # put elements of arr2 in order into dummy _arr2\n",
    "        _arr2[:arr2.shape[0]] = arr2\n",
    "        # now that arrays are the same size. element wise add them\n",
    "        arr_sum = np.add(arr1, _arr2)\n",
    "    # if size/shape of arr2 is larger then make that template size the smaller arr1 will fit into\n",
    "    if arr1.shape < arr2.shape and len(arr1.shape) == len(arr2.shape):\n",
    "        # make dummy arr1, same size as arr2 but with zeros\n",
    "        _arr1 = np.zeros(arr2.shape)\n",
    "        # put elements of arr1 in order into dummy _arr1\n",
    "        _arr1[:arr1.shape[0]] = arr1\n",
    "        # now that arrays are the same size. element wise add them\n",
    "        arr_sum = np.add(_arr1, arr2) \n",
    "    return arr_sum"
   ]
  },
  {
   "cell_type": "code",
   "execution_count": 2,
   "metadata": {},
   "outputs": [
    {
     "name": "stdout",
     "output_type": "stream",
     "text": [
      "results for question 1\n",
      "  cartesian distance between the points is 4.242640687119285\n",
      "  cartesian distance between the points is 3.1622776601683795\n",
      "results for question 2\n",
      "  is the number 13 prime?  True\n",
      "  is the number 20 prime?  False\n",
      "results for question 3\n",
      "  is the user name \"snowflake\" valid?  False\n",
      "  is the user name \"snow\" valid?  False\n",
      "  is the user name \"snowFlake123\" valid?  True\n",
      "  is the user name \"snow flake\" valid?  False\n",
      "  is the user name \"@snowflake\" valid?  False\n",
      "results for question 4\n",
      "  the number of triples in \"abcXXXabc\" is 1.\n",
      "  the number of triples in \"xxxabyyyycd\" is 3.\n",
      "  the number of triples in \"\" is 0.\n",
      "  the number of triples in \"a\" is 0.\n",
      "  the number of triples in \"123111123444444\" is 6.\n",
      "results for question 5\n",
      "   ['score', 'four', 'seven', 'and', 'ago', 'years']\n",
      "   ['be', 'to', 'not', 'or', 'be', 'to', 'hamlet']\n",
      "results for extra credit question 6\n",
      "   [ 5.59   4.534 -1.22   9.421]\n"
     ]
    }
   ],
   "source": [
    "# show test results of each method\n",
    "print('results for question 1')\n",
    "for points in [[1,1,4,4], [2,2,3,5]]:\n",
    "    print('  cartesian distance between the points is {p}'.format(p=getdistance(*points)))\n",
    "print('results for question 2')\n",
    "for p in [13, 20]:\n",
    "    print('  is the number {p} prime? '.format(p=p), isprime(p))\n",
    "print('results for question 3')\n",
    "for u in ['snowflake', 'snow', 'snowFlake123', 'snow flake', '@snowflake']:\n",
    "    print('  is the user name \"{u}\" valid? '.format(u=u), usernamechecker(u))\n",
    "print('results for question 4')\n",
    "for t in ['abcXXXabc', 'xxxabyyyycd', '', 'a', '123111123444444']:\n",
    "    print('  the number of triples in \"{t}\" is {numt}.'.format(t=t, numt=counttriple(t)))\n",
    "print('results for question 5')\n",
    "print('  ',swappairs([\"four\", \"score\", \"and\", \"seven\", \"years\", \"ago\"]))\n",
    "print('  ',swappairs([\"to\", \"be\", \"or\", \"not\", \"to\", \"be\", \"hamlet\"]))\n",
    "print('results for extra credit question 6')\n",
    "print('  ',arraysums([1.19, 3.3, -1.22, 9.421], [4.4, 1.234]))"
   ]
  },
  {
   "cell_type": "code",
   "execution_count": 3,
   "metadata": {},
   "outputs": [],
   "source": [
    "# part 2\n",
    "# question 1\n",
    "class Course(object):\n",
    "    # default variables for Course class\n",
    "    department = ''\n",
    "    courseid = ''\n",
    "    coursename = ''\n",
    "    \n",
    "    # no special setup required\n",
    "    def __init__(self):\n",
    "        pass\n",
    "    \n",
    "    def tostring(self, department, courseid, coursename):\n",
    "        # overwrite defaults with given variables\n",
    "        self.department = department\n",
    "        self.courseid = courseid\n",
    "        self.coursename = coursename\n",
    "        # generate course description text string\n",
    "        course = '{dept}{cid}: {cname}'.format(dept=self.department,\n",
    "                            cid=self.courseid, cname=self.coursename)\n",
    "        print(course)\n",
    "        return course\n",
    "\n",
    "# question 2\n",
    "# Major as subclass of Course class\n",
    "class Major(Course):\n",
    "    # default variables for Major class\n",
    "    numreqcourses = 1\n",
    "    reqcourses = []\n",
    "    \n",
    "    def __init__(self, major):\n",
    "        # creates containers for parent class variables\n",
    "        super(Course, self).__init__()\n",
    "        self.major = major\n",
    "\n",
    "    def newmajor(self, major, numreqcourses):\n",
    "        # overwrite defaults with given variables\n",
    "        self.numreqcourses = numreqcourses\n",
    "        \n",
    "    def addcourse(self, course):\n",
    "        if len(self.reqcourses) <= int(self.numreqcourses):\n",
    "            self.reqcourses.append(course)\n",
    "        else:\n",
    "            print('required course list full. either increase number of \\\n",
    "                  required courses or use replacecourse.')\n",
    "        \n",
    "    def replacecourse(self, oldcourse, newcourse):\n",
    "        newreqcourses = [rc.replace(oldcourse, newcourse) for rc in self.reqcourses]\n",
    "        self.reqcourses = newreqcourses\n",
    "\n",
    "    def tostring(self):\n",
    "        print('List of required courses for {maj}:'.format(maj=self.major.capitalize()))\n",
    "        for rc in self.reqcourses:\n",
    "            print('\\t{course}'.format(course=rc))\n",
    "\n",
    "# question 3\n",
    "# Student as subclass of Major\n",
    "class Student(Major):\n",
    "    # default variables for Student class\n",
    "    firstname = ''\n",
    "    lastname = ''\n",
    "    gpa = 0.0\n",
    "    stu_major = ''\n",
    "    taken_courses = []\n",
    "    \n",
    "    # 1st constructor\n",
    "    def __init__(self, firstname, lastname, taken_courses):\n",
    "        # creates containers for parent class variables\n",
    "        super(Major, self).__init__()\n",
    "        # overwrite defaults with given variables\n",
    "        self.firstname = firstname\n",
    "        self.lastname = lastname\n",
    "        self.taken_courses = taken_courses\n",
    "        # parent variable reqcourses doesn't update\n",
    "        self.reqcourses = Major.reqcourses\n",
    "    \n",
    "    # second constructor\n",
    "    def declaremajor(self, stu_major):\n",
    "        self.stu_major = stu_major\n",
    "    \n",
    "    # 3rd constructor\n",
    "    def updategpa(self, gpa):\n",
    "        self.gpa = gpa\n",
    "    \n",
    "    # 4th constructor\n",
    "    def getInitials(self):\n",
    "        initials = self.firstname[0].capitalize() + self.lastname[0].capitalize()\n",
    "        return initials\n",
    "    \n",
    "    # 5th constructor\n",
    "    def satisfymajor(self, course):\n",
    "        if course in self.reqcourses:\n",
    "            return True\n",
    "        return False\n",
    "    \n",
    "    # 6th constructor\n",
    "    def canyougraduate(self):\n",
    "        \"\"\"\n",
    "        test condition to graduate\n",
    "        used python set function (more efficient) instead of looping over each\n",
    "        course taken and testing if returns True with satisfymajor which is\n",
    "        purpose of satisfymajor.\n",
    "        FYI: does not account for electives but that was not in scope of work.\n",
    "        \"\"\" \n",
    "        if self.gpa >= 2.0 and set(self.taken_courses).issubset(set(self.reqcourses)):\n",
    "            return True\n",
    "        else:\n",
    "            return False"
   ]
  },
  {
   "cell_type": "code",
   "execution_count": 4,
   "metadata": {},
   "outputs": [
    {
     "name": "stdout",
     "output_type": "stream",
     "text": [
      "ECON101: Principles of Economics I\n",
      "ECON301: Environmental Economics and Policy\n",
      "ECON350: Managerial Economics\n",
      "ECON305: Game Theory\n",
      "ECON210: replacement course for 350\n",
      "\n",
      "List of required courses for Economics:\n",
      "\tECON101: Principles of Economics I\n",
      "\tECON301: Environmental Economics and Policy\n",
      "\tECON350: Managerial Economics\n",
      "\tECON305: Game Theory\n"
     ]
    }
   ],
   "source": [
    "course1 = Course().tostring('ECON', '101', 'Principles of Economics I')\n",
    "course2 = Course().tostring('ECON', '301', 'Environmental Economics and Policy')\n",
    "course3 = Course().tostring('ECON', '350', 'Managerial Economics')\n",
    "course4 = Course().tostring('ECON', '305', 'Game Theory')\n",
    "course5 = Course().tostring('ECON', '210', 'replacement course for 350')\n",
    "maj = Major('economics')\n",
    "maj.newmajor('economics', 5)\n",
    "maj.addcourse(course1)\n",
    "maj.addcourse(course2)\n",
    "maj.addcourse(course3)\n",
    "maj.addcourse(course4)\n",
    "print()\n",
    "maj.tostring()"
   ]
  },
  {
   "cell_type": "code",
   "execution_count": 5,
   "metadata": {},
   "outputs": [
    {
     "name": "stdout",
     "output_type": "stream",
     "text": [
      "List of required courses for Economics:\n",
      "\tECON101: Principles of Economics I\n",
      "\tECON301: Environmental Economics and Policy\n",
      "\tECON210: replacement course for 350\n",
      "\tECON305: Game Theory\n"
     ]
    }
   ],
   "source": [
    "maj.replacecourse(course3, course5)\n",
    "maj.tostring()"
   ]
  },
  {
   "cell_type": "code",
   "execution_count": 6,
   "metadata": {},
   "outputs": [
    {
     "data": {
      "text/plain": [
       "['ECON101: Principles of Economics I',\n",
       " 'ECON301: Environmental Economics and Policy',\n",
       " 'ECON350: Managerial Economics',\n",
       " 'ECON305: Game Theory']"
      ]
     },
     "execution_count": 6,
     "metadata": {},
     "output_type": "execute_result"
    }
   ],
   "source": [
    "student1 = Student('bo', 'didley', [course1, course2, course3, course4])\n",
    "student1.updategpa(3.5)\n",
    "student1.declaremajor('economics')\n",
    "student1.reqcourses"
   ]
  },
  {
   "cell_type": "code",
   "execution_count": 7,
   "metadata": {},
   "outputs": [
    {
     "data": {
      "text/plain": [
       "['ECON101: Principles of Economics I',\n",
       " 'ECON301: Environmental Economics and Policy',\n",
       " 'ECON350: Managerial Economics',\n",
       " 'ECON305: Game Theory']"
      ]
     },
     "execution_count": 7,
     "metadata": {},
     "output_type": "execute_result"
    }
   ],
   "source": [
    "student1.taken_courses"
   ]
  },
  {
   "cell_type": "code",
   "execution_count": 8,
   "metadata": {},
   "outputs": [
    {
     "data": {
      "text/plain": [
       "False"
      ]
     },
     "execution_count": 8,
     "metadata": {},
     "output_type": "execute_result"
    }
   ],
   "source": [
    "# this is wierd. should have most current state, not default state.\n",
    "maj.reqcourses == student1.reqcourses"
   ]
  },
  {
   "cell_type": "code",
   "execution_count": 9,
   "metadata": {},
   "outputs": [
    {
     "data": {
      "text/plain": [
       "True"
      ]
     },
     "execution_count": 9,
     "metadata": {},
     "output_type": "execute_result"
    }
   ],
   "source": [
    "# confirms student1 does not see changes from maj.replacecourse(course3, course5)\n",
    "student1.taken_courses == student1.reqcourses"
   ]
  },
  {
   "cell_type": "code",
   "execution_count": 10,
   "metadata": {},
   "outputs": [
    {
     "data": {
      "text/plain": [
       "['ECON101: Principles of Economics I',\n",
       " 'ECON301: Environmental Economics and Policy',\n",
       " 'ECON210: replacement course for 350',\n",
       " 'ECON305: Game Theory']"
      ]
     },
     "execution_count": 10,
     "metadata": {},
     "output_type": "execute_result"
    }
   ],
   "source": [
    "student1.replacecourse(course3, course5)\n",
    "student1.reqcourses"
   ]
  },
  {
   "cell_type": "code",
   "execution_count": 11,
   "metadata": {},
   "outputs": [
    {
     "name": "stdout",
     "output_type": "stream",
     "text": [
      "BD True True False True\n"
     ]
    }
   ],
   "source": [
    "print(student1.getInitials(),\n",
    "student1.satisfymajor(course1),\n",
    "student1.satisfymajor(course2),\n",
    "student1.satisfymajor(course3),\n",
    "student1.satisfymajor(course4))"
   ]
  },
  {
   "cell_type": "code",
   "execution_count": 12,
   "metadata": {},
   "outputs": [
    {
     "data": {
      "text/plain": [
       "False"
      ]
     },
     "execution_count": 12,
     "metadata": {},
     "output_type": "execute_result"
    }
   ],
   "source": [
    "student1.canyougraduate()"
   ]
  },
  {
   "cell_type": "code",
   "execution_count": 13,
   "metadata": {},
   "outputs": [
    {
     "data": {
      "text/plain": [
       "True"
      ]
     },
     "execution_count": 13,
     "metadata": {},
     "output_type": "execute_result"
    }
   ],
   "source": [
    "student1.replacecourse(course5, course3)\n",
    "student1.canyougraduate()"
   ]
  },
  {
   "cell_type": "code",
   "execution_count": null,
   "metadata": {},
   "outputs": [],
   "source": []
  }
 ],
 "metadata": {
  "kernelspec": {
   "display_name": "py36tf",
   "language": "python",
   "name": "py36tf"
  },
  "language_info": {
   "codemirror_mode": {
    "name": "ipython",
    "version": 3
   },
   "file_extension": ".py",
   "mimetype": "text/x-python",
   "name": "python",
   "nbconvert_exporter": "python",
   "pygments_lexer": "ipython3",
   "version": "3.6.7"
  }
 },
 "nbformat": 4,
 "nbformat_minor": 4
}
