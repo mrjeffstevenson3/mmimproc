{
 "cells": [
  {
   "cell_type": "code",
   "execution_count": 4,
   "metadata": {
    "collapsed": true
   },
   "outputs": [],
   "source": [
    "%matplotlib inline\n",
    "import numpy as np\n",
    "np.random.seed(2014)\n",
    "import matplotlib.pyplot as plt\n",
    "\n",
    "import dipy.data as dpd\n",
    "import dipy.reconst.cross_validation as xval\n",
    "import dipy.reconst.dti as dti\n",
    "import dipy.reconst.csdeconv as csd\n",
    "import scipy.stats as stats"
   ]
  },
  {
   "cell_type": "code",
   "execution_count": null,
   "metadata": {
    "collapsed": false
   },
   "outputs": [],
   "source": [
    "dpd.fetch_stanford_hardi()\n",
    "img, gtab = dpd.read_stanford_hardi()\n",
    "data = img.get_data()\n",
    "\n",
    "cc_vox = data[40, 70, 38]\n",
    "cso_vox = data[30, 76, 38]"
   ]
  },
  {
   "cell_type": "code",
   "execution_count": null,
   "metadata": {
    "collapsed": true
   },
   "outputs": [],
   "source": [
    "dti_model = dti.TensorModel(gtab)\n",
    "response, ratio = csd.auto_response(gtab, data, roi_radius=10, fa_thr=0.7)\n",
    "csd_model = csd.ConstrainedSphericalDeconvModel(gtab, response)"
   ]
  },
  {
   "cell_type": "code",
   "execution_count": null,
   "metadata": {
    "collapsed": true
   },
   "outputs": [],
   "source": [
    "dti_cc = xval.kfold_xval(dti_model, cc_vox, 2)\n",
    "csd_cc = xval.kfold_xval(csd_model, cc_vox, 2, response)\n",
    "dti_cso = xval.kfold_xval(dti_model, cso_vox, 2)\n",
    "csd_cso = xval.kfold_xval(csd_model, cso_vox, 2, response)"
   ]
  },
  {
   "cell_type": "code",
   "execution_count": null,
   "metadata": {
    "collapsed": false
   },
   "outputs": [],
   "source": [
    "fig, ax = plt.subplots(1,2)\n",
    "fig.set_size_inches([12,6])\n",
    "ax[0].plot(cc_vox[~gtab.b0s_mask], dti_cc[~gtab.b0s_mask], 'o', color='b')\n",
    "ax[0].plot(cc_vox[~gtab.b0s_mask], csd_cc[~gtab.b0s_mask], 'o', color='r')\n",
    "ax[1].plot(cso_vox[~gtab.b0s_mask], dti_cso[~gtab.b0s_mask], 'o', color='b', label='DTI')\n",
    "ax[1].plot(cso_vox[~gtab.b0s_mask], csd_cso[~gtab.b0s_mask], 'o', color='r', label='CSD')\n",
    "plt.legend(loc='upper left')\n",
    "for this_ax in ax:\n",
    "    this_ax.set_xlabel('Data (relative to S0)')\n",
    "    this_ax.set_ylabel('Model prediction (relative to S0)')\n",
    "fig.savefig(\"model_predictions.png\")\n",
    "\n",
    "plt.show()"
   ]
  },
  {
   "cell_type": "code",
   "execution_count": null,
   "metadata": {
    "collapsed": false
   },
   "outputs": [],
   "source": [
    "cc_dti_r2=stats.pearsonr(cc_vox[~gtab.b0s_mask], dti_cc[~gtab.b0s_mask])[0]**2\n",
    "cc_csd_r2=stats.pearsonr(cc_vox[~gtab.b0s_mask], csd_cc[~gtab.b0s_mask])[0]**2\n",
    "cso_dti_r2=stats.pearsonr(cso_vox[~gtab.b0s_mask], dti_cso[~gtab.b0s_mask])[0]**2\n",
    "cso_csd_r2=stats.pearsonr(cso_vox[~gtab.b0s_mask], csd_cso[~gtab.b0s_mask])[0]**2\n",
    "\n",
    "print(\"Corpus callosum\\n\"\n",
    "      \"DTI R2 : %s\\n\"\n",
    "      \"CSD R2 : %s\\n\"\n",
    "      \"\\n\"\n",
    "      \"Centrum Semiovale\\n\"\n",
    "      \"DTI R2 : %s\\n\"\n",
    "      \"CSD R2 : %s\\n\" % (cc_dti_r2, cc_csd_r2, cso_dti_r2, cso_csd_r2))"
   ]
  },
  {
   "cell_type": "code",
   "execution_count": null,
   "metadata": {
    "collapsed": false
   },
   "outputs": [],
   "source": [
    "outdir='/media/DiskArray/shared_data/js/bbc/defunct_data/test_dwi_out'\n",
    "import os\n",
    "os.chdir(outdir)\n",
    "from dipy.viz import fvtk\n",
    "ren = fvtk.ren()\n",
    "ren.SetBackground(1, 1, 1)\n",
    "colors_b2000 = fvtk.colors.blue * np.ones(gtab.bvecs.shape)\n",
    "fvtk.add(ren, fvtk.point(gtab.gradients, colors_b2000, point_radius=100))\n",
    "print('Saving illustration as stanford_hardi_gradients2.png')\n",
    "fvtk.record(ren, out_path='stanford_hardi_gradients2.png', size=(300, 300))\n",
    "fvtk.show(ren)"
   ]
  },
  {
   "cell_type": "markdown",
   "metadata": {
    "collapsed": false
   },
   "source": [
    "Mid Corpus callosum: x=73-74, y=99-100, z=27-28\n",
    "Centrum Semiovale: x=62-63, y=11-113, z=31-33"
   ]
  },
  {
   "cell_type": "code",
   "execution_count": 1,
   "metadata": {
    "collapsed": false
   },
   "outputs": [],
   "source": [
    "#shortcut skips masking and eddy. only does fitting\n",
    "%matplotlib inline\n",
    "import numpy as np\n",
    "import nibabel as nib\n",
    "import matplotlib.pyplot as plt\n",
    "from dipy.denoise.noise_estimate import estimate_sigma\n",
    "from time import time\n",
    "from dipy.denoise.non_local_means import non_local_means\n",
    "from dipy.denoise.adaptive_soft_matching import adaptive_soft_matching\n",
    "from os.path import join\n",
    "from dipy.core.gradients import gradient_table\n",
    "from dipy.io import read_bvals_bvecs\n",
    "from pylabs.utils.paths import getnetworkdataroot\n",
    "fs = getnetworkdataroot()\n",
    "#set up files post eddy\n",
    "project = 'bbc'\n",
    "subjid = [209]\n",
    "fname_templ = 'sub-bbc{sid}_ses-{snum}_{meth}_{runnum}'\n",
    "sespassqc = [1]\n",
    "methodpassqc = ['dti_15dir_b1000']\n",
    "runpassqc = [1]\n",
    "dwi_fnames = [fname_templ.format(sid=str(s), snum=str(ses), meth=m, runnum=str(r)) for s, ses, m, r in zip(subjid, sespassqc, methodpassqc, runpassqc)]\n",
    "#add for loop over dwi_fnames here:\n",
    "dwi_fname = dwi_fnames[0]\n",
    "fpath = join(fs, project, dwi_fname.split('_')[0] , dwi_fname.split('_')[1], 'dwi')\n",
    "fdwi = join(fpath, dwi_fname + '.nii')\n",
    "fbvecs = join(fpath, dwi_fname + '.bvecs')\n",
    "fbvals = join(fpath, dwi_fname + '.bvals')\n",
    "fbvecs_ec = join(fpath, dwi_fname + '_eddy_corrected.eddy_rotated_bvecs')\n",
    "S0_fname = join(fpath, dwi_fname + '_S0.nii')\n",
    "brain_outfname = S0_fname[: -6] + 'S0_brain'\n",
    "\n",
    "bvals_ec, bvecs_ec = read_bvals_bvecs(fbvals, fbvecs_ec)\n",
    "gtab_ec = gradient_table(bvals_ec, bvecs_ec)\n",
    "img = nib.load(fdwi)\n",
    "img_ec = nib.load(join(fpath, fdwi[:-4] + '_eddy_corrected.nii.gz'))\n",
    "data_ec = img_ec.get_data()\n",
    "mask_img = nib.load(brain_outfname + '_mask.nii')\n",
    "mask = mask_img.get_data()"
   ]
  },
  {
   "cell_type": "code",
   "execution_count": 2,
   "metadata": {
    "collapsed": false
   },
   "outputs": [],
   "source": [
    "#CC_vox_209 = data_ec[73:75,99:101,27:29]\n",
    "#CSO_vox_209 = data_ec[62:64, 111:114, 31:34]\n",
    "CC_vox_209 = data_ec[73,99,27]\n",
    "CSO_vox_209 = data_ec[62, 111, 31]\n"
   ]
  },
  {
   "cell_type": "code",
   "execution_count": 8,
   "metadata": {
    "collapsed": false
   },
   "outputs": [],
   "source": [
    "dti_model_209 = dti.TensorModel(gtab_ec)\n",
    "response_209, ratio_209 = csd.auto_response(gtab_ec, data_ec, roi_radius=10, fa_thr=0.7)\n",
    "csd_model_209 = csd.ConstrainedSphericalDeconvModel(gtab_ec, response_209)"
   ]
  },
  {
   "cell_type": "code",
   "execution_count": 9,
   "metadata": {
    "collapsed": false
   },
   "outputs": [],
   "source": [
    "dti_cc_209 = xval.kfold_xval(dti_model_209, CC_vox_209, 3)\n",
    "csd_cc_209 = xval.kfold_xval(csd_model_209, CC_vox_209, 3, response_209)\n",
    "dti_cso_209 = xval.kfold_xval(dti_model_209, CSO_vox_209, 3)\n",
    "csd_cso_209 = xval.kfold_xval(csd_model_209, CSO_vox_209, 3, response_209)"
   ]
  },
  {
   "cell_type": "code",
   "execution_count": 11,
   "metadata": {
    "collapsed": false
   },
   "outputs": [
    {
     "data": {
      "image/png": "[encoded data removed]",
      "text/plain": [
       "<matplotlib.figure.Figure at 0x7ffa08437150>"
      ]
     },
     "metadata": {},
     "output_type": "display_data"
    }
   ],
   "source": [
    "fig, ax = plt.subplots(1,2)\n",
    "fig.set_size_inches([12,6])\n",
    "ax[0].plot(CC_vox_209[~gtab_ec.b0s_mask], dti_cc_209[~gtab_ec.b0s_mask], 'o', color='b')\n",
    "ax[0].plot(CC_vox_209[~gtab_ec.b0s_mask], csd_cc_209[~gtab_ec.b0s_mask], 'o', color='r')\n",
    "ax[1].plot(CSO_vox_209[~gtab_ec.b0s_mask], dti_cso_209[~gtab_ec.b0s_mask], 'o', color='b', label='DTI')\n",
    "ax[1].plot(CSO_vox_209[~gtab_ec.b0s_mask], csd_cso_209[~gtab_ec.b0s_mask], 'o', color='r', label='CSD')\n",
    "plt.legend(loc='upper left')\n",
    "for this_ax in ax:\n",
    "    this_ax.set_xlabel('Data (relative to S0)')\n",
    "    this_ax.set_ylabel('Model prediction (relative to S0)')\n",
    "fig.savefig(\"model_predictions.png\")\n",
    "\n",
    "plt.show()"
   ]
  },
  {
   "cell_type": "code",
   "execution_count": 12,
   "metadata": {
    "collapsed": false
   },
   "outputs": [
    {
     "name": "stdout",
     "output_type": "stream",
     "text": [
      "Corpus callosum\n",
      "DTI R2 : 0.322591092687\n",
      "CSD R2 : 0.617425583494\n",
      "\n",
      "Centrum Semiovale\n",
      "DTI R2 : 0.758813673294\n",
      "CSD R2 : 0.576137946997\n",
      "\n"
     ]
    }
   ],
   "source": [
    "dti_cc_209_r2=stats.pearsonr(CC_vox_209[~gtab_ec.b0s_mask], dti_cc_209[~gtab_ec.b0s_mask])[0]**2\n",
    "csd_cc_209_r2=stats.pearsonr(CC_vox_209[~gtab_ec.b0s_mask], csd_cc_209[~gtab_ec.b0s_mask])[0]**2\n",
    "dti_cso_209_r2=stats.pearsonr(CSO_vox_209[~gtab_ec.b0s_mask], dti_cso_209[~gtab_ec.b0s_mask])[0]**2\n",
    "csd_cso_209_r2=stats.pearsonr(CSO_vox_209[~gtab_ec.b0s_mask], csd_cso_209[~gtab_ec.b0s_mask])[0]**2\n",
    "\n",
    "print(\"Corpus callosum\\n\"\n",
    "      \"DTI R2 : %s\\n\"\n",
    "      \"CSD R2 : %s\\n\"\n",
    "      \"\\n\"\n",
    "      \"Centrum Semiovale\\n\"\n",
    "      \"DTI R2 : %s\\n\"\n",
    "      \"CSD R2 : %s\\n\" % (dti_cc_209_r2, csd_cc_209_r2, dti_cso_209_r2, csd_cso_209_r2))"
   ]
  },
  {
   "cell_type": "code",
   "execution_count": null,
   "metadata": {
    "collapsed": true
   },
   "outputs": [],
   "source": []
  }
 ],
 "metadata": {
  "kernelspec": {
   "display_name": "Python 2",
   "language": "python",
   "name": "python2"
  },
  "language_info": {
   "codemirror_mode": {
    "name": "ipython",
    "version": 2
   },
   "file_extension": ".py",
   "mimetype": "text/x-python",
   "name": "python",
   "nbconvert_exporter": "python",
   "pygments_lexer": "ipython2",
   "version": "2.7.12"
  }
 },
 "nbformat": 4,
 "nbformat_minor": 0
}
