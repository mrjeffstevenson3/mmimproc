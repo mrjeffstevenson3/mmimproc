{
 "cells": [
  {
   "cell_type": "code",
   "execution_count": 15,
   "metadata": {},
   "outputs": [],
   "source": [
    "%matplotlib widget\n",
    "from pathlib import *\n",
    "import matplotlib.pyplot as plt\n",
    "plt.interactive(True)\n",
    "from mpl_toolkits import mplot3d\n",
    "from matplotlib import cm\n",
    "#import seaborn as sns\n",
    "#sns.set(color_codes=True)\n",
    "from mmimproc.utils import *\n",
    "from mmimproc.structural.brain_extraction import applymask, extract_brain\n",
    "import mmimproc as ip, nibabel as nib, dipy, numpy as np, pandas as pd\n",
    "pd.set_option('display.max_colwidth', 90)\n",
    "pd.set_option('display.max_columns', None)\n",
    "pd.set_option('display.width', 1000)\n",
    "pd.set_option('display.precision', 3)\n",
    "pd.options.display.float_format = \"{:,.3f}\".format"
   ]
  },
  {
   "cell_type": "code",
   "execution_count": 2,
   "metadata": {},
   "outputs": [
    {
     "name": "stdout",
     "output_type": "stream",
     "text": [
      "Niprov method [log] called but niprov switched off.\n",
      "Niprov method [log] called but niprov switched off.\n",
      "Niprov method [log] called but niprov switched off.\n"
     ]
    }
   ],
   "source": [
    "rest_fname = Path('/Users/mrjeffs/data/toddandclark/50048/session_1/rest_1/rest_50048.nii')\n",
    "rest_img = nib.load(rest_fname)\n",
    "rest_data = np.asanyarray(rest_img.dataobj).astype(np.float64)\n",
    "rest_meanvol = np.mean(rest_data, axis=(3))\n",
    "nib.save(nib.Nifti1Image(rest_meanvol, rest_img.affine, rest_img.header), append2fn(rest_fname, '_mean'))\n",
    "mean_brain, mean_mask, mean_brain_cropped = extract_brain(append2fn(rest_fname, '_mean'))\n",
    "mean_mask_img = nib.load(mean_mask)\n",
    "mean_mask_data = np.asarray(mean_mask_img.dataobj).astype(np.int64)\n",
    "rest_data_masked = applymask(rest_data, mean_mask_data)\n",
    "nib.save(nib.Nifti1Image(rest_data_masked, rest_img.affine, rest_img.header), append2fn(rest_fname, '_masked_brain'))\n",
    "rest_data_masked[rest_data_masked == 0] = np.nan\n",
    "rest_data_masked_slice_perc = np.nanpercentile(rest_data_masked,[25,50,75],axis=(0,1))\n",
    "rest_data_masked_slice_mean = np.nanmean(rest_data_masked, axis=(0,1))\n",
    "zSlicesStats = (rest_data_masked - rest_data_masked_slice_mean[None, ...]) /   \\\n",
    "    (rest_data_masked_slice_perc[2][None, ...] - rest_data_masked_slice_perc[0][None, ...])\n",
    "zSlicesStats_mean = np.nanmean(zSlicesStats, axis=(0,1))\n",
    "nib.save(nib.Nifti1Image(zSlicesStats, rest_img.affine, rest_img.header), append2fn(rest_fname, '_zslicesstats'))"
   ]
  },
  {
   "cell_type": "code",
   "execution_count": 39,
   "metadata": {},
   "outputs": [
    {
     "data": {
      "text/plain": [
       "0.19392435428169644"
      ]
     },
     "execution_count": 39,
     "metadata": {},
     "output_type": "execute_result"
    }
   ],
   "source": [
    "zSlicesStats[30,30,10,10]\n",
    "#print(Y.shape)"
   ]
  },
  {
   "cell_type": "code",
   "execution_count": 34,
   "metadata": {},
   "outputs": [
    {
     "data": {
      "application/vnd.jupyter.widget-view+json": {
       "model_id": "a49b823548a249ab912a206d033db9f5",
       "version_major": 2,
       "version_minor": 0
      },
      "text/plain": [
       "Canvas(toolbar=Toolbar(toolitems=[('Home', 'Reset original view', 'home', 'home'), ('Back', 'Back to previous …"
      ]
     },
     "metadata": {},
     "output_type": "display_data"
    }
   ],
   "source": [
    "#import numpy\n",
    "#import matplotlib.pyplot as plt\n",
    "#from mpl_toolkits.mplot3d import Axes3D\n",
    "\n",
    "# Set up grid and test data\n",
    "# nx, ny = 256, 1024  #  x and y shape of array\n",
    "# x = range(nx)\n",
    "# y = range(ny)\n",
    "\n",
    "# data = numpy.random.random((nx, ny)) # this is zSlicesStats_mean\n",
    "\n",
    "fig = plt.figure()\n",
    "ax = fig.gca(projection='3d')\n",
    "#ha = hf.add_subplot(111, projection='3d')\n",
    "\n",
    "X, Y = np.meshgrid(range(zSlicesStats_mean.shape[1]), range(zSlicesStats_mean.shape[0]))  # `plot_surface` expects `x` and `y` data to be 2D\n",
    "# ax.plot_surface(X, Y, zSlicesStats_mean.T)\n",
    "\n",
    "surf = ax.plot_wireframe(X, Y, zSlicesStats_mean) # , cmap=cm.coolwarm, linewidth=0, antialiased=False)\n",
    "\n",
    "plt.show()"
   ]
  },
  {
   "cell_type": "code",
   "execution_count": 7,
   "metadata": {},
   "outputs": [
    {
     "data": {
      "text/plain": [
       "(29, 200)"
      ]
     },
     "execution_count": 7,
     "metadata": {},
     "output_type": "execute_result"
    }
   ],
   "source": [
    "zSlicesStats_mean = np.nanmean(zSlicesStats, axis=(0,1))\n",
    "zSlicesStats_mean.shape"
   ]
  },
  {
   "cell_type": "code",
   "execution_count": 33,
   "metadata": {},
   "outputs": [
    {
     "data": {
      "text/plain": [
       "0.45949271479448756"
      ]
     },
     "execution_count": 33,
     "metadata": {},
     "output_type": "execute_result"
    }
   ],
   "source": [
    "np.set_printoptions(suppress=True)\n",
    "np.mean(zSlicesStats[20:40,20:40,15,10], axis=(0,1))"
   ]
  },
  {
   "cell_type": "code",
   "execution_count": 29,
   "metadata": {},
   "outputs": [
    {
     "data": {
      "text/plain": [
       "array([[ 1.13227573,  0.25491724,  0.45303045,  1.00963422,  0.83038894,\n",
       "         1.10397385,  0.75491724,  0.9907663 ,  1.36812479,  1.16057762,\n",
       "         0.59453988,  0.55680404,  0.97189838,  0.80208705,  0.066238  ,\n",
       "        -0.77338464,  0.27378517,  0.86812479,  0.39642668,  0.1417097 ],\n",
       "       [ 0.44359649,  0.23604932,  0.20774743,  1.00020026,  1.09453988,\n",
       "         0.85869083,  0.94359649,  0.92472856,  1.066238  ,  1.24548328,\n",
       "         0.84925687,  0.79265309,  1.24548328,  0.9152946 ,  0.31152102,\n",
       "        -0.62244125, -0.61300729,  0.08510592,  0.35869083, -0.14130917],\n",
       "       [ 0.24548328,  0.30208705,  0.28321913,  0.6417097 ,  1.066238  ,\n",
       "         1.05680404,  0.77378517,  0.69831347,  0.73604932,  0.80208705,\n",
       "         0.72661536,  0.50020026,  0.66057762,  0.53793611,  0.03793611,\n",
       "        -0.49979974, -0.37715823, -0.37715823, -0.23564879, -0.28281861],\n",
       "       [-0.10357332, -0.22621483, -0.01866766,  0.07567196,  0.40586064,\n",
       "         0.54737007,  0.12284177,  0.01906819,  0.3398229 ,  0.43416253,\n",
       "         0.13227573,  0.07567196, -0.02810162, -0.03753559, -0.27338464,\n",
       "        -0.51866766, -0.27338464, -0.33942238, -0.64130917, -0.6601771 ],\n",
       "       [ 0.21718139,  0.11340781, -0.09413936, -0.3582903 ,  0.00963422,\n",
       "         0.03793611,  0.10397385,  0.03793611,  0.03793611,  0.28321913,\n",
       "         0.18887951,  0.38699271,  0.38699271,  0.26435121,  0.27378517,\n",
       "         0.16057762,  0.00963422, -0.32055446, -0.59413936, -0.45262993],\n",
       "       [ 0.48133234,  0.34925687,  0.80208705,  0.68887951,  0.05680404,\n",
       "         0.12284177,  0.04737007,  0.04737007,  0.17001158,  0.18887951,\n",
       "         0.34925687,  0.33038894,  0.25491724,  0.33038894,  0.18887951,\n",
       "         0.17001158,  0.16057762,  0.00963422, -0.04696955, -0.0847054 ],\n",
       "       [ 0.00963422, -0.07527144,  0.4907663 ,  1.42472856,  1.48133234,\n",
       "         0.61340781,  0.24548328,  0.27378517,  0.04737007,  0.10397385,\n",
       "         0.1417097 ,  0.22661536,  0.1417097 ,  0.20774743,  0.11340781,\n",
       "         0.04737007, -0.06583747, -0.1601771 , -0.01866766, -0.14130917],\n",
       "       [-0.26395068, -0.11300729,  0.00963422,  0.71718139,  1.63227573,\n",
       "         1.1417097 ,  0.58510592,  0.47189838,  0.28321913,  0.28321913,\n",
       "         0.27378517,  0.69831347,  0.87755875,  1.08510592,  1.39642668,\n",
       "         1.07567196,  0.78321913,  0.67944554,  0.40586064,  0.12284177],\n",
       "       [ 0.03793611, -0.15074313, -0.17904502, -0.02810162,  0.57567196,\n",
       "         1.23604932,  1.07567196,  0.87755875,  1.21718139,  1.34925687,\n",
       "         0.62284177,  1.08510592,  1.54737007,  1.72661536,  1.80208705,\n",
       "         1.43416253,  1.62284177,  1.72661536,  1.1417097 ,  0.44359649],\n",
       "       [ 0.32095498, -0.17904502, -0.26395068,  0.04737007,  0.01906819,\n",
       "         0.12284177,  1.17944554,  1.37755875,  1.12284177,  1.47189838,\n",
       "         1.21718139,  1.29265309,  1.70774743,  1.3398229 ,  1.24548328,\n",
       "         1.39642668,  1.17001158,  0.74548328,  0.00963422,  0.00020026],\n",
       "       [ 1.1417097 ,  0.95303045,  0.90586064,  0.59453988,  0.27378517,\n",
       "         0.10397385,  0.08510592,  0.33038894,  0.50963422,  0.9907663 ,\n",
       "         1.55680404,  1.97189838,  1.48133234,  0.83038894,  0.94359649,\n",
       "         1.09453988,  0.40586064,  0.20774743, -0.04696955, -0.0847054 ],\n",
       "       [ 1.25491724,  0.35869083, -0.10357332,  0.36812479,  0.28321913,\n",
       "        -0.18847898, -0.04696955, -0.1601771 , -0.46206389, -0.05640351,\n",
       "         0.02850215,  0.19831347,  0.50963422,  0.47189838,  0.4152946 ,\n",
       "         0.27378517,  0.17944554, -0.03753559, -0.01866766,  1.10397385],\n",
       "       [ 1.42472856,  0.1417097 , -0.22621483,  0.80208705,  0.94359649,\n",
       "         0.33038894,  0.38699271,  0.45303045,  0.10397385,  0.066238  ,\n",
       "        -0.31112049, -0.433762  ,  0.1417097 ,  0.36812479,  0.27378517,\n",
       "         0.28321913,  0.40586064, -0.18847898, -1.3582903 , -0.52810162],\n",
       "       [ 1.34925687,  1.58510592,  1.53793611,  1.00963422,  0.95303045,\n",
       "         0.4907663 ,  0.33038894,  0.26435121,  0.4152946 ,  0.20774743,\n",
       "        -0.04696955,  0.31152102,  0.15114366,  0.05680404,  0.07567196,\n",
       "         0.19831347,  0.07567196,  0.07567196, -0.15074313, -0.17904502],\n",
       "       [ 0.82095498,  1.02850215,  1.21718139,  0.66057762, -0.53753559,\n",
       "        -0.59413936, -0.1601771 , -0.24508276, -0.09413936, -0.12244125,\n",
       "         0.55680404,  1.11340781,  0.566238  ,  0.27378517,  0.24548328,\n",
       "         0.03793611, -0.06583747,  0.09453988,  0.66057762,  1.52850215],\n",
       "       [ 0.93416253,  0.76435121,  0.86812479,  0.59453988, -0.0847054 ,\n",
       "        -0.22621483, -0.23564879,  0.28321913,  1.08510592,  1.1417097 ,\n",
       "         1.00963422,  1.45303045,  1.48133234,  1.19831347,  0.71718139,\n",
       "         0.16057762, -0.15074313,  0.10397385, -0.22621483, -0.07527144],\n",
       "       [ 0.21718139,  0.32095498,  0.01906819, -0.01866766, -0.13187521,\n",
       "        -0.01866766,  0.66057762,  1.51906819,  1.57567196,  1.4907663 ,\n",
       "         1.34925687,  1.39642668,  1.74548328,  1.72661536,  1.60397385,\n",
       "         1.31152102,  0.74548328,  0.39642668,  0.3398229 , -0.0092337 ],\n",
       "       [ 0.38699271,  0.1417097 ,  0.27378517,  0.62284177,  1.48133234,\n",
       "         1.63227573,  0.71718139,  1.13227573,  1.11340781,  0.94359649,\n",
       "         1.33038894,  1.46246441,  1.37755875,  1.36812479,  1.45303045,\n",
       "         1.25491724,  0.94359649,  0.57567196,  0.39642668,  0.10397385],\n",
       "       [ 0.43416253,  0.48133234,  0.96246441,  1.39642668,  2.05680404,\n",
       "         1.59453988,  0.87755875,  0.33038894,  0.12284177,  0.47189838,\n",
       "         0.27378517,  0.52850215,  0.58510592,  0.066238  ,  0.04737007,\n",
       "        -0.04696955, -0.32055446, -0.19791295, -0.1601771 , -0.19791295],\n",
       "       [ 0.18887951,  0.34925687,  0.27378517,  0.42472856,  0.20774743,\n",
       "         0.22661536,  0.37755875,  0.04737007,  0.066238  ,  0.3398229 ,\n",
       "         0.38699271,  0.17001158,  0.33038894,  0.19831347,  0.11340781,\n",
       "         0.20774743,  0.16057762, -0.05640351, -0.18847898, -0.03753559]])"
      ]
     },
     "execution_count": 29,
     "metadata": {},
     "output_type": "execute_result"
    }
   ],
   "source": [
    "zSlicesStats[20:40,20:40,15,10]"
   ]
  },
  {
   "cell_type": "code",
   "execution_count": 2,
   "metadata": {},
   "outputs": [],
   "source": [
    "from mpl_toolkits import mplot3d"
   ]
  },
  {
   "cell_type": "code",
   "execution_count": 3,
   "metadata": {},
   "outputs": [
    {
     "data": {
      "application/vnd.jupyter.widget-view+json": {
       "model_id": "abc93467fcbb414cb5172a01c393855c",
       "version_major": 2,
       "version_minor": 0
      },
      "text/plain": [
       "Canvas(toolbar=Toolbar(toolitems=[('Home', 'Reset original view', 'home', 'home'), ('Back', 'Back to previous …"
      ]
     },
     "metadata": {},
     "output_type": "display_data"
    }
   ],
   "source": [
    "def getZ(X, Y):\n",
    "    return np.sin(np.sqrt(X ** 2 + Y ** 2))\n",
    "\n",
    "X = np.linspace(-5, 5, 40)\n",
    "Y = np.linspace(-5, 5, 40)\n",
    "\n",
    "X, Y = np.meshgrid(X, Y)\n",
    "Z = getZ(X, Y)\n",
    "\n",
    "#%matplotlib notebook\n",
    "import matplotlib.pyplot as plt\n",
    "from mpl_toolkits import mplot3d\n",
    "fig = plt.figure()\n",
    "ax = plt.axes(projection=\"3d\")\n",
    "\n",
    "ax.plot_surface (X, Y, Z\n",
    "                , rstride=1 # default value is one\n",
    "                , cstride=1 # default value is one\n",
    "                , cmap='winter'\n",
    "                , edgecolor='none'\n",
    "                )\n",
    "ax.set_xlabel('X')\n",
    "ax.set_ylabel('Y')\n",
    "ax.set_zlabel('Z')\n",
    "ax.set_title('Surface Plot');\n",
    "plt.show()\n",
    "#plt.savefig('surface3D.png')"
   ]
  },
  {
   "cell_type": "code",
   "execution_count": null,
   "metadata": {},
   "outputs": [],
   "source": []
  }
 ],
 "metadata": {
  "kernelspec": {
   "display_name": "Python 3",
   "language": "python",
   "name": "python3"
  },
  "language_info": {
   "codemirror_mode": {
    "name": "ipython",
    "version": 3
   },
   "file_extension": ".py",
   "mimetype": "text/x-python",
   "name": "python",
   "nbconvert_exporter": "python",
   "pygments_lexer": "ipython3",
   "version": "3.6.11"
  }
 },
 "nbformat": 4,
 "nbformat_minor": 4
}
