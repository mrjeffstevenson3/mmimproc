{
 "cells": [
  {
   "cell_type": "code",
   "execution_count": 1,
   "metadata": {
    "collapsed": false
   },
   "outputs": [
    {
     "name": "stdout",
     "output_type": "stream",
     "text": [
      "../data/t1_factordata_coreg.pickle    ../data/t1_factordata.pickle\r\n",
      "../data/t1_factordata_nocoreg.pickle\r\n"
     ]
    }
   ],
   "source": [
    "from mpl_toolkits.mplot3d import axes3d\n",
    "from mpl_toolkits.mplot3d.axes3d import Axes3D\n",
    "import matplotlib.pyplot as plt\n",
    "from matplotlib import cm\n",
    "import numpy as np\n",
    "from matplotlib.dates import date2num\n",
    "import pickle\n",
    "import datetime\n",
    "import os\n",
    "!ls ../data/*.pickle"
   ]
  },
  {
   "cell_type": "code",
   "execution_count": 2,
   "metadata": {
    "collapsed": true
   },
   "outputs": [],
   "source": [
    "pfile1 = open('../data/t1_factordata.pickle', 'r')\n",
    "pfile2 = open('../data/t1_factordata_coreg.pickle', 'r')\n",
    "t1_factordata = pickle.load(pfile1)\n",
    "t1_factordata_coreg = pickle.load(pfile2)"
   ]
  },
  {
   "cell_type": "code",
   "execution_count": 3,
   "metadata": {
    "collapsed": false
   },
   "outputs": [],
   "source": [
    "def sig_loss(a, TR, T1):\n",
    "    from numpy import sin, cos, exp, radians\n",
    "    a = radians(a)\n",
    "    l = ((1-cos(a))*exp(-TR/T1))/(1-(cos(a)*exp(-TR/T1)))\n",
    "    return l"
   ]
  },
  {
   "cell_type": "code",
   "execution_count": 4,
   "metadata": {
    "collapsed": false
   },
   "outputs": [
    {
     "name": "stdout",
     "output_type": "stream",
     "text": [
      "(100.5995995995996, 2000.0, 0.0029437361408787251)\n"
     ]
    }
   ],
   "source": [
    "a = 1\n",
    "TR = np.linspace(1., 200., 1000)\n",
    "T1 = np.linspace(1., 2000., 1000)\n",
    "len(np.array(sig_loss(a, TR, T1)))\n",
    "print(TR[500], T1[999], sig_loss(a, TR[500], T1[999]))\n",
    "#sig_loss(a, TR, T1)"
   ]
  },
  {
   "cell_type": "code",
   "execution_count": 7,
   "metadata": {
    "collapsed": false
   },
   "outputs": [],
   "source": [
    "alpha = [7,10,15,20,30,40]\n",
    "TR = np.linspace(1., 100., 1000)\n",
    "T1 = np.linspace(1., 2000., 1000)\n",
    "num_subplots = len(alpha)\n",
    "TR, T1 = np.meshgrid(TR, T1)\n",
    "#fig = plt.figure( figsize=(24,6) )\n",
    "fig = plt.figure(figsize=plt.figaspect(0.5))\n",
    "for i,a in enumerate(alpha):\n",
    "    ax = fig.add_subplot(1 , num_subplots , i+1, projection='3d', axisbg='gray')\n",
    "    surf = ax.plot_wireframe(TR, T1, sig_loss(a, TR, T1) ,rstride=10, cstride=10, cmap=cm.coolwarm) \n",
    "                    #linewidth=0, antialiased=False)\n",
    "    ax.set_title('alpha = %.0f'%a,fontsize=15)\n",
    "    ax.set_zlim3d(-0.01, 1.01)\n",
    "    \n",
    "#fig.savefig('contours.png', facecolor='grey', edgecolor='none')\n",
    "#fig.colorbar(surf, shrink=0.5, aspect=10)\n",
    "plt.show()"
   ]
  },
  {
   "cell_type": "code",
   "execution_count": 47,
   "metadata": {
    "collapsed": false
   },
   "outputs": [],
   "source": [
    "from mpl_toolkits.mplot3d import axes3d\n",
    "import matplotlib.pyplot as plt\n",
    "from matplotlib import cm\n",
    "import numpy\n",
    "\n",
    "def sig_loss(a, TR, T1):\n",
    "    from numpy import sin, cos, exp, radians\n",
    "    a = radians(a)\n",
    "    l = ((1-cos(a))*exp(-TR/T1))/(1-(cos(a)*exp(-TR/T1)))\n",
    "    return l\n",
    "\n",
    "alpha = [7,10,15,20,30,40]\n",
    "T1_range = numpy.arange(50.0, 2000.0, 1.0).tolist()\n",
    "TR_range = numpy.arange(1.0, 100.0, 1.0).tolist()\n",
    "a = alpha[3]\n",
    "X = T1_range\n",
    "Y = TR_range\n",
    "X, Y = numpy.meshgrid(X, Y)\n",
    "sat = []\n",
    "for i in range(len(X)):\n",
    "    sat.append(sig_loss(a, Y[i], X[i]))\n",
    "\n",
    "Z = sat\n",
    "fig2 = plt.figure()\n",
    "az = fig2.gca(projection='3d')\n",
    "az.plot_surface(X, Y, Z, rstride=8, cstride=8, alpha=0.3, cmap=cm.coolwarm)\n",
    "#cset = az.contour(X, Y, Z, zdir='z', offset=numpy.min(Z)-1, cmap=cm.coolwarm)\n",
    "cset = az.contour(X, Y, Z, zdir='x', offset=numpy.min(X)-1, cmap=cm.coolwarm)\n",
    "cset = az.contour(X, Y, Z, zdir='y', offset=numpy.max(Y)+0.05, cmap=cm.coolwarm)\n",
    "az.set_xlabel('GM <-- T1 --> WM')\n",
    "az.set_xlim(numpy.min(X)-1, numpy.max(X)+1)\n",
    "az.set_ylabel('TR')\n",
    "az.set_ylim(numpy.min(Y)-1, numpy.max(Y)+1)\n",
    "az.set_zlabel('%saturation')\n",
    "az.set_zlim(numpy.min(Z)-0.1, numpy.max(Z)+0.1)\n",
    "az.set_title('Saturation for flip=%.0f Deg.'%a,fontsize=15)\n",
    "plt.show()"
   ]
  },
  {
   "cell_type": "code",
   "execution_count": 1,
   "metadata": {
    "collapsed": false
   },
   "outputs": [],
   "source": [
    "from mpl_toolkits.mplot3d import axes3d\n",
    "import matplotlib.pyplot as plt\n",
    "from matplotlib import cm\n",
    "import numpy\n",
    "from numpy import cos, sin, exp, radians, power\n",
    "\n",
    "def approachSSX(j, a, TR, T1, TE=4.6, T2s=50, M0=1.):\n",
    "    a = radians(a)\n",
    "    return M0 * sin(a) * step(a, TR, T1, j) * exp(-TE/T2s)\n",
    "\n",
    "def step(a, TR, T1, j):\n",
    "    return (sat(a, TR, T1) + power(cos(a)*exp(-TR/T1), j-1) * (1-sat(a, TR, T1)))\n",
    "\n",
    "def sat(a, TR, T1):\n",
    "    return (1-exp(-TR/T1)) / (1-cos(a)*exp(-TR/T1))\n",
    "\n",
    "def approachSS(j, a, TR, T1, TE, T2s=50, M0=1.):\n",
    "    a = radians(a)\n",
    "    return M0 * sin(a) * sub2(a, TR, T1, j) * exp(-TE/T2s)\n",
    "\n",
    "def sub(a, TR, T1):\n",
    "    return (1-exp(-TR/T1)) / (1-cos(a)*exp(-TR/T1))\n",
    "\n",
    "def sub2(a, TR, T1, j):\n",
    "    return (sub(a, TR, T1) + power(cos(a)*exp(-TR/T1), j-1) * (1-sub(a, TR, T1)))\n",
    "\n",
    "def sratio(a, TR, T1o, T1m):\n",
    "    return ((1-exp(-TR/T1m)) * (1-cos(a) * exp(-TR/T1o))) / ((1-cos(a) * exp(-TR/T1m)) * (1-exp(-TR/T1o)))\n",
    "\n",
    "\n",
    "alpha = [7,10,15,20,30,40]\n",
    "j_range = numpy.arange(1, 128, 1).tolist()\n",
    "\n",
    "T1_range = numpy.arange(50.0, 2000.0, 1.0).tolist()\n",
    "TR_range = numpy.arange(1.0, 100.0, 1.0).tolist()\n",
    "a = alpha[4]\n",
    "TR = 14\n",
    "X = T1_range\n",
    "Y = j_range\n",
    "#Y = TR_range\n",
    "X, Y = numpy.meshgrid(X, Y)\n",
    "sat = []\n",
    "for i in range(len(X)):\n",
    "    sat.append(approachSS(Y[i], a, TR, X[i], TE=4.6, T2s=50, M0=1.))\n",
    "\n",
    "Z = sat\n",
    "fig2 = plt.figure()\n",
    "az = fig2.gca(projection='3d')\n",
    "az.plot_surface(X, Y, Z, rstride=8, cstride=8, alpha=0.3, cmap=cm.coolwarm)\n",
    "#cset = az.contour(X, Y, Z, zdir='z', offset=numpy.min(Z)-1, cmap=cm.coolwarm)\n",
    "cset = az.contour(X, Y, Z, zdir='x', offset=numpy.max(X)+0.1, cmap=cm.coolwarm)\n",
    "cset = az.contour(X, Y, Z, zdir='y', offset=numpy.max(Y)+0.1, cmap=cm.coolwarm)\n",
    "az.set_xlabel('GM <-- T1 --> WM')\n",
    "az.set_xlim(numpy.min(X)-1, numpy.max(X)+1)\n",
    "az.set_ylabel('j value')\n",
    "az.set_ylim(numpy.min(Y)-1, numpy.max(Y)+1)\n",
    "az.set_zlabel('normalised signal (M0=1)')\n",
    "#az.set_zlim(numpy.min(Z)-0.1, numpy.max(Z)+0.1)\n",
    "az.set_zlim(0,1)\n",
    "#ax.set_zlim3d(0, 1)\n",
    "az.set_title('Approach to Steady State for TR=14 and flip=%.0f Deg.'%a,fontsize=15)\n",
    "plt.show()"
   ]
  },
  {
   "cell_type": "code",
   "execution_count": null,
   "metadata": {
    "collapsed": true
   },
   "outputs": [],
   "source": []
  }
 ],
 "metadata": {
  "kernelspec": {
   "display_name": "Python 2",
   "language": "python",
   "name": "python2"
  },
  "language_info": {
   "codemirror_mode": {
    "name": "ipython",
    "version": 2
   },
   "file_extension": ".py",
   "mimetype": "text/x-python",
   "name": "python",
   "nbconvert_exporter": "python",
   "pygments_lexer": "ipython2",
   "version": "2.7.11"
  }
 },
 "nbformat": 4,
 "nbformat_minor": 0
}
