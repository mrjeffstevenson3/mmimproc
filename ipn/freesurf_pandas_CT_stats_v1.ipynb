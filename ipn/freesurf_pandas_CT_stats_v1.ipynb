{
 "cells": [
  {
   "cell_type": "code",
   "execution_count": 1,
   "metadata": {
    "collapsed": true
   },
   "outputs": [],
   "source": [
    "%matplotlib inline\n",
    "from pathlib import *\n",
    "import pandas as pd\n",
    "import numpy as np\n",
    "import os, six\n",
    "import mne\n",
    "import nibabel as nib\n",
    "import math\n",
    "#from surfer import Brain\n",
    "import statsmodels as sm\n",
    "from scipy import stats as ss\n",
    "from IPython.core.display import HTML\n",
    "css = open('style-table.css').read() + open('style-notebook.css').read()\n",
    "HTML('<style>{}</style>'.format(css))\n",
    "pd.set_option('display.width', 999999)\n",
    "pd.options.display.max_colwidth = 250\n",
    "pd.options.display.max_rows = 999\n",
    "from pylabs.projects.bbc.pairing import dwipairing\n",
    "from pylabs.utils.paths import getnetworkdataroot\n",
    "fs = Path(getnetworkdataroot())"
   ]
  },
  {
   "cell_type": "code",
   "execution_count": 2,
   "metadata": {
    "collapsed": true
   },
   "outputs": [],
   "source": [
    "contrl_sid = ['sub-bbc209', 'sub-bbc211', 'sub-bbc208', 'sub-bbc202', 'sub-bbc249', 'sub-bbc241', 'sub-bbc243', 'sub-bbc231', 'sub-bbc253']\n",
    "foster_sid = ['sub-bbc101', 'sub-bbc105', 'sub-bbc106', 'sub-bbc108', 'sub-bbc113', 'sub-bbc116', 'sub-bbc118', 'sub-bbc119', 'sub-bbc120']\n",
    "lh_ct = pd.DataFrame.from_csv('/Users/mrjeffs/Documents/Research/data/bbc/freesurfer_stats_results/grp_parc_stats_lh_cortical_thickness.csv', index_col=None)\n",
    "rh_ct = pd.DataFrame.from_csv('/Users/mrjeffs/Documents/Research/data/bbc/freesurfer_stats_results/grp_parc_stats_rh_cortical_thickness.csv', index_col=None)"
   ]
  },
  {
   "cell_type": "code",
   "execution_count": 3,
   "metadata": {
    "collapsed": true
   },
   "outputs": [],
   "source": [
    "lh_ct['Subjid'] = lh_ct['lh.aparc.a2009s.thickness'].str.partition('/').drop([2,1], axis=1)\n",
    "lh_ct = lh_ct.set_index(['Subjid'])\n",
    "lh_ct = lh_ct.drop('lh.aparc.a2009s.thickness', axis=1)\n",
    "lh_ct = lh_ct.transpose().astype('float')\n",
    "rh_ct['Subjid'] = rh_ct['rh.aparc.a2009s.thickness'].str.partition('/').drop([2,1], axis=1)\n",
    "rh_ct = rh_ct.set_index(['Subjid'])\n",
    "rh_ct = rh_ct.drop('rh.aparc.a2009s.thickness', axis=1)\n",
    "rh_ct = rh_ct.transpose().astype('float')"
   ]
  },
  {
   "cell_type": "code",
   "execution_count": 4,
   "metadata": {
    "collapsed": true
   },
   "outputs": [],
   "source": [
    "lh_ct_ctrl = lh_ct[contrl_sid]\n",
    "lh_ct_fost = lh_ct[foster_sid]\n",
    "lh_ct['209-101'] = lh_ct['sub-bbc209'] - lh_ct['sub-bbc101']\n",
    "lh_ct['211-105'] = lh_ct['sub-bbc211'] - lh_ct['sub-bbc105']\n",
    "lh_ct['208-106'] = lh_ct['sub-bbc208'] - lh_ct['sub-bbc106']\n",
    "lh_ct['202-108'] = lh_ct['sub-bbc202'] - lh_ct['sub-bbc108']\n",
    "lh_ct['249-113'] = lh_ct['sub-bbc249'] - lh_ct['sub-bbc113']\n",
    "lh_ct['241-116'] = lh_ct['sub-bbc241'] - lh_ct['sub-bbc116']\n",
    "lh_ct['243-118'] = lh_ct['sub-bbc243'] - lh_ct['sub-bbc118']\n",
    "lh_ct['231-119'] = lh_ct['sub-bbc231'] - lh_ct['sub-bbc119']\n",
    "lh_ct['253-120'] = lh_ct['sub-bbc253'] - lh_ct['sub-bbc120']\n",
    "lh_paired_sub = lh_ct[['209-101', '211-105', '208-106', '202-108', '249-113', '241-116', '243-118', '231-119', '253-120']]\n",
    "lh_paired_sub = lh_paired_sub.transpose()"
   ]
  },
  {
   "cell_type": "code",
   "execution_count": 7,
   "metadata": {},
   "outputs": [
    {
     "data": {
      "text/plain": [
       "Subjid\n",
       "209-101    0.416\n",
       "211-105    0.103\n",
       "208-106    0.253\n",
       "202-108    0.125\n",
       "249-113    0.087\n",
       "241-116    0.624\n",
       "243-118    0.250\n",
       "231-119    0.013\n",
       "253-120    0.088\n",
       "Name: lh_S_precentral-inf-part_thickness, dtype: float64"
      ]
     },
     "execution_count": 7,
     "metadata": {},
     "output_type": "execute_result"
    }
   ],
   "source": [
    "lh_paired_sub['lh_S_precentral-inf-part_thickness']"
   ]
  },
  {
   "cell_type": "code",
   "execution_count": 7,
   "metadata": {},
   "outputs": [
    {
     "data": {
      "text/html": [
       "<div>\n",
       "<table border=\"1\" class=\"dataframe\">\n",
       "  <thead>\n",
       "    <tr style=\"text-align: right;\">\n",
       "      <th></th>\n",
       "      <th>lh-tstat</th>\n",
       "      <th>lh-p-value</th>\n",
       "    </tr>\n",
       "    <tr>\n",
       "      <th>Region</th>\n",
       "      <th></th>\n",
       "      <th></th>\n",
       "    </tr>\n",
       "  </thead>\n",
       "  <tbody>\n",
       "    <tr>\n",
       "      <th>S_orbital_med-olfact</th>\n",
       "      <td>3.899487</td>\n",
       "      <td>0.004548</td>\n",
       "    </tr>\n",
       "    <tr>\n",
       "      <th>S_precentral-inf-part</th>\n",
       "      <td>3.348454</td>\n",
       "      <td>0.010103</td>\n",
       "    </tr>\n",
       "    <tr>\n",
       "      <th>S_circular_insula_sup</th>\n",
       "      <td>3.010335</td>\n",
       "      <td>0.016805</td>\n",
       "    </tr>\n",
       "    <tr>\n",
       "      <th>G&amp;S_cingul-Ant</th>\n",
       "      <td>2.689453</td>\n",
       "      <td>0.027520</td>\n",
       "    </tr>\n",
       "    <tr>\n",
       "      <th>Lat_Fis-post</th>\n",
       "      <td>2.551150</td>\n",
       "      <td>0.034114</td>\n",
       "    </tr>\n",
       "    <tr>\n",
       "      <th>G_rectus</th>\n",
       "      <td>2.380454</td>\n",
       "      <td>0.044514</td>\n",
       "    </tr>\n",
       "  </tbody>\n",
       "</table>\n",
       "</div>"
      ],
      "text/plain": [
       "                       lh-tstat  lh-p-value\n",
       "Region                                     \n",
       "S_orbital_med-olfact   3.899487    0.004548\n",
       "S_precentral-inf-part  3.348454    0.010103\n",
       "S_circular_insula_sup  3.010335    0.016805\n",
       "G&S_cingul-Ant         2.689453    0.027520\n",
       "Lat_Fis-post           2.551150    0.034114\n",
       "G_rectus               2.380454    0.044514"
      ]
     },
     "execution_count": 7,
     "metadata": {},
     "output_type": "execute_result"
    }
   ],
   "source": [
    "lh_ct_stats = lh_paired_sub.apply(ss.ttest_1samp, axis=0, args=(0.0,)).apply(pd.Series)\n",
    "lh_ct_stats.columns = ['lh-tstat', 'lh-p-value']\n",
    "lh_ct_stats.index.name = 'Region'\n",
    "lh_ct_stats['Region'] = lh_ct_stats.index.str.replace('lh_', '').str.replace('_thickness', '')\n",
    "lh_sig_results = lh_ct_stats[lh_ct_stats['lh-p-value'] <= 0.05].sort_values(by='lh-p-value')\n",
    "lh_sig_results.set_index('Region')"
   ]
  },
  {
   "cell_type": "code",
   "execution_count": 8,
   "metadata": {
    "collapsed": true
   },
   "outputs": [],
   "source": [
    "rh_ct['209-101'] = rh_ct['sub-bbc209'] - rh_ct['sub-bbc101']\n",
    "rh_ct['211-105'] = rh_ct['sub-bbc211'] - rh_ct['sub-bbc105']\n",
    "rh_ct['208-106'] = rh_ct['sub-bbc208'] - rh_ct['sub-bbc106']\n",
    "rh_ct['202-108'] = rh_ct['sub-bbc202'] - rh_ct['sub-bbc108']\n",
    "rh_ct['249-113'] = rh_ct['sub-bbc249'] - rh_ct['sub-bbc113']\n",
    "rh_ct['241-116'] = rh_ct['sub-bbc241'] - rh_ct['sub-bbc116']\n",
    "rh_ct['243-118'] = rh_ct['sub-bbc243'] - rh_ct['sub-bbc118']\n",
    "rh_ct['231-119'] = rh_ct['sub-bbc231'] - rh_ct['sub-bbc119']\n",
    "rh_ct['253-120'] = rh_ct['sub-bbc253'] - rh_ct['sub-bbc120']\n",
    "rh_paired_sub = rh_ct[['209-101', '211-105', '208-106', '202-108', '249-113', '241-116', '243-118', '231-119', '253-120']]\n",
    "rh_paired_sub = rh_paired_sub.transpose()"
   ]
  },
  {
   "cell_type": "code",
   "execution_count": 9,
   "metadata": {},
   "outputs": [
    {
     "data": {
      "text/html": [
       "<div>\n",
       "<table border=\"1\" class=\"dataframe\">\n",
       "  <thead>\n",
       "    <tr style=\"text-align: right;\">\n",
       "      <th></th>\n",
       "      <th>rh-tstat</th>\n",
       "      <th>rh-p-value</th>\n",
       "    </tr>\n",
       "    <tr>\n",
       "      <th>Region</th>\n",
       "      <th></th>\n",
       "      <th></th>\n",
       "    </tr>\n",
       "  </thead>\n",
       "  <tbody>\n",
       "    <tr>\n",
       "      <th>S_front_inf</th>\n",
       "      <td>4.827615</td>\n",
       "      <td>0.001309</td>\n",
       "    </tr>\n",
       "    <tr>\n",
       "      <th>S_central</th>\n",
       "      <td>4.268221</td>\n",
       "      <td>0.002731</td>\n",
       "    </tr>\n",
       "    <tr>\n",
       "      <th>S_precentral-inf-part</th>\n",
       "      <td>4.050218</td>\n",
       "      <td>0.003683</td>\n",
       "    </tr>\n",
       "    <tr>\n",
       "      <th>S_orbital-H_Shaped</th>\n",
       "      <td>3.307658</td>\n",
       "      <td>0.010736</td>\n",
       "    </tr>\n",
       "    <tr>\n",
       "      <th>G&amp;S_cingul-Mid-Ant</th>\n",
       "      <td>2.943471</td>\n",
       "      <td>0.018611</td>\n",
       "    </tr>\n",
       "    <tr>\n",
       "      <th>S_occipital_ant</th>\n",
       "      <td>2.943132</td>\n",
       "      <td>0.018620</td>\n",
       "    </tr>\n",
       "    <tr>\n",
       "      <th>S_temporal_inf</th>\n",
       "      <td>2.786596</td>\n",
       "      <td>0.023682</td>\n",
       "    </tr>\n",
       "    <tr>\n",
       "      <th>S_front_sup</th>\n",
       "      <td>2.637716</td>\n",
       "      <td>0.029819</td>\n",
       "    </tr>\n",
       "    <tr>\n",
       "      <th>G_rectus</th>\n",
       "      <td>2.608000</td>\n",
       "      <td>0.031227</td>\n",
       "    </tr>\n",
       "  </tbody>\n",
       "</table>\n",
       "</div>"
      ],
      "text/plain": [
       "                       rh-tstat  rh-p-value\n",
       "Region                                     \n",
       "S_front_inf            4.827615    0.001309\n",
       "S_central              4.268221    0.002731\n",
       "S_precentral-inf-part  4.050218    0.003683\n",
       "S_orbital-H_Shaped     3.307658    0.010736\n",
       "G&S_cingul-Mid-Ant     2.943471    0.018611\n",
       "S_occipital_ant        2.943132    0.018620\n",
       "S_temporal_inf         2.786596    0.023682\n",
       "S_front_sup            2.637716    0.029819\n",
       "G_rectus               2.608000    0.031227"
      ]
     },
     "execution_count": 9,
     "metadata": {},
     "output_type": "execute_result"
    }
   ],
   "source": [
    "rh_ct_stats = rh_paired_sub.apply(ss.ttest_1samp, axis=0, args=(0.0,)).apply(pd.Series)\n",
    "rh_ct_stats.columns = ['rh-tstat', 'rh-p-value']\n",
    "rh_ct_stats.index.name = 'Region'\n",
    "rh_ct_stats['Region'] = rh_ct_stats.index.str.replace('rh_', '').str.replace('_thickness', '')\n",
    "rh_sig_results = rh_ct_stats[rh_ct_stats['rh-p-value'] <= 0.05].sort_values(by='rh-p-value')\n",
    "rh_sig_results.set_index('Region')"
   ]
  },
  {
   "cell_type": "code",
   "execution_count": 10,
   "metadata": {},
   "outputs": [
    {
     "data": {
      "text/html": [
       "<div>\n",
       "<table border=\"1\" class=\"dataframe\">\n",
       "  <thead>\n",
       "    <tr style=\"text-align: right;\">\n",
       "      <th></th>\n",
       "      <th>rh-tstat</th>\n",
       "      <th>rh-p-value</th>\n",
       "      <th>lh-tstat</th>\n",
       "      <th>lh-p-value</th>\n",
       "    </tr>\n",
       "    <tr>\n",
       "      <th>Region</th>\n",
       "      <th></th>\n",
       "      <th></th>\n",
       "      <th></th>\n",
       "      <th></th>\n",
       "    </tr>\n",
       "  </thead>\n",
       "  <tbody>\n",
       "    <tr>\n",
       "      <th>S_front_inf</th>\n",
       "      <td>4.82762</td>\n",
       "      <td>0.0013086</td>\n",
       "      <td></td>\n",
       "      <td></td>\n",
       "    </tr>\n",
       "    <tr>\n",
       "      <th>S_central</th>\n",
       "      <td>4.26822</td>\n",
       "      <td>0.00273076</td>\n",
       "      <td></td>\n",
       "      <td></td>\n",
       "    </tr>\n",
       "    <tr>\n",
       "      <th>S_precentral-inf-part</th>\n",
       "      <td>4.05022</td>\n",
       "      <td>0.00368309</td>\n",
       "      <td>3.34845</td>\n",
       "      <td>0.0101035</td>\n",
       "    </tr>\n",
       "    <tr>\n",
       "      <th>S_orbital-H_Shaped</th>\n",
       "      <td>3.30766</td>\n",
       "      <td>0.0107356</td>\n",
       "      <td></td>\n",
       "      <td></td>\n",
       "    </tr>\n",
       "    <tr>\n",
       "      <th>G&amp;S_cingul-Mid-Ant</th>\n",
       "      <td>2.94347</td>\n",
       "      <td>0.0186106</td>\n",
       "      <td></td>\n",
       "      <td></td>\n",
       "    </tr>\n",
       "    <tr>\n",
       "      <th>S_occipital_ant</th>\n",
       "      <td>2.94313</td>\n",
       "      <td>0.0186202</td>\n",
       "      <td></td>\n",
       "      <td></td>\n",
       "    </tr>\n",
       "    <tr>\n",
       "      <th>S_temporal_inf</th>\n",
       "      <td>2.7866</td>\n",
       "      <td>0.0236823</td>\n",
       "      <td></td>\n",
       "      <td></td>\n",
       "    </tr>\n",
       "    <tr>\n",
       "      <th>S_front_sup</th>\n",
       "      <td>2.63772</td>\n",
       "      <td>0.0298189</td>\n",
       "      <td></td>\n",
       "      <td></td>\n",
       "    </tr>\n",
       "    <tr>\n",
       "      <th>G_rectus</th>\n",
       "      <td>2.608</td>\n",
       "      <td>0.0312272</td>\n",
       "      <td>2.38045</td>\n",
       "      <td>0.0445141</td>\n",
       "    </tr>\n",
       "    <tr>\n",
       "      <th>S_orbital_med-olfact</th>\n",
       "      <td></td>\n",
       "      <td></td>\n",
       "      <td>3.89949</td>\n",
       "      <td>0.00454794</td>\n",
       "    </tr>\n",
       "    <tr>\n",
       "      <th>S_circular_insula_sup</th>\n",
       "      <td></td>\n",
       "      <td></td>\n",
       "      <td>3.01034</td>\n",
       "      <td>0.016805</td>\n",
       "    </tr>\n",
       "    <tr>\n",
       "      <th>G&amp;S_cingul-Ant</th>\n",
       "      <td></td>\n",
       "      <td></td>\n",
       "      <td>2.68945</td>\n",
       "      <td>0.02752</td>\n",
       "    </tr>\n",
       "    <tr>\n",
       "      <th>Lat_Fis-post</th>\n",
       "      <td></td>\n",
       "      <td></td>\n",
       "      <td>2.55115</td>\n",
       "      <td>0.0341135</td>\n",
       "    </tr>\n",
       "  </tbody>\n",
       "</table>\n",
       "</div>"
      ],
      "text/plain": [
       "                      rh-tstat  rh-p-value lh-tstat  lh-p-value\n",
       "Region                                                         \n",
       "S_front_inf            4.82762   0.0013086                     \n",
       "S_central              4.26822  0.00273076                     \n",
       "S_precentral-inf-part  4.05022  0.00368309  3.34845   0.0101035\n",
       "S_orbital-H_Shaped     3.30766   0.0107356                     \n",
       "G&S_cingul-Mid-Ant     2.94347   0.0186106                     \n",
       "S_occipital_ant        2.94313   0.0186202                     \n",
       "S_temporal_inf          2.7866   0.0236823                     \n",
       "S_front_sup            2.63772   0.0298189                     \n",
       "G_rectus                 2.608   0.0312272  2.38045   0.0445141\n",
       "S_orbital_med-olfact                        3.89949  0.00454794\n",
       "S_circular_insula_sup                       3.01034    0.016805\n",
       "G&S_cingul-Ant                              2.68945     0.02752\n",
       "Lat_Fis-post                                2.55115   0.0341135"
      ]
     },
     "execution_count": 10,
     "metadata": {},
     "output_type": "execute_result"
    }
   ],
   "source": [
    "rh_sig_results.merge(lh_sig_results, left_on='Region', right_on='Region', how='outer').fillna('').set_index('Region').sort_values(['rh-p-value', 'lh-p-value'])"
   ]
  },
  {
   "cell_type": "code",
   "execution_count": 4,
   "metadata": {
    "collapsed": true
   },
   "outputs": [],
   "source": [
    "import mayavi"
   ]
  },
  {
   "cell_type": "code",
   "execution_count": 3,
   "metadata": {
    "scrolled": true
   },
   "outputs": [
    {
     "name": "stderr",
     "output_type": "stream",
     "text": [
      "ERROR:root:An unexpected error occurred while tokenizing input\n",
      "The following traceback may be corrupted or invalid\n",
      "The error message is: ('EOF in multi-line string', (1, 0))\n",
      "\n"
     ]
    },
    {
     "ename": "ImportError",
     "evalue": "Could not import backend for traits\n_______________________________________________________________________________\nMake sure that you have either the TraitsBackendWx or the TraitsBackendQt\nprojects installed. If you installed Mayavi with easy_install, try\neasy_install <pkg_name>. easy_install Mayavi[app] will also work.\n\nIf you performed a source checkout, be sure to run 'python setup.py install'\nin Traits, TraitsGUI, and the Traits backend of your choice.\n\nAlso make sure that either wxPython or PyQT is installed.\nwxPython: http://www.wxpython.org/\nPyQT: http://www.riverbankcomputing.co.uk/software/pyqt/intro\n",
     "output_type": "error",
     "traceback": [
      "\u001b[0;31m---------------------------------------------------------------------------\u001b[0m",
      "\u001b[0;31mImportError\u001b[0m                               Traceback (most recent call last)",
      "\u001b[0;32m<ipython-input-3-11d41eff215a>\u001b[0m in \u001b[0;36m<module>\u001b[0;34m()\u001b[0m\n\u001b[1;32m      1\u001b[0m \u001b[0mos\u001b[0m\u001b[0;34m.\u001b[0m\u001b[0menviron\u001b[0m\u001b[0;34m[\u001b[0m\u001b[0;34m'SUBJECTS_DIR'\u001b[0m\u001b[0;34m]\u001b[0m \u001b[0;34m=\u001b[0m \u001b[0mstr\u001b[0m\u001b[0;34m(\u001b[0m\u001b[0mfs\u001b[0m \u001b[0;34m/\u001b[0m \u001b[0;34m'bbc'\u001b[0m \u001b[0;34m/\u001b[0m \u001b[0;34m'reg'\u001b[0m \u001b[0;34m/\u001b[0m \u001b[0;34m'ants_vbm_pairedLH_in_template_space'\u001b[0m\u001b[0;34m)\u001b[0m\u001b[0;34m\u001b[0m\u001b[0m\n\u001b[0;32m----> 2\u001b[0;31m \u001b[0mtempl\u001b[0m \u001b[0;34m=\u001b[0m \u001b[0mBrain\u001b[0m\u001b[0;34m(\u001b[0m\u001b[0;34m\"template_hires_br_freesurf_v6\"\u001b[0m\u001b[0;34m,\u001b[0m \u001b[0;34m'lh'\u001b[0m\u001b[0;34m,\u001b[0m \u001b[0;34m'white'\u001b[0m\u001b[0;34m)\u001b[0m\u001b[0;34m\u001b[0m\u001b[0m\n\u001b[0m",
      "\u001b[0;32m/Users/mrjeffs/Software/PySurfer/surfer/viz.pyc\u001b[0m in \u001b[0;36m__init__\u001b[0;34m(self, subject_id, hemi, surf, title, cortex, alpha, size, background, foreground, figure, subjects_dir, views, offset, show_toolbar, offscreen, interaction, config_opts, curv)\u001b[0m\n\u001b[1;32m    450\u001b[0m         figures, _v = _make_viewer(figure, n_row, n_col, title,\n\u001b[1;32m    451\u001b[0m                                    \u001b[0mself\u001b[0m\u001b[0;34m.\u001b[0m\u001b[0m_scene_size\u001b[0m\u001b[0;34m,\u001b[0m \u001b[0moffscreen\u001b[0m\u001b[0;34m,\u001b[0m\u001b[0;34m\u001b[0m\u001b[0m\n\u001b[0;32m--> 452\u001b[0;31m                                    interaction)\n\u001b[0m\u001b[1;32m    453\u001b[0m         \u001b[0mself\u001b[0m\u001b[0;34m.\u001b[0m\u001b[0m_figures\u001b[0m \u001b[0;34m=\u001b[0m \u001b[0mfigures\u001b[0m\u001b[0;34m\u001b[0m\u001b[0m\n\u001b[1;32m    454\u001b[0m         \u001b[0mself\u001b[0m\u001b[0;34m.\u001b[0m\u001b[0m_v\u001b[0m \u001b[0;34m=\u001b[0m \u001b[0m_v\u001b[0m\u001b[0;34m\u001b[0m\u001b[0m\n",
      "\u001b[0;32m/Users/mrjeffs/Software/PySurfer/surfer/viz.pyc\u001b[0m in \u001b[0;36m_make_viewer\u001b[0;34m(figure, n_row, n_col, title, scene_size, offscreen, interaction)\u001b[0m\n\u001b[1;32m    215\u001b[0m             \u001b[0;32mif\u001b[0m \u001b[0mn_row\u001b[0m \u001b[0;34m==\u001b[0m \u001b[0;36m1\u001b[0m \u001b[0;32mand\u001b[0m \u001b[0mn_col\u001b[0m \u001b[0;34m==\u001b[0m \u001b[0;36m1\u001b[0m\u001b[0;34m:\u001b[0m\u001b[0;34m\u001b[0m\u001b[0m\n\u001b[1;32m    216\u001b[0m                 \u001b[0;32mwith\u001b[0m \u001b[0mwarnings\u001b[0m\u001b[0;34m.\u001b[0m\u001b[0mcatch_warnings\u001b[0m\u001b[0;34m(\u001b[0m\u001b[0mrecord\u001b[0m\u001b[0;34m=\u001b[0m\u001b[0mTrue\u001b[0m\u001b[0;34m)\u001b[0m\u001b[0;34m:\u001b[0m  \u001b[0;31m# traits\u001b[0m\u001b[0;34m\u001b[0m\u001b[0m\n\u001b[0;32m--> 217\u001b[0;31m                     \u001b[0mfigure\u001b[0m \u001b[0;34m=\u001b[0m \u001b[0mmlab\u001b[0m\u001b[0;34m.\u001b[0m\u001b[0mfigure\u001b[0m\u001b[0;34m(\u001b[0m\u001b[0mtitle\u001b[0m\u001b[0;34m,\u001b[0m \u001b[0msize\u001b[0m\u001b[0;34m=\u001b[0m\u001b[0;34m(\u001b[0m\u001b[0mw\u001b[0m\u001b[0;34m,\u001b[0m \u001b[0mh\u001b[0m\u001b[0;34m)\u001b[0m\u001b[0;34m)\u001b[0m\u001b[0;34m\u001b[0m\u001b[0m\n\u001b[0m\u001b[1;32m    218\u001b[0m                 \u001b[0mmlab\u001b[0m\u001b[0;34m.\u001b[0m\u001b[0mclf\u001b[0m\u001b[0;34m(\u001b[0m\u001b[0mfigure\u001b[0m\u001b[0;34m)\u001b[0m\u001b[0;34m\u001b[0m\u001b[0m\n\u001b[1;32m    219\u001b[0m                 \u001b[0mfigures\u001b[0m \u001b[0;34m=\u001b[0m \u001b[0;34m[\u001b[0m\u001b[0;34m[\u001b[0m\u001b[0mfigure\u001b[0m\u001b[0;34m]\u001b[0m\u001b[0;34m]\u001b[0m\u001b[0;34m\u001b[0m\u001b[0m\n",
      "\u001b[0;32m/Users/mrjeffs/Software/mayavi/mayavi/tools/figure.pyc\u001b[0m in \u001b[0;36mfigure\u001b[0;34m(figure, bgcolor, fgcolor, engine, size)\u001b[0m\n\u001b[1;32m     61\u001b[0m     \u001b[0;32melse\u001b[0m\u001b[0;34m:\u001b[0m\u001b[0;34m\u001b[0m\u001b[0m\n\u001b[1;32m     62\u001b[0m         \u001b[0;32mif\u001b[0m \u001b[0mengine\u001b[0m \u001b[0;32mis\u001b[0m \u001b[0mNone\u001b[0m\u001b[0;34m:\u001b[0m\u001b[0;34m\u001b[0m\u001b[0m\n\u001b[0;32m---> 63\u001b[0;31m             \u001b[0mengine\u001b[0m \u001b[0;34m=\u001b[0m \u001b[0mget_engine\u001b[0m\u001b[0;34m(\u001b[0m\u001b[0;34m)\u001b[0m\u001b[0;34m\u001b[0m\u001b[0m\n\u001b[0m\u001b[1;32m     64\u001b[0m         \u001b[0;32mif\u001b[0m \u001b[0mfigure\u001b[0m \u001b[0;32mis\u001b[0m \u001b[0mNone\u001b[0m\u001b[0;34m:\u001b[0m\u001b[0;34m\u001b[0m\u001b[0m\n\u001b[1;32m     65\u001b[0m             \u001b[0mname\u001b[0m \u001b[0;34m=\u001b[0m \u001b[0mmax\u001b[0m\u001b[0;34m(\u001b[0m\u001b[0m__scene_number_list\u001b[0m\u001b[0;34m)\u001b[0m \u001b[0;34m+\u001b[0m \u001b[0;36m1\u001b[0m\u001b[0;34m\u001b[0m\u001b[0m\n",
      "\u001b[0;32m/Users/mrjeffs/Software/mayavi/mayavi/tools/engine_manager.pyc\u001b[0m in \u001b[0;36mget_engine\u001b[0;34m(self)\u001b[0m\n\u001b[1;32m     99\u001b[0m                                 if e.__class__.__name__ == 'Engine']\n\u001b[1;32m    100\u001b[0m         \u001b[0;32mif\u001b[0m \u001b[0mlen\u001b[0m\u001b[0;34m(\u001b[0m\u001b[0msuitable\u001b[0m\u001b[0;34m)\u001b[0m \u001b[0;34m==\u001b[0m \u001b[0;36m0\u001b[0m\u001b[0;34m:\u001b[0m\u001b[0;34m\u001b[0m\u001b[0m\n\u001b[0;32m--> 101\u001b[0;31m             \u001b[0;32mreturn\u001b[0m \u001b[0mself\u001b[0m\u001b[0;34m.\u001b[0m\u001b[0mnew_engine\u001b[0m\u001b[0;34m(\u001b[0m\u001b[0;34m)\u001b[0m\u001b[0;34m\u001b[0m\u001b[0m\n\u001b[0m\u001b[1;32m    102\u001b[0m         \u001b[0;32melse\u001b[0m\u001b[0;34m:\u001b[0m\u001b[0;34m\u001b[0m\u001b[0m\n\u001b[1;32m    103\u001b[0m             \u001b[0;31m# Return the most engine add to the list most recently.\u001b[0m\u001b[0;34m\u001b[0m\u001b[0;34m\u001b[0m\u001b[0m\n",
      "\u001b[0;32m/Users/mrjeffs/Software/mayavi/mayavi/tools/engine_manager.pyc\u001b[0m in \u001b[0;36mnew_engine\u001b[0;34m(self)\u001b[0m\n\u001b[1;32m    144\u001b[0m             \u001b[0moptions\u001b[0m\u001b[0;34m.\u001b[0m\u001b[0;34m\u001b[0m\u001b[0m\n\u001b[1;32m    145\u001b[0m         \"\"\"\n\u001b[0;32m--> 146\u001b[0;31m         \u001b[0mcheck_backend\u001b[0m\u001b[0;34m(\u001b[0m\u001b[0;34m)\u001b[0m\u001b[0;34m\u001b[0m\u001b[0m\n\u001b[0m\u001b[1;32m    147\u001b[0m         \u001b[0;32mif\u001b[0m \u001b[0moptions\u001b[0m\u001b[0;34m.\u001b[0m\u001b[0mbackend\u001b[0m \u001b[0;34m==\u001b[0m \u001b[0;34m'envisage'\u001b[0m\u001b[0;34m:\u001b[0m\u001b[0;34m\u001b[0m\u001b[0m\n\u001b[1;32m    148\u001b[0m             \u001b[0;32mfrom\u001b[0m \u001b[0mmayavi\u001b[0m\u001b[0;34m.\u001b[0m\u001b[0mplugins\u001b[0m\u001b[0;34m.\u001b[0m\u001b[0mapp\u001b[0m \u001b[0;32mimport\u001b[0m \u001b[0mMayavi\u001b[0m\u001b[0;34m\u001b[0m\u001b[0m\n",
      "\u001b[0;32m/Users/mrjeffs/Software/mayavi/mayavi/tools/engine_manager.pyc\u001b[0m in \u001b[0;36mcheck_backend\u001b[0;34m()\u001b[0m\n\u001b[1;32m     47\u001b[0m \u001b[0mwxPython\u001b[0m\u001b[0;34m:\u001b[0m \u001b[0mhttp\u001b[0m\u001b[0;34m:\u001b[0m\u001b[0;34m//\u001b[0m\u001b[0mwww\u001b[0m\u001b[0;34m.\u001b[0m\u001b[0mwxpython\u001b[0m\u001b[0;34m.\u001b[0m\u001b[0morg\u001b[0m\u001b[0;34m/\u001b[0m\u001b[0;34m\u001b[0m\u001b[0m\n\u001b[1;32m     48\u001b[0m \u001b[0mPyQT\u001b[0m\u001b[0;34m:\u001b[0m \u001b[0mhttp\u001b[0m\u001b[0;34m:\u001b[0m\u001b[0;34m//\u001b[0m\u001b[0mwww\u001b[0m\u001b[0;34m.\u001b[0m\u001b[0mriverbankcomputing\u001b[0m\u001b[0;34m.\u001b[0m\u001b[0mco\u001b[0m\u001b[0;34m.\u001b[0m\u001b[0muk\u001b[0m\u001b[0;34m/\u001b[0m\u001b[0msoftware\u001b[0m\u001b[0;34m/\u001b[0m\u001b[0mpyqt\u001b[0m\u001b[0;34m/\u001b[0m\u001b[0mintro\u001b[0m\u001b[0;34m\u001b[0m\u001b[0m\n\u001b[0;32m---> 49\u001b[0;31m ''')\n\u001b[0m\u001b[1;32m     50\u001b[0m \u001b[0;34m\u001b[0m\u001b[0m\n\u001b[1;32m     51\u001b[0m \u001b[0;34m\u001b[0m\u001b[0m\n",
      "\u001b[0;31mImportError\u001b[0m: Could not import backend for traits\n_______________________________________________________________________________\nMake sure that you have either the TraitsBackendWx or the TraitsBackendQt\nprojects installed. If you installed Mayavi with easy_install, try\neasy_install <pkg_name>. easy_install Mayavi[app] will also work.\n\nIf you performed a source checkout, be sure to run 'python setup.py install'\nin Traits, TraitsGUI, and the Traits backend of your choice.\n\nAlso make sure that either wxPython or PyQT is installed.\nwxPython: http://www.wxpython.org/\nPyQT: http://www.riverbankcomputing.co.uk/software/pyqt/intro\n"
     ]
    }
   ],
   "source": [
    "os.environ['SUBJECTS_DIR'] = str(fs / 'bbc' / 'reg' / 'ants_vbm_pairedLH_in_template_space')\n",
    "templ = Brain(\"template_hires_br_freesurf_v6\", 'lh', 'white')"
   ]
  },
  {
   "cell_type": "code",
   "execution_count": 34,
   "metadata": {
    "scrolled": true
   },
   "outputs": [
    {
     "name": "stdout",
     "output_type": "stream",
     "text": [
      "Reading labels from parcellation..\n",
      "   read 75 labels from /Users/mrjeffs/Documents/Research/data/bbc/reg/ants_vbm_pairedLH_in_template_space/template_hires_br_freesurf_v6/label/lh.aparc.a2009s.annot\n",
      "[done]\n"
     ]
    },
    {
     "data": {
      "text/plain": [
       "[<Label  |  template_hires_br_freesurf_v6, u'G&S_cingul-Ant-lh', lh : 2027 vertices>,\n",
       " <Label  |  template_hires_br_freesurf_v6, u'G&S_cingul-Mid-Ant-lh', lh : 1259 vertices>,\n",
       " <Label  |  template_hires_br_freesurf_v6, u'G&S_cingul-Mid-Post-lh', lh : 1451 vertices>,\n",
       " <Label  |  template_hires_br_freesurf_v6, u'G&S_frontomargin-lh', lh : 1167 vertices>,\n",
       " <Label  |  template_hires_br_freesurf_v6, u'G&S_occipital_inf-lh', lh : 1840 vertices>,\n",
       " <Label  |  template_hires_br_freesurf_v6, u'G&S_paracentral-lh', lh : 2351 vertices>,\n",
       " <Label  |  template_hires_br_freesurf_v6, u'G&S_subcentral-lh', lh : 1511 vertices>,\n",
       " <Label  |  template_hires_br_freesurf_v6, u'G&S_transv_frontopol-lh', lh : 908 vertices>,\n",
       " <Label  |  template_hires_br_freesurf_v6, u'G_Ins_lg&S_cent_ins-lh', lh : 915 vertices>,\n",
       " <Label  |  template_hires_br_freesurf_v6, u'G_cingul-Post-dorsal-lh', lh : 696 vertices>,\n",
       " <Label  |  template_hires_br_freesurf_v6, u'G_cingul-Post-ventral-lh', lh : 319 vertices>,\n",
       " <Label  |  template_hires_br_freesurf_v6, u'G_cuneus-lh', lh : 2350 vertices>,\n",
       " <Label  |  template_hires_br_freesurf_v6, u'G_front_inf-Opercular-lh', lh : 1722 vertices>,\n",
       " <Label  |  template_hires_br_freesurf_v6, u'G_front_inf-Orbital-lh', lh : 420 vertices>,\n",
       " <Label  |  template_hires_br_freesurf_v6, u'G_front_inf-Triangul-lh', lh : 1288 vertices>,\n",
       " <Label  |  template_hires_br_freesurf_v6, u'G_front_middle-lh', lh : 5118 vertices>,\n",
       " <Label  |  template_hires_br_freesurf_v6, u'G_front_sup-lh', lh : 7308 vertices>,\n",
       " <Label  |  template_hires_br_freesurf_v6, u'G_insular_short-lh', lh : 714 vertices>,\n",
       " <Label  |  template_hires_br_freesurf_v6, u'G_oc-temp_lat-fusifor-lh', lh : 1904 vertices>,\n",
       " <Label  |  template_hires_br_freesurf_v6, u'G_oc-temp_med-Lingual-lh', lh : 3145 vertices>,\n",
       " <Label  |  template_hires_br_freesurf_v6, u'G_oc-temp_med-Parahip-lh', lh : 1481 vertices>,\n",
       " <Label  |  template_hires_br_freesurf_v6, u'G_occipital_middle-lh', lh : 2802 vertices>,\n",
       " <Label  |  template_hires_br_freesurf_v6, u'G_occipital_sup-lh', lh : 1764 vertices>,\n",
       " <Label  |  template_hires_br_freesurf_v6, u'G_orbital-lh', lh : 2796 vertices>,\n",
       " <Label  |  template_hires_br_freesurf_v6, u'G_pariet_inf-Angular-lh', lh : 2574 vertices>,\n",
       " <Label  |  template_hires_br_freesurf_v6, u'G_pariet_inf-Supramar-lh', lh : 2914 vertices>,\n",
       " <Label  |  template_hires_br_freesurf_v6, u'G_parietal_sup-lh', lh : 3754 vertices>,\n",
       " <Label  |  template_hires_br_freesurf_v6, u'G_postcentral-lh', lh : 3157 vertices>,\n",
       " <Label  |  template_hires_br_freesurf_v6, u'G_precentral-lh', lh : 2988 vertices>,\n",
       " <Label  |  template_hires_br_freesurf_v6, u'G_precuneus-lh', lh : 2679 vertices>,\n",
       " <Label  |  template_hires_br_freesurf_v6, u'G_rectus-lh', lh : 1319 vertices>,\n",
       " <Label  |  template_hires_br_freesurf_v6, u'G_subcallosal-lh', lh : 221 vertices>,\n",
       " <Label  |  template_hires_br_freesurf_v6, u'G_temp_sup-G_T_transv-lh', lh : 660 vertices>,\n",
       " <Label  |  template_hires_br_freesurf_v6, u'G_temp_sup-Lateral-lh', lh : 1947 vertices>,\n",
       " <Label  |  template_hires_br_freesurf_v6, u'G_temp_sup-Plan_polar-lh', lh : 1029 vertices>,\n",
       " <Label  |  template_hires_br_freesurf_v6, u'G_temp_sup-Plan_tempo-lh', lh : 851 vertices>,\n",
       " <Label  |  template_hires_br_freesurf_v6, u'G_temporal_inf-lh', lh : 3134 vertices>,\n",
       " <Label  |  template_hires_br_freesurf_v6, u'G_temporal_middle-lh', lh : 2742 vertices>,\n",
       " <Label  |  template_hires_br_freesurf_v6, u'Lat_Fis-ant-Horizont-lh', lh : 272 vertices>,\n",
       " <Label  |  template_hires_br_freesurf_v6, u'Lat_Fis-ant-Vertical-lh', lh : 233 vertices>,\n",
       " <Label  |  template_hires_br_freesurf_v6, u'Lat_Fis-post-lh', lh : 1228 vertices>,\n",
       " <Label  |  template_hires_br_freesurf_v6, u'Pole_occipital-lh', lh : 2577 vertices>,\n",
       " <Label  |  template_hires_br_freesurf_v6, u'Pole_temporal-lh', lh : 1727 vertices>,\n",
       " <Label  |  template_hires_br_freesurf_v6, u'S_calcarine-lh', lh : 2670 vertices>,\n",
       " <Label  |  template_hires_br_freesurf_v6, u'S_central-lh', lh : 3271 vertices>,\n",
       " <Label  |  template_hires_br_freesurf_v6, u'S_cingul-Marginalis-lh', lh : 1308 vertices>,\n",
       " <Label  |  template_hires_br_freesurf_v6, u'S_circular_insula_ant-lh', lh : 604 vertices>,\n",
       " <Label  |  template_hires_br_freesurf_v6, u'S_circular_insula_inf-lh', lh : 1682 vertices>,\n",
       " <Label  |  template_hires_br_freesurf_v6, u'S_circular_insula_sup-lh', lh : 2111 vertices>,\n",
       " <Label  |  template_hires_br_freesurf_v6, u'S_collat_transv_ant-lh', lh : 1092 vertices>,\n",
       " <Label  |  template_hires_br_freesurf_v6, u'S_collat_transv_post-lh', lh : 367 vertices>,\n",
       " <Label  |  template_hires_br_freesurf_v6, u'S_front_inf-lh', lh : 2151 vertices>,\n",
       " <Label  |  template_hires_br_freesurf_v6, u'S_front_middle-lh', lh : 1708 vertices>,\n",
       " <Label  |  template_hires_br_freesurf_v6, u'S_front_sup-lh', lh : 2707 vertices>,\n",
       " <Label  |  template_hires_br_freesurf_v6, u'S_interm_prim-Jensen-lh', lh : 242 vertices>,\n",
       " <Label  |  template_hires_br_freesurf_v6, u'S_intrapariet&P_trans-lh', lh : 3589 vertices>,\n",
       " <Label  |  template_hires_br_freesurf_v6, u'S_oc-temp_lat-lh', lh : 981 vertices>,\n",
       " <Label  |  template_hires_br_freesurf_v6, u'S_oc-temp_med&Lingual-lh', lh : 2089 vertices>,\n",
       " <Label  |  template_hires_br_freesurf_v6, u'S_oc_middle&Lunatus-lh', lh : 1006 vertices>,\n",
       " <Label  |  template_hires_br_freesurf_v6, u'S_oc_sup&transversal-lh', lh : 1223 vertices>,\n",
       " <Label  |  template_hires_br_freesurf_v6, u'S_occipital_ant-lh', lh : 914 vertices>,\n",
       " <Label  |  template_hires_br_freesurf_v6, u'S_orbital-H_Shaped-lh', lh : 1444 vertices>,\n",
       " <Label  |  template_hires_br_freesurf_v6, u'S_orbital_lateral-lh', lh : 278 vertices>,\n",
       " <Label  |  template_hires_br_freesurf_v6, u'S_orbital_med-olfact-lh', lh : 857 vertices>,\n",
       " <Label  |  template_hires_br_freesurf_v6, u'S_parieto_occipital-lh', lh : 2222 vertices>,\n",
       " <Label  |  template_hires_br_freesurf_v6, u'S_pericallosal-lh', lh : 1796 vertices>,\n",
       " <Label  |  template_hires_br_freesurf_v6, u'S_postcentral-lh', lh : 3045 vertices>,\n",
       " <Label  |  template_hires_br_freesurf_v6, u'S_precentral-inf-part-lh', lh : 1483 vertices>,\n",
       " <Label  |  template_hires_br_freesurf_v6, u'S_precentral-sup-part-lh', lh : 1468 vertices>,\n",
       " <Label  |  template_hires_br_freesurf_v6, u'S_suborbital-lh', lh : 938 vertices>,\n",
       " <Label  |  template_hires_br_freesurf_v6, u'S_subparietal-lh', lh : 1178 vertices>,\n",
       " <Label  |  template_hires_br_freesurf_v6, u'S_temporal_inf-lh', lh : 1957 vertices>,\n",
       " <Label  |  template_hires_br_freesurf_v6, u'S_temporal_sup-lh', lh : 5553 vertices>,\n",
       " <Label  |  template_hires_br_freesurf_v6, u'S_temporal_transverse-lh', lh : 480 vertices>,\n",
       " <Label  |  template_hires_br_freesurf_v6, u'Unknown-lh', lh : 9691 vertices>]"
      ]
     },
     "execution_count": 34,
     "metadata": {},
     "output_type": "execute_result"
    }
   ],
   "source": [
    "file = '/Users/mrjeffs/Documents/Research/data/bbc/reg/ants_vbm_pairedLH_in_template_space/template_hires_br_freesurf_v6/label/lh.aparc.a2009s.annot'\n",
    "labels = mne.read_labels_from_annot(annot_fname=file, hemi='lh', parc='aparc.a2009s', subject='template_hires_br_freesurf_v6', subjects_dir='/Users/mrjeffs/Documents/Research/data/bbc/reg/ants_vbm_pairedLH_in_template_space',verbose=True)\n",
    "labels"
   ]
  },
  {
   "cell_type": "code",
   "execution_count": 25,
   "metadata": {},
   "outputs": [
    {
     "data": {
      "text/plain": [
       "<Label  |  template_hires_br_freesurf_v6, u'G&S_frontomargin-lh', lh : 1167 vertices>"
      ]
     },
     "execution_count": 25,
     "metadata": {},
     "output_type": "execute_result"
    }
   ],
   "source": [
    "pd_labels.iloc[3][0]"
   ]
  },
  {
   "cell_type": "code",
   "execution_count": 33,
   "metadata": {},
   "outputs": [
    {
     "data": {
      "text/plain": [
       "lh-tstat                 0.849177\n",
       "lh-p-value               0.420466\n",
       "Region        S_oc_middle&Lunatus\n",
       "Name: lh_S_oc_middle&Lunatus_thickness, dtype: object"
      ]
     },
     "execution_count": 33,
     "metadata": {},
     "output_type": "execute_result"
    }
   ],
   "source": [
    "lh_ct_stats.loc['lh_S_oc_middle&Lunatus_thickness']"
   ]
  },
  {
   "cell_type": "code",
   "execution_count": null,
   "metadata": {
    "collapsed": true
   },
   "outputs": [],
   "source": []
  },
  {
   "cell_type": "code",
   "execution_count": 9,
   "metadata": {
    "collapsed": true
   },
   "outputs": [],
   "source": [
    "#paired_sub = paired_sub.groupby('Subjid', axis=0)\n",
    "#paired_sub.aggregate(ss.ttest_1samp(paired_sub, popmean=0.0, axis=0,))\n",
    "#paired_sub['mean'] = paired_sub.mean(axis=1)\n",
    "#paired_sub['std_dev'] = paired_sub.std(axis=1)\n",
    "#paired_sub['std_err'] = paired_sub['std_dev'] / math.sqrt((len(dwipairing) / 2)-1)\n",
    "\n",
    "#paired_sub = paired_sub.transpose()\n",
    "#paired_sub\n",
    "#lh_ct_tstat, np.sort(lh_ct_pval)\n",
    "#paired_sub"
   ]
  }
 ],
 "metadata": {
  "anaconda-cloud": {},
  "kernelspec": {
   "display_name": "Python [conda root]",
   "language": "python",
   "name": "conda-root-py"
  },
  "language_info": {
   "codemirror_mode": {
    "name": "ipython",
    "version": 2
   },
   "file_extension": ".py",
   "mimetype": "text/x-python",
   "name": "python",
   "nbconvert_exporter": "python",
   "pygments_lexer": "ipython2",
   "version": "2.7.13"
  }
 },
 "nbformat": 4,
 "nbformat_minor": 1
}
