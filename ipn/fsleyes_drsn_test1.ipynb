{
 "cells": [
  {
   "cell_type": "code",
   "execution_count": 73,
   "metadata": {},
   "outputs": [],
   "source": [
    "%gui wx\n",
    "from pathlib import *\n",
    "#from IPython.display import IFrame\n",
    "import fsleyes\n",
    "import fsl\n",
    "import pandas as pd\n",
    "import numpy as np\n",
    "import scipy\n",
    "import drsn\n",
    "import drsn.utils\n",
    "from drsn.io.pdf import DisplayPDF\n",
    "import os\n",
    "datadir = Path(os.getenv('DATADIR'), 'toddandclark')\n",
    "rest = Path('50292/rest.nii.gz')\n",
    "signal = Path('50292/Signal.nii.gz')\n",
    "noise = Path('50292/Noise.nii.gz')\n",
    "images = [rest, signal, noise]\n",
    "diags_pdf = Path('50292/Diags_verticalline/50292/50292_dparsf_signal_motion.pdf')\n",
    "images_fnames = [datadir / f for f in images]\n"
   ]
  },
  {
   "cell_type": "code",
   "execution_count": 47,
   "metadata": {},
   "outputs": [
    {
     "data": {
      "text/plain": [
       "PosixPath('/Users/mrjeffs/data/toddandclark/50292/Diags_verticalline/50292')"
      ]
     },
     "execution_count": 47,
     "metadata": {},
     "output_type": "execute_result"
    }
   ],
   "source": [
    "for i in images_fnames:\n",
    "    if i.is_file():\n",
    "        load(str(i))"
   ]
  },
  {
   "cell_type": "code",
   "execution_count": 71,
   "metadata": {},
   "outputs": [
    {
     "name": "stdout",
     "output_type": "stream",
     "text": [
      "/Users/mrjeffs/Software/fslipn\r\n"
     ]
    }
   ],
   "source": [
    "!pwd"
   ]
  },
  {
   "cell_type": "code",
   "execution_count": 60,
   "metadata": {},
   "outputs": [],
   "source": [
    "os.chdir('/Users/mrjeffs/Software/fslipn')"
   ]
  },
  {
   "cell_type": "code",
   "execution_count": null,
   "metadata": {},
   "outputs": [],
   "source": []
  },
  {
   "cell_type": "code",
   "execution_count": 56,
   "metadata": {},
   "outputs": [],
   "source": [
    "class PDF(object):\n",
    "  def __init__(self, pdf, size=(1000,400), dir=None):\n",
    "    self.pdf = pdf\n",
    "    self.size = size\n",
    "    self.dir = Path(dir)\n",
    "\n",
    "  def _repr_html_(self):\n",
    "    if self.dir == None:\n",
    "        return '<iframe src={0} width={1[0]} height={1[1]}></iframe>'.format(self.pdf, self.size)\n",
    "    elif self.dir.is_dir():\n",
    "        with WorkingContext(self.dir):\n",
    "            return '<iframe src={0} width={1[0]} height={1[1]}></iframe>'.format(self.pdf, self.size)\n",
    "\n",
    "  def _repr_latex_(self):\n",
    "    if self.dir == None:\n",
    "        return r'\\includegraphics[width=1.0\\textwidth]{{{0}}}'.format(self.pdf)\n",
    "    elif self.dir.is_dir():\n",
    "        with WorkingContext(self.dir):\n",
    "            return r'\\includegraphics[width=1.0\\textwidth]{{{0}}}'.format(self.pdf)"
   ]
  },
  {
   "cell_type": "code",
   "execution_count": 74,
   "metadata": {},
   "outputs": [
    {
     "ename": "NameError",
     "evalue": "name 'WorkingContext' is not defined",
     "output_type": "error",
     "traceback": [
      "\u001b[0;31m---------------------------------------------------------------------------\u001b[0m",
      "\u001b[0;31mNameError\u001b[0m                                 Traceback (most recent call last)",
      "\u001b[0;32m~/Software/anaconda2/envs/py38fsl/lib/python3.8/site-packages/IPython/core/formatters.py\u001b[0m in \u001b[0;36m__call__\u001b[0;34m(self, obj)\u001b[0m\n\u001b[1;32m    343\u001b[0m             \u001b[0mmethod\u001b[0m \u001b[0;34m=\u001b[0m \u001b[0mget_real_method\u001b[0m\u001b[0;34m(\u001b[0m\u001b[0mobj\u001b[0m\u001b[0;34m,\u001b[0m \u001b[0mself\u001b[0m\u001b[0;34m.\u001b[0m\u001b[0mprint_method\u001b[0m\u001b[0;34m)\u001b[0m\u001b[0;34m\u001b[0m\u001b[0;34m\u001b[0m\u001b[0m\n\u001b[1;32m    344\u001b[0m             \u001b[0;32mif\u001b[0m \u001b[0mmethod\u001b[0m \u001b[0;32mis\u001b[0m \u001b[0;32mnot\u001b[0m \u001b[0;32mNone\u001b[0m\u001b[0;34m:\u001b[0m\u001b[0;34m\u001b[0m\u001b[0;34m\u001b[0m\u001b[0m\n\u001b[0;32m--> 345\u001b[0;31m                 \u001b[0;32mreturn\u001b[0m \u001b[0mmethod\u001b[0m\u001b[0;34m(\u001b[0m\u001b[0;34m)\u001b[0m\u001b[0;34m\u001b[0m\u001b[0;34m\u001b[0m\u001b[0m\n\u001b[0m\u001b[1;32m    346\u001b[0m             \u001b[0;32mreturn\u001b[0m \u001b[0;32mNone\u001b[0m\u001b[0;34m\u001b[0m\u001b[0;34m\u001b[0m\u001b[0m\n\u001b[1;32m    347\u001b[0m         \u001b[0;32melse\u001b[0m\u001b[0;34m:\u001b[0m\u001b[0;34m\u001b[0m\u001b[0;34m\u001b[0m\u001b[0m\n",
      "\u001b[0;32m~/Software/ToddandClarkShow/drsn/io/pdf.py\u001b[0m in \u001b[0;36m_repr_html_\u001b[0;34m(self)\u001b[0m\n\u001b[1;32m     15\u001b[0m     \u001b[0;32melif\u001b[0m \u001b[0mself\u001b[0m\u001b[0;34m.\u001b[0m\u001b[0mdir\u001b[0m\u001b[0;34m.\u001b[0m\u001b[0mis_dir\u001b[0m\u001b[0;34m(\u001b[0m\u001b[0;34m)\u001b[0m\u001b[0;34m:\u001b[0m\u001b[0;34m\u001b[0m\u001b[0;34m\u001b[0m\u001b[0m\n\u001b[1;32m     16\u001b[0m         \u001b[0;32mwith\u001b[0m \u001b[0mWorkingContext\u001b[0m\u001b[0;34m(\u001b[0m\u001b[0mself\u001b[0m\u001b[0;34m.\u001b[0m\u001b[0mdir\u001b[0m\u001b[0;34m)\u001b[0m\u001b[0;34m:\u001b[0m\u001b[0;34m\u001b[0m\u001b[0;34m\u001b[0m\u001b[0m\n\u001b[0;32m---> 17\u001b[0;31m             \u001b[0;32mreturn\u001b[0m \u001b[0;34m'<iframe src={0} width={1[0]} height={1[1]}></iframe>'\u001b[0m\u001b[0;34m.\u001b[0m\u001b[0mformat\u001b[0m\u001b[0;34m(\u001b[0m\u001b[0mself\u001b[0m\u001b[0;34m.\u001b[0m\u001b[0mpdf\u001b[0m\u001b[0;34m,\u001b[0m \u001b[0mself\u001b[0m\u001b[0;34m.\u001b[0m\u001b[0msize\u001b[0m\u001b[0;34m)\u001b[0m\u001b[0;34m\u001b[0m\u001b[0;34m\u001b[0m\u001b[0m\n\u001b[0m\u001b[1;32m     18\u001b[0m \u001b[0;34m\u001b[0m\u001b[0m\n\u001b[1;32m     19\u001b[0m   \u001b[0;32mdef\u001b[0m \u001b[0m_repr_latex_\u001b[0m\u001b[0;34m(\u001b[0m\u001b[0mself\u001b[0m\u001b[0;34m)\u001b[0m\u001b[0;34m:\u001b[0m\u001b[0;34m\u001b[0m\u001b[0;34m\u001b[0m\u001b[0m\n",
      "\u001b[0;31mNameError\u001b[0m: name 'WorkingContext' is not defined"
     ]
    },
    {
     "ename": "NameError",
     "evalue": "name 'WorkingContext' is not defined",
     "output_type": "error",
     "traceback": [
      "\u001b[0;31m---------------------------------------------------------------------------\u001b[0m",
      "\u001b[0;31mNameError\u001b[0m                                 Traceback (most recent call last)",
      "\u001b[0;32m~/Software/anaconda2/envs/py38fsl/lib/python3.8/site-packages/IPython/core/formatters.py\u001b[0m in \u001b[0;36m__call__\u001b[0;34m(self, obj)\u001b[0m\n\u001b[1;32m    343\u001b[0m             \u001b[0mmethod\u001b[0m \u001b[0;34m=\u001b[0m \u001b[0mget_real_method\u001b[0m\u001b[0;34m(\u001b[0m\u001b[0mobj\u001b[0m\u001b[0;34m,\u001b[0m \u001b[0mself\u001b[0m\u001b[0;34m.\u001b[0m\u001b[0mprint_method\u001b[0m\u001b[0;34m)\u001b[0m\u001b[0;34m\u001b[0m\u001b[0;34m\u001b[0m\u001b[0m\n\u001b[1;32m    344\u001b[0m             \u001b[0;32mif\u001b[0m \u001b[0mmethod\u001b[0m \u001b[0;32mis\u001b[0m \u001b[0;32mnot\u001b[0m \u001b[0;32mNone\u001b[0m\u001b[0;34m:\u001b[0m\u001b[0;34m\u001b[0m\u001b[0;34m\u001b[0m\u001b[0m\n\u001b[0;32m--> 345\u001b[0;31m                 \u001b[0;32mreturn\u001b[0m \u001b[0mmethod\u001b[0m\u001b[0;34m(\u001b[0m\u001b[0;34m)\u001b[0m\u001b[0;34m\u001b[0m\u001b[0;34m\u001b[0m\u001b[0m\n\u001b[0m\u001b[1;32m    346\u001b[0m             \u001b[0;32mreturn\u001b[0m \u001b[0;32mNone\u001b[0m\u001b[0;34m\u001b[0m\u001b[0;34m\u001b[0m\u001b[0m\n\u001b[1;32m    347\u001b[0m         \u001b[0;32melse\u001b[0m\u001b[0;34m:\u001b[0m\u001b[0;34m\u001b[0m\u001b[0;34m\u001b[0m\u001b[0m\n",
      "\u001b[0;32m~/Software/ToddandClarkShow/drsn/io/pdf.py\u001b[0m in \u001b[0;36m_repr_latex_\u001b[0;34m(self)\u001b[0m\n\u001b[1;32m     22\u001b[0m     \u001b[0;32melif\u001b[0m \u001b[0mself\u001b[0m\u001b[0;34m.\u001b[0m\u001b[0mdir\u001b[0m\u001b[0;34m.\u001b[0m\u001b[0mis_dir\u001b[0m\u001b[0;34m(\u001b[0m\u001b[0;34m)\u001b[0m\u001b[0;34m:\u001b[0m\u001b[0;34m\u001b[0m\u001b[0;34m\u001b[0m\u001b[0m\n\u001b[1;32m     23\u001b[0m         \u001b[0;32mwith\u001b[0m \u001b[0mWorkingContext\u001b[0m\u001b[0;34m(\u001b[0m\u001b[0mself\u001b[0m\u001b[0;34m.\u001b[0m\u001b[0mdir\u001b[0m\u001b[0;34m)\u001b[0m\u001b[0;34m:\u001b[0m\u001b[0;34m\u001b[0m\u001b[0;34m\u001b[0m\u001b[0m\n\u001b[0;32m---> 24\u001b[0;31m             \u001b[0;32mreturn\u001b[0m \u001b[0;34mr'\\includegraphics[width=1.0\\textwidth]{{{0}}}'\u001b[0m\u001b[0;34m.\u001b[0m\u001b[0mformat\u001b[0m\u001b[0;34m(\u001b[0m\u001b[0mself\u001b[0m\u001b[0;34m.\u001b[0m\u001b[0mpdf\u001b[0m\u001b[0;34m)\u001b[0m\u001b[0;34m\u001b[0m\u001b[0;34m\u001b[0m\u001b[0m\n\u001b[0m",
      "\u001b[0;31mNameError\u001b[0m: name 'WorkingContext' is not defined"
     ]
    },
    {
     "data": {
      "text/plain": [
       "<drsn.io.pdf.DisplayPDF at 0x19219e370>"
      ]
     },
     "execution_count": 74,
     "metadata": {},
     "output_type": "execute_result"
    }
   ],
   "source": [
    "DisplayPDF(diags_pdf.name, size=(1000,750), dir=(datadir / diags_pdf.parent))"
   ]
  },
  {
   "cell_type": "code",
   "execution_count": 75,
   "metadata": {},
   "outputs": [
    {
     "name": "stdout",
     "output_type": "stream",
     "text": [
      "/Users/mrjeffs/Software/fslipn\r\n"
     ]
    }
   ],
   "source": [
    "!pwd\n"
   ]
  },
  {
   "cell_type": "code",
   "execution_count": 10,
   "metadata": {},
   "outputs": [
    {
     "data": {
      "text/html": [
       "\n",
       "        <iframe\n",
       "            width=\"1000\"\n",
       "            height=\"700\"\n",
       "            src=\"./50292_dparsf_signal_motion.pdf\"\n",
       "            frameborder=\"0\"\n",
       "            allowfullscreen\n",
       "        ></iframe>\n",
       "        "
      ],
      "text/plain": [
       "<IPython.lib.display.IFrame at 0x18f420f40>"
      ]
     },
     "execution_count": 10,
     "metadata": {},
     "output_type": "execute_result"
    }
   ],
   "source": [
    "!cd /Users/mrjeffs/data/toddandclark/50292/Diags_verticalline/50292\n",
    "IFrame('./50292_dparsf_signal_motion.pdf', width=1000, height=700)"
   ]
  },
  {
   "cell_type": "code",
   "execution_count": 3,
   "metadata": {},
   "outputs": [
    {
     "name": "stdout",
     "output_type": "stream",
     "text": [
      "/Users/mrjeffs/Software/fslipn\r\n"
     ]
    }
   ],
   "source": [
    "!pwd\n"
   ]
  },
  {
   "cell_type": "code",
   "execution_count": 10,
   "metadata": {},
   "outputs": [
    {
     "name": "stdout",
     "output_type": "stream",
     "text": [
      "50292_dparsf_signal_motion.pdf fsleyes_tutorial.ipynb\r\n",
      "FSLeyes_notebook.ipynb         newtest1.ipynb\r\n",
      "fsleyes_drsn_test1.ipynb       noise_lanscape.ipynb\r\n"
     ]
    }
   ],
   "source": [
    "!ls"
   ]
  },
  {
   "cell_type": "code",
   "execution_count": 3,
   "metadata": {},
   "outputs": [],
   "source": [
    "import drsn"
   ]
  },
  {
   "cell_type": "code",
   "execution_count": 8,
   "metadata": {},
   "outputs": [],
   "source": []
  },
  {
   "cell_type": "code",
   "execution_count": 13,
   "metadata": {
    "collapsed": true
   },
   "outputs": [
    {
     "name": "stdout",
     "output_type": "stream",
     "text": [
      "TERM_PROGRAM=Apple_Terminal\r\n",
      "DATADIR=/Users/mrjeffs/data\r\n",
      "SHELL=/bin/bash\r\n",
      "TERM=xterm-color\r\n",
      "CLICOLOR=1\r\n",
      "HISTSIZE=10000\r\n",
      "TMPDIR=/var/folders/77/rw4g32k56w31nfw8q9hw303r0000gn/T/\r\n",
      "CONDA_SHLVL=3\r\n",
      "FSLMULTIFILEQUIT=TRUE\r\n",
      "Apple_PubSub_Socket_Render=/private/tmp/com.apple.launchd.kl3zzWxHBj/Render\r\n",
      "DRSNDIR=/Users/mrjeffs/Software/ToddandClarkShow\r\n",
      "CONDA_PROMPT_MODIFIER=(py38fsl) \r\n",
      "TERM_PROGRAM_VERSION=421.2\r\n",
      "MATLABCMD=/Users/mrjeffs/Software/matlab/matlab2018b/MATLAB_R2018b.app/bin/maci64/MATLAB\r\n",
      "TERM_SESSION_ID=1AA804F4-F43A-4C5D-8915-6DE2E4164F5C\r\n",
      "PYTHONEXECUTABLE=/Users/mrjeffs/Software/anaconda2/envs/py38fsl/bin/python\r\n",
      "HISTFILESIZE=4000\r\n",
      "USER=mrjeffs\r\n",
      "FSLGECUDAQ=cuda.q\r\n",
      "CONDA_EXE=/Users/mrjeffs/Software/anaconda2/bin/conda\r\n",
      "SSH_AUTH_SOCK=/private/tmp/com.apple.launchd.Rokaw7h75Q/Listeners\r\n",
      "__CF_USER_TEXT_ENCODING=0x1F5:0x0:0x0\r\n",
      "PAGER=cat\r\n",
      "_CE_CONDA=\r\n",
      "CONDA_PREFIX_1=/Users/mrjeffs/Software/anaconda2\r\n",
      "PATH=/Users/mrjeffs/Software/ToddandClarkShow:/Users/mrjeffs/Software/mmimproc:/Users/mrjeffs/Software/mmimproc/data:/Users/mrjeffs/Software/mmimproc/mmimproc:/Users/mrjeffs/Software/mmimproc/bin:/Users/mrjeffs/Software/anaconda2/envs/py38fsl/bin:/Users/mrjeffs/Software/anaconda2/condabin:/usr/local/fsl/bin:/Users/mrjeffs/Software/matlab/matlab2018b/MATLAB_R2018b.app/bin:/Library/TeX/Distributions/.FactoryDefaults/TeXLive-2019/Contents/Programs/texbin:/usr/local/bin:/usr/bin:/bin:/usr/sbin:/sbin:/Applications/VMware Fusion.app/Contents/Public:/Library/TeX/texbin:/opt/X11/bin\r\n",
      "_=/usr/bin/env\r\n",
      "CONDA_PREFIX_2=/Users/mrjeffs/Software/anaconda2/envs/py36tf\r\n",
      "MMIMPROC=/Users/mrjeffs/Software/mmimproc\r\n",
      "CONDA_PREFIX=/Users/mrjeffs/Software/anaconda2/envs/py38fsl\r\n",
      "TCJD=/Users/mrjeffs/data/toddandclark\r\n",
      "FS=/Users/mrjeffs/data\r\n",
      "PWD=/Users/mrjeffs/Software/fslipn\r\n",
      "MMIMPROCD=/Users/mrjeffs/Software/mmimproc/data\r\n",
      "LANG=en_US.UTF-8\r\n",
      "FSLTCLSH=/usr/local/fsl/bin/fsltclsh\r\n",
      "FSLMACHINELIST=\r\n",
      "XPC_FLAGS=0x0\r\n",
      "__KMP_REGISTERED_LIB_31134=0x111e9b268-cafefb51-libomp.dylib\r\n",
      "FSLREMOTECALL=\r\n",
      "FSLWISH=/usr/local/fsl/bin/fslwish\r\n",
      "_CE_M=\r\n",
      "XPC_SERVICE_NAME=0\r\n",
      "SHLVL=3\r\n",
      "HOME=/Users/mrjeffs\r\n",
      "CONDA_PYTHON_EXE=/Users/mrjeffs/Software/anaconda2/bin/python\r\n",
      "MATLAB=/Users/mrjeffs/Software/matlab/matlab2018b/MATLAB_R2018b.app/bin\r\n",
      "LOGNAME=mrjeffs\r\n",
      "FSLDIR=/usr/local/fsl\r\n",
      "CONDA_DEFAULT_ENV=py38fsl\r\n",
      "DISPLAY=/private/tmp/com.apple.launchd.5FvDuLfzvP/org.macosforge.xquartz:0\r\n",
      "FSLLOCKDIR=\r\n",
      "GIT_PAGER=cat\r\n",
      "FSLOUTPUTTYPE=NIFTI_GZ\r\n"
     ]
    }
   ],
   "source": [
    "!env"
   ]
  },
  {
   "cell_type": "code",
   "execution_count": 9,
   "metadata": {},
   "outputs": [
    {
     "name": "stdout",
     "output_type": "stream",
     "text": [
      "/Users/mrjeffs/Software/fslipn\r\n"
     ]
    }
   ],
   "source": [
    "!pwd"
   ]
  },
  {
   "cell_type": "code",
   "execution_count": 11,
   "metadata": {},
   "outputs": [
    {
     "data": {
      "text/plain": [
       "Image(rest, /Users/mrjeffs/data/toddandclark/50292/rest.nii.gz)"
      ]
     },
     "execution_count": 11,
     "metadata": {},
     "output_type": "execute_result"
    }
   ],
   "source": [
    "rest_fname = '/Users/mrjeffs/data/toddandclark/50292/rest.nii.gz'\n",
    "load(rest_fname)"
   ]
  },
  {
   "cell_type": "code",
   "execution_count": 29,
   "metadata": {},
   "outputs": [
    {
     "data": {
      "text/plain": [
       "Image(Signal, /Users/mrjeffs/data/toddandclark/50292/Signal.nii.gz)"
      ]
     },
     "execution_count": 29,
     "metadata": {},
     "output_type": "execute_result"
    }
   ],
   "source": [
    "load(datadir.as_posix() + '/50292/Signal.nii.gz')"
   ]
  },
  {
   "cell_type": "code",
   "execution_count": 30,
   "metadata": {},
   "outputs": [
    {
     "data": {
      "text/plain": [
       "Image(Noise, /Users/mrjeffs/data/toddandclark/50292/Noise.nii.gz)"
      ]
     },
     "execution_count": 30,
     "metadata": {},
     "output_type": "execute_result"
    }
   ],
   "source": [
    "load(datadir.as_posix() + '/50292/Noise.nii.gz')"
   ]
  },
  {
   "cell_type": "code",
   "execution_count": null,
   "metadata": {},
   "outputs": [],
   "source": []
  }
 ],
 "metadata": {
  "kernelspec": {
   "display_name": "Python 3",
   "language": "python",
   "name": "python3"
  },
  "language_info": {
   "codemirror_mode": {
    "name": "ipython",
    "version": 3
   },
   "file_extension": ".py",
   "mimetype": "text/x-python",
   "name": "python",
   "nbconvert_exporter": "python",
   "pygments_lexer": "ipython3",
   "version": "3.8.10"
  }
 },
 "nbformat": 4,
 "nbformat_minor": 4
}
