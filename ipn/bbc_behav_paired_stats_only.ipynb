{
 "cells": [
  {
   "cell_type": "code",
   "execution_count": 1,
   "metadata": {
    "collapsed": false
   },
   "outputs": [
    {
     "name": "stderr",
     "output_type": "stream",
     "text": [
      "/Users/mrjeffs/Software/nibabel/nibabel/cifti2/parse_cifti2.py:24: FutureWarning: We no longer carry a copy of the 'six' package in nibabel; Please import the 'six' package directly\n",
      "  from ..externals.six import BytesIO\n"
     ]
    }
   ],
   "source": [
    "from pathlib import *\n",
    "import numpy as np\n",
    "import pandas as pd\n",
    "np.set_printoptions(linewidth=999999, precision=6, suppress=True, threshold=99999)\n",
    "pd.set_option('display.width', 999999)\n",
    "import nibabel as nib\n",
    "import matplotlib.pyplot as plt\n",
    "from scipy import stats as ss\n",
    "from pylabs.utils.paths import getnetworkdataroot\n",
    "fs = Path(getnetworkdataroot())"
   ]
  },
  {
   "cell_type": "code",
   "execution_count": 2,
   "metadata": {
    "collapsed": false
   },
   "outputs": [
    {
     "data": {
      "text/html": [
       "<div>\n",
       "<table border=\"1\" class=\"dataframe\">\n",
       "  <thead>\n",
       "    <tr style=\"text-align: right;\">\n",
       "      <th></th>\n",
       "      <th>tstat</th>\n",
       "      <th>p-value</th>\n",
       "    </tr>\n",
       "  </thead>\n",
       "  <tbody>\n",
       "    <tr>\n",
       "      <th>PPVTSS</th>\n",
       "      <td>6.127244</td>\n",
       "      <td>0.000281</td>\n",
       "    </tr>\n",
       "    <tr>\n",
       "      <th>CTOPPphomCS</th>\n",
       "      <td>3.418817</td>\n",
       "      <td>0.009104</td>\n",
       "    </tr>\n",
       "    <tr>\n",
       "      <th>PATrhyTotSS</th>\n",
       "      <td>2.632442</td>\n",
       "      <td>0.030064</td>\n",
       "    </tr>\n",
       "    <tr>\n",
       "      <th>PATsegTotSS</th>\n",
       "      <td>2.337466</td>\n",
       "      <td>0.047604</td>\n",
       "    </tr>\n",
       "    <tr>\n",
       "      <th>TOPELeliSS</th>\n",
       "      <td>2.239180</td>\n",
       "      <td>0.055496</td>\n",
       "    </tr>\n",
       "    <tr>\n",
       "      <th>STIMQ-PSDSscaleScore1-to-15-SUM</th>\n",
       "      <td>2.155264</td>\n",
       "      <td>0.063254</td>\n",
       "    </tr>\n",
       "    <tr>\n",
       "      <th>CTOPPphoaCS</th>\n",
       "      <td>1.987623</td>\n",
       "      <td>0.082074</td>\n",
       "    </tr>\n",
       "    <tr>\n",
       "      <th>self-esteem-IAT</th>\n",
       "      <td>1.231740</td>\n",
       "      <td>0.253022</td>\n",
       "    </tr>\n",
       "    <tr>\n",
       "      <th>CTOPPrnCS</th>\n",
       "      <td>0.933948</td>\n",
       "      <td>0.377659</td>\n",
       "    </tr>\n",
       "  </tbody>\n",
       "</table>\n",
       "</div>"
      ],
      "text/plain": [
       "                                    tstat   p-value\n",
       "PPVTSS                           6.127244  0.000281\n",
       "CTOPPphomCS                      3.418817  0.009104\n",
       "PATrhyTotSS                      2.632442  0.030064\n",
       "PATsegTotSS                      2.337466  0.047604\n",
       "TOPELeliSS                       2.239180  0.055496\n",
       "STIMQ-PSDSscaleScore1-to-15-SUM  2.155264  0.063254\n",
       "CTOPPphoaCS                      1.987623  0.082074\n",
       "self-esteem-IAT                  1.231740  0.253022\n",
       "CTOPPrnCS                        0.933948  0.377659"
      ]
     },
     "execution_count": 2,
     "metadata": {},
     "output_type": "execute_result"
    }
   ],
   "source": [
    "sublist = ['209-101', '211-105', '208-106', '202-108', '249-113', '241-116', '243-118', '231-119', '253-120']\n",
    "bfile = fs / 'bbc' / 'behavior' / 'Behavior_for_MRI_2_22_17_jsedits.csv'\n",
    "bdata = pd.read_csv(str(bfile), header=1 ,index_col=1, usecols=[0, 1]+range(20, 29))\n",
    "bdata = bdata.transpose()\n",
    "for s in sublist:\n",
    "    bdata[s] = bdata['BBC'+s[:3]] - bdata['BBC'+s[4:7]]\n",
    "bdata_sub = bdata[sublist].transpose()\n",
    "bdata_sub.drop('subjnum', axis=1, inplace=True)\n",
    "bdata_sub_stats = bdata_sub.apply(ss.ttest_1samp, axis=0, args=(0.0,)).apply(pd.Series)\n",
    "bdata_sub_stats.columns = ['tstat', 'p-value']\n",
    "bdata_sub_stats.sort_values('p-value')"
   ]
  },
  {
   "cell_type": "code",
   "execution_count": null,
   "metadata": {
    "collapsed": true
   },
   "outputs": [],
   "source": []
  }
 ],
 "metadata": {
  "anaconda-cloud": {},
  "kernelspec": {
   "display_name": "Python [conda root]",
   "language": "python",
   "name": "conda-root-py"
  },
  "language_info": {
   "codemirror_mode": {
    "name": "ipython",
    "version": 2
   },
   "file_extension": ".py",
   "mimetype": "text/x-python",
   "name": "python",
   "nbconvert_exporter": "python",
   "pygments_lexer": "ipython2",
   "version": "2.7.13"
  }
 },
 "nbformat": 4,
 "nbformat_minor": 2
}
