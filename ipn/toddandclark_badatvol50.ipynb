{
 "cells": [
  {
   "cell_type": "code",
   "execution_count": 1,
   "metadata": {},
   "outputs": [],
   "source": [
    "import numpy as np\n",
    "import nibabel as nib\n",
    "import mmimproc as ip\n",
    "\n",
    "# set up file naming\n",
    "proj = 'toddandclark'\n",
    "subj = 'badrestingstate'\n",
    "niifname = 'rest_50125.nii'\n",
    "maskname = 'rest_50125_mask.nii'\n",
    "namedict  = {'proj': proj, 'subj': subj, 'niifname': niifname, 'maskname': maskname}\n",
    "fname = ip.fs_local / '{proj}/{subj}/{niifname}'.format(**namedict)\n",
    "\n",
    "# load resting state file memory map\n",
    "badvol = nib.load(fname)\n",
    "# make the numpy data array\n",
    "badvoldata = np.asanyarray(badvol.dataobj).astype(np.float64)[...,5:]\n",
    "\n",
    "# make 3 part mask\n",
    "bvsh = badvoldata.shape #[:3]\n",
    "badvolmask = np.zeros(bvsh)\n",
    "badvolmask[39:41 ,25:31 ,17:20, :] = 1  # Left operc\n",
    "badvolmask[25:27 ,25:31 ,17:20, :] = 2  # Right operc\n",
    "# define left anterior superior corner voxels for noise estimation\n",
    "oobcoord = np.index_exp[bvsh[0] - 5:bvsh[0] - 1, bvsh[1] - 10:bvsh[1] - 1, bvsh[2] - 4:bvsh[2] - 1, :]\n",
    "badvolmask[oobcoord] = 3 # out of body area left anterior superior corner\n",
    "# save mask to nii file\n",
    "maskfname = ip.fs_local / '{proj}/{subj}/{maskname}'.format(**namedict)\n",
    "nib.save(nib.Nifti1Image(badvolmask, badvol.affine), maskfname)"
   ]
  },
  {
   "cell_type": "code",
   "execution_count": 2,
   "metadata": {},
   "outputs": [],
   "source": [
    "mbadvoldata_roi1 = np.where(badvolmask == 1, badvoldata, 0)\n",
    "mbadvoldata_roi1[mbadvoldata_roi1 == 0] = np.nan\n",
    "mean_roi1 = np.nanmean(mbadvoldata_roi1, axis=(0, 1, 2))\n",
    "mbadvoldata_roi2 = np.where(badvolmask == 2, badvoldata, 0)\n",
    "mbadvoldata_roi2[mbadvoldata_roi2 == 0] = np.nan\n",
    "mean_roi2 = np.nanmean(mbadvoldata_roi2, axis=(0, 1, 2))\n",
    "mbadvoldata_roi3 = np.where(badvolmask == 3, badvoldata, 0)\n",
    "mbadvoldata_roi3[mbadvoldata_roi3 == 0] = np.nan\n",
    "std_roi3 = np.nanstd(mbadvoldata_roi3, axis=(0, 1, 2))\n",
    "snr1 = mean_roi1 / std_roi3\n",
    "snr2 = mean_roi2 / std_roi3\n"
   ]
  },
  {
   "cell_type": "code",
   "execution_count": 3,
   "metadata": {},
   "outputs": [
    {
     "data": {
      "text/plain": [
       "(205,)"
      ]
     },
     "execution_count": 3,
     "metadata": {},
     "output_type": "execute_result"
    }
   ],
   "source": [
    "snr1.shape"
   ]
  },
  {
   "cell_type": "code",
   "execution_count": 5,
   "metadata": {},
   "outputs": [
    {
     "data": {
      "text/plain": [
       "11.003142437507028"
      ]
     },
     "execution_count": 5,
     "metadata": {},
     "output_type": "execute_result"
    }
   ],
   "source": [
    "np.std(np.where(badvolmask[...,np.newaxis]==1, badvoldata[..., 5:], 0), axis=(0,1,2)).mean()"
   ]
  },
  {
   "cell_type": "code",
   "execution_count": 3,
   "metadata": {},
   "outputs": [
    {
     "data": {
      "text/plain": [
       "array([0.20048155, 0.20080145, 0.19995959, 0.20126448, 0.20055731,\n",
       "       0.20075936, 0.20166016, 0.20071727, 0.20030475, 0.20011113,\n",
       "       0.20091932, 0.20084355, 0.20038052, 0.20053206, 0.20110453,\n",
       "       0.20071727, 0.20171067, 0.20112136, 0.20128974, 0.2005068 ,\n",
       "       0.19963126, 0.19985857, 0.20091932, 0.20081829, 0.20003536,\n",
       "       0.20074252, 0.2001448 , 0.20066676, 0.2006415 , 0.20070885,\n",
       "       0.20121397, 0.20047313, 0.19961443, 0.20139918, 0.2009109 ,\n",
       "       0.19925242, 0.2007762 , 0.19939554, 0.20026266, 0.20011954,\n",
       "       0.19946289, 0.19998485, 0.20046471, 0.20023741, 0.20088564,\n",
       "       0.19992592, 0.18718009, 0.18813982, 0.18771888, 0.18857759,\n",
       "       0.18800512, 0.18824926, 0.18859442, 0.18832503, 0.18811456,\n",
       "       0.18884698, 0.18781149, 0.18889749, 0.18847656, 0.18917531,\n",
       "       0.1882661 , 0.18913322, 0.1887207 , 0.18949522, 0.18883856,\n",
       "       0.1875    , 0.18915847, 0.18929317, 0.18874596, 0.18918373,\n",
       "       0.18883856, 0.18866177, 0.18950364, 0.18893117, 0.1884934 ,\n",
       "       0.18878805, 0.18892275, 0.18888908, 0.18909112, 0.18958782,\n",
       "       0.18832503, 0.18944471, 0.18904061, 0.18845131, 0.18853549,\n",
       "       0.18896484, 0.18911638, 0.19036234, 0.18824084, 0.18939419,\n",
       "       0.18856917, 0.1887207 , 0.18859442, 0.18931843, 0.18916689,\n",
       "       0.18969727, 0.18898168, 0.18856917, 0.18882173, 0.18850182,\n",
       "       0.18915005, 0.19027815, 0.18968885, 0.1894868 , 0.18910796,\n",
       "       0.18879647, 0.18851866, 0.1884934 , 0.18942787, 0.18922582,\n",
       "       0.18904903, 0.18883015, 0.18897326, 0.18930159, 0.18941103,\n",
       "       0.18969727, 0.18942787, 0.18934368, 0.18916689, 0.18869545,\n",
       "       0.18922582, 0.1888554 , 0.18928475, 0.18986564, 0.18910796,\n",
       "       0.18932685, 0.18859442, 0.18835028, 0.18898168, 0.18986564,\n",
       "       0.18960466, 0.18929317, 0.18976461, 0.18846814, 0.18943629,\n",
       "       0.18831661, 0.18970568, 0.18950364, 0.18965517, 0.18846814,\n",
       "       0.18906587, 0.18931843, 0.18841763, 0.18974778, 0.1888554 ,\n",
       "       0.18919215, 0.18940261, 0.18956257, 0.18886382, 0.18881331,\n",
       "       0.1890827 , 0.18854391, 0.18899852, 0.18962992, 0.18980671,\n",
       "       0.18957099, 0.18905745, 0.18879647, 0.18977303, 0.18896484,\n",
       "       0.18894801, 0.18915005, 0.18856075, 0.18909112, 0.18827452,\n",
       "       0.1877273 , 0.18873754, 0.18909112, 0.18909112, 0.18963834,\n",
       "       0.18900694, 0.18929317, 0.18888908, 0.1887207 , 0.18875438,\n",
       "       0.18813982, 0.18949522, 0.18945312, 0.18864494, 0.18889749,\n",
       "       0.18946996, 0.18855233, 0.18936894, 0.18939419, 0.18949522,\n",
       "       0.18982355, 0.18920898, 0.18877963, 0.18937736, 0.18902377,\n",
       "       0.18949522, 0.18868703, 0.18891433, 0.18944471, 0.18830819,\n",
       "       0.18683493, 0.18782833, 0.18790409, 0.18707065, 0.187862  ,\n",
       "       0.18755893, 0.18709591, 0.18779465, 0.18698646, 0.18663288])"
      ]
     },
     "execution_count": 3,
     "metadata": {},
     "output_type": "execute_result"
    }
   ],
   "source": [
    "np.mean(np.where(badvolmask[...,5:] == 1, badvoldata[..., 5:], 0), axis=(0,1,2))#.mean()"
   ]
  },
  {
   "cell_type": "code",
   "execution_count": 6,
   "metadata": {},
   "outputs": [
    {
     "data": {
      "text/plain": [
       "10.563847559572746"
      ]
     },
     "execution_count": 6,
     "metadata": {},
     "output_type": "execute_result"
    }
   ],
   "source": [
    "np.std(np.where(badvolmask[...,np.newaxis]==2, badvoldata[..., 5:], 0), axis=(0,1,2)).mean()"
   ]
  },
  {
   "cell_type": "code",
   "execution_count": 28,
   "metadata": {},
   "outputs": [
    {
     "data": {
      "text/plain": [
       "(108, 205)"
      ]
     },
     "execution_count": 28,
     "metadata": {},
     "output_type": "execute_result"
    }
   ],
   "source": [
    "oobmask = badvolmask == 3\n",
    "badvoldata[oobmask[:,:,:],5:].shape\n",
    "#badvolmask.shape"
   ]
  },
  {
   "cell_type": "code",
   "execution_count": 26,
   "metadata": {
    "collapsed": true,
    "jupyter": {
     "outputs_hidden": true
    }
   },
   "outputs": [
    {
     "data": {
      "text/plain": [
       "array([[[False, False, False, False, False],\n",
       "        [False, False, False, False, False],\n",
       "        [False, False, False, False, False],\n",
       "        [False, False, False, False, False],\n",
       "        [False, False, False, False, False],\n",
       "        [False, False, False, False, False],\n",
       "        [False, False, False, False, False],\n",
       "        [False, False, False, False, False],\n",
       "        [False, False, False, False, False],\n",
       "        [False, False, False, False, False],\n",
       "        [False, False, False, False, False]],\n",
       "\n",
       "       [[False, False, False, False, False],\n",
       "        [False,  True,  True,  True, False],\n",
       "        [False,  True,  True,  True, False],\n",
       "        [False,  True,  True,  True, False],\n",
       "        [False,  True,  True,  True, False],\n",
       "        [False,  True,  True,  True, False],\n",
       "        [False,  True,  True,  True, False],\n",
       "        [False,  True,  True,  True, False],\n",
       "        [False,  True,  True,  True, False],\n",
       "        [False,  True,  True,  True, False],\n",
       "        [False, False, False, False, False]],\n",
       "\n",
       "       [[False, False, False, False, False],\n",
       "        [False,  True,  True,  True, False],\n",
       "        [False,  True,  True,  True, False],\n",
       "        [False,  True,  True,  True, False],\n",
       "        [False,  True,  True,  True, False],\n",
       "        [False,  True,  True,  True, False],\n",
       "        [False,  True,  True,  True, False],\n",
       "        [False,  True,  True,  True, False],\n",
       "        [False,  True,  True,  True, False],\n",
       "        [False,  True,  True,  True, False],\n",
       "        [False, False, False, False, False]],\n",
       "\n",
       "       [[False, False, False, False, False],\n",
       "        [False,  True,  True,  True, False],\n",
       "        [False,  True,  True,  True, False],\n",
       "        [False,  True,  True,  True, False],\n",
       "        [False,  True,  True,  True, False],\n",
       "        [False,  True,  True,  True, False],\n",
       "        [False,  True,  True,  True, False],\n",
       "        [False,  True,  True,  True, False],\n",
       "        [False,  True,  True,  True, False],\n",
       "        [False,  True,  True,  True, False],\n",
       "        [False, False, False, False, False]],\n",
       "\n",
       "       [[False, False, False, False, False],\n",
       "        [False,  True,  True,  True, False],\n",
       "        [False,  True,  True,  True, False],\n",
       "        [False,  True,  True,  True, False],\n",
       "        [False,  True,  True,  True, False],\n",
       "        [False,  True,  True,  True, False],\n",
       "        [False,  True,  True,  True, False],\n",
       "        [False,  True,  True,  True, False],\n",
       "        [False,  True,  True,  True, False],\n",
       "        [False,  True,  True,  True, False],\n",
       "        [False, False, False, False, False]],\n",
       "\n",
       "       [[False, False, False, False, False],\n",
       "        [False, False, False, False, False],\n",
       "        [False, False, False, False, False],\n",
       "        [False, False, False, False, False],\n",
       "        [False, False, False, False, False],\n",
       "        [False, False, False, False, False],\n",
       "        [False, False, False, False, False],\n",
       "        [False, False, False, False, False],\n",
       "        [False, False, False, False, False],\n",
       "        [False, False, False, False, False],\n",
       "        [False, False, False, False, False]]])"
      ]
     },
     "execution_count": 26,
     "metadata": {},
     "output_type": "execute_result"
    }
   ],
   "source": [
    "oobmask = badvolmask == 3\n",
    "oobmask[58:64, 53:64, 24:]"
   ]
  },
  {
   "cell_type": "code",
   "execution_count": 23,
   "metadata": {},
   "outputs": [
    {
     "data": {
      "text/plain": [
       "(64, 64, 29)"
      ]
     },
     "execution_count": 23,
     "metadata": {},
     "output_type": "execute_result"
    }
   ],
   "source": [
    "oobmask.shape"
   ]
  },
  {
   "cell_type": "code",
   "execution_count": 11,
   "metadata": {},
   "outputs": [
    {
     "data": {
      "text/plain": [
       "(slice(54, 63, None), slice(59, 63, None), slice(25, 28, None))"
      ]
     },
     "execution_count": 11,
     "metadata": {},
     "output_type": "execute_result"
    }
   ],
   "source": []
  },
  {
   "cell_type": "code",
   "execution_count": null,
   "metadata": {},
   "outputs": [],
   "source": []
  }
 ],
 "metadata": {
  "kernelspec": {
   "display_name": "Python 3",
   "language": "python",
   "name": "python3"
  },
  "language_info": {
   "codemirror_mode": {
    "name": "ipython",
    "version": 3
   },
   "file_extension": ".py",
   "mimetype": "text/x-python",
   "name": "python",
   "nbconvert_exporter": "python",
   "pygments_lexer": "ipython3",
   "version": "3.6.11"
  }
 },
 "nbformat": 4,
 "nbformat_minor": 4
}
