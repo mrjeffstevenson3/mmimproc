{
 "cells": [
  {
   "cell_type": "code",
   "execution_count": 1,
   "metadata": {},
   "outputs": [],
   "source": [
    "%matplotlib inline\n",
    "from pathlib import *\n",
    "import numpy as np\n",
    "import pandas as pd\n",
    "import nibabel as nib\n",
    "import mmimproc as ip\n",
    "from mmimproc.io.mixed import df2h5\n",
    "import matplotlib.pyplot as plt\n",
    "import seaborn as sns\n",
    "sns.set(color_codes=True)\n",
    "\n",
    "def append2fn(fn, newstr):\n",
    "    \"\"\"Appends new string to end of file name and before file extentions.\n",
    "    \"\"\"\n",
    "    return Path(fn).stem + newstr + ''.join(Path(fn).suffixes)\n",
    "\n",
    "ssvolnum = 10    # integer volume number where steady state is acheived \n",
    "\n",
    "# set up file naming\n",
    "datadir = ip.fs_local   # enter pathlib or string for BIDS root data directory\n",
    "proj = 'toddandclark'   # enter project name\n",
    "subj = 'badrestingstate'  # enter subject name (todo: subject list option for for loop)\n",
    "niiname = 'rest_50125.nii'  # name of raw resting nifti file to process (todo: for loop if needed)\n",
    "resultsh5 = 'tcj_results1.h5'\n",
    "namedict  = {'datadir': datadir, 'proj': proj, 'subj': subj, 'niiname': niiname,\n",
    "             'maskname': append2fn(niiname, '_mask'), 'snrmaskname': append2fn(niiname, '_snrmask'),\n",
    "            'resultsname': resultsh5}\n",
    "\n",
    "# load resting state file memory map\n",
    "badvol = nib.load('{datadir}/{proj}/{subj}/{niiname}'.format(**namedict))\n",
    "# make the numpy data array\n",
    "badvoldata = np.asanyarray(badvol.dataobj).astype(np.float64)[...,ssvolnum:]\n",
    "# resave with non steady state vols chopped off\n",
    "namedict['chopvolfname'] = append2fn(niiname, '_{0}vols'.format(badvoldata.shape[-1]))\n",
    "chopvolfname = '{datadir}/{proj}/{subj}/{chopvolfname}'.format(**namedict)\n",
    "nib.save(nib.Nifti1Image(badvoldata, badvol.affine), chopvolfname)\n",
    "\n",
    "# make 3 part mask\n",
    "bvsh = badvoldata.shape\n",
    "badvolmask = np.zeros(bvsh).astype(np.int)\n",
    "badvolmask[39:41 ,25:31 ,17:20, :] = 1  # Left operc\n",
    "badvolmask[25:27 ,25:31 ,17:20, :] = 2  # Right operc\n",
    "# define left anterior superior corner voxels for noise estimation\n",
    "oobcoord = np.index_exp[bvsh[0] - 5:bvsh[0] - 1, bvsh[1] - 10:bvsh[1] - 1, bvsh[2] - 4:bvsh[2] - 1, :]\n",
    "badvolmask[oobcoord] = 3 # out of body area left anterior superior corner\n",
    "# save mask to nii file\n",
    "maskfname = '{datadir}/{proj}/{subj}/{maskname}'.format(**namedict)\n",
    "nib.save(nib.Nifti1Image(badvolmask, badvol.affine), maskfname)"
   ]
  },
  {
   "cell_type": "code",
   "execution_count": 2,
   "metadata": {},
   "outputs": [],
   "source": [
    "# generate snr data for ROIs and save nii mask with stats embedded\n",
    "mbadvoldata_roi1 = np.where(badvolmask == 1, badvoldata, np.nan)\n",
    "mean_roi1 = np.nanmean(mbadvoldata_roi1, axis=(0, 1, 2))\n",
    "std_roi1 = np.nanstd(mbadvoldata_roi1, axis=(0, 1, 2))\n",
    "mbadvoldata_roi2 = np.where(badvolmask == 2, badvoldata, np.nan)\n",
    "mean_roi2 = np.nanmean(mbadvoldata_roi2, axis=(0, 1, 2))\n",
    "std_roi2 = np.nanstd(mbadvoldata_roi2, axis=(0, 1, 2))\n",
    "mbadvoldata_roi3 = np.where(badvolmask == 3, badvoldata, np.nan)\n",
    "mean_roi3 = np.nanmean(mbadvoldata_roi3, axis=(0, 1, 2))\n",
    "std_roi3 = np.nanstd(mbadvoldata_roi3, axis=(0, 1, 2))\n",
    "snr1 = mean_roi1 / std_roi3\n",
    "snr2 = mean_roi2 / std_roi3\n",
    "snr1a = mean_roi1 / std_roi1\n",
    "snr2a = mean_roi2 / std_roi2\n",
    "snrmask = np.zeros(bvsh).astype(np.float64)\n",
    "snrmask[39:41 ,25:28 ,17:20, :] = snr1  # Left operc snr mean roi1 / std deviation out of body\n",
    "snrmask[25:27 ,25:28 ,17:20, :] = snr2  # Right operc snr mean roi2 / std deviation out of body\n",
    "snrmask[39:41 ,28:31 ,17:20, :] = snr1a  # Left operc snr mean roi1 / std dev roi1\n",
    "snrmask[25:27 ,28:31 ,17:20, :] = snr2a  # Right operc snr mean roi2 / std dev roi2\n",
    "snrmask[oobcoord] = std_roi3            # out of body sigma left anterior superior corner\n",
    "snrmaskfname = '{datadir}/{proj}/{subj}/{snrmaskname}'.format(**namedict)\n",
    "nib.save(nib.Nifti1Image(snrmask, badvol.affine), snrmaskfname)\n",
    "# todo: save as dataframe to h5 file\n",
    "results_df = pd.DataFrame()"
   ]
  },
  {
   "cell_type": "code",
   "execution_count": 3,
   "metadata": {},
   "outputs": [
    {
     "data": {
      "text/plain": [
       "<seaborn.axisgrid.FacetGrid at 0x186c464e0>"
      ]
     },
     "execution_count": 3,
     "metadata": {},
     "output_type": "execute_result"
    },
    {
     "data": {
      "text/plain": [
       "<Figure size 720x1152 with 0 Axes>"
      ]
     },
     "metadata": {},
     "output_type": "display_data"
    },
    {
     "data": {
      "image/png": "[encoded data removed]",
      "text/plain": [
       "<Figure size 433.11x360 with 1 Axes>"
      ]
     },
     "metadata": {},
     "output_type": "display_data"
    }
   ],
   "source": [
    "plt.figure(figsize=(10,16))\n",
    "sns.set_context('paper', font_scale=2)\n",
    "#sns.legend(['SNR ROI 1', 'SNR ROI 2'])\n",
    "sns.displot(data=[snr1a, snr2a], kde=True, label=['SNR ROI 1', 'SNR ROI 2'])\n"
   ]
  },
  {
   "cell_type": "code",
   "execution_count": 9,
   "metadata": {},
   "outputs": [
    {
     "data": {
      "text/html": [
       "<div>\n",
       "<style scoped>\n",
       "    .dataframe tbody tr th:only-of-type {\n",
       "        vertical-align: middle;\n",
       "    }\n",
       "\n",
       "    .dataframe tbody tr th {\n",
       "        vertical-align: top;\n",
       "    }\n",
       "\n",
       "    .dataframe thead th {\n",
       "        text-align: right;\n",
       "    }\n",
       "</style>\n",
       "<table border=\"1\" class=\"dataframe\">\n",
       "  <thead>\n",
       "    <tr style=\"text-align: right;\">\n",
       "      <th></th>\n",
       "      <th>subid</th>\n",
       "      <th>raw2</th>\n",
       "      <th>raw3</th>\n",
       "      <th>niak2</th>\n",
       "      <th>niak3</th>\n",
       "      <th>motion</th>\n",
       "    </tr>\n",
       "  </thead>\n",
       "  <tbody>\n",
       "    <tr>\n",
       "      <th>0</th>\n",
       "      <td>51456</td>\n",
       "      <td>0</td>\n",
       "      <td>0</td>\n",
       "      <td>0</td>\n",
       "      <td>0</td>\n",
       "      <td>0.295384</td>\n",
       "    </tr>\n",
       "    <tr>\n",
       "      <th>1</th>\n",
       "      <td>51458</td>\n",
       "      <td>4</td>\n",
       "      <td>3</td>\n",
       "      <td>4</td>\n",
       "      <td>0</td>\n",
       "      <td>0.147430</td>\n",
       "    </tr>\n",
       "    <tr>\n",
       "      <th>2</th>\n",
       "      <td>51459</td>\n",
       "      <td>0</td>\n",
       "      <td>0</td>\n",
       "      <td>0</td>\n",
       "      <td>0</td>\n",
       "      <td>0.107184</td>\n",
       "    </tr>\n",
       "    <tr>\n",
       "      <th>3</th>\n",
       "      <td>51460</td>\n",
       "      <td>0</td>\n",
       "      <td>0</td>\n",
       "      <td>0</td>\n",
       "      <td>0</td>\n",
       "      <td>0.122920</td>\n",
       "    </tr>\n",
       "    <tr>\n",
       "      <th>4</th>\n",
       "      <td>51462</td>\n",
       "      <td>3</td>\n",
       "      <td>1</td>\n",
       "      <td>0</td>\n",
       "      <td>0</td>\n",
       "      <td>0.464329</td>\n",
       "    </tr>\n",
       "    <tr>\n",
       "      <th>5</th>\n",
       "      <td>51464</td>\n",
       "      <td>0</td>\n",
       "      <td>0</td>\n",
       "      <td>0</td>\n",
       "      <td>0</td>\n",
       "      <td>0.229093</td>\n",
       "    </tr>\n",
       "    <tr>\n",
       "      <th>6</th>\n",
       "      <td>51465</td>\n",
       "      <td>0</td>\n",
       "      <td>0</td>\n",
       "      <td>0</td>\n",
       "      <td>0</td>\n",
       "      <td>0.108433</td>\n",
       "    </tr>\n",
       "    <tr>\n",
       "      <th>7</th>\n",
       "      <td>51466</td>\n",
       "      <td>0</td>\n",
       "      <td>0</td>\n",
       "      <td>1</td>\n",
       "      <td>0</td>\n",
       "      <td>0.245712</td>\n",
       "    </tr>\n",
       "    <tr>\n",
       "      <th>8</th>\n",
       "      <td>51467</td>\n",
       "      <td>0</td>\n",
       "      <td>0</td>\n",
       "      <td>0</td>\n",
       "      <td>0</td>\n",
       "      <td>0.193433</td>\n",
       "    </tr>\n",
       "    <tr>\n",
       "      <th>9</th>\n",
       "      <td>51469</td>\n",
       "      <td>2</td>\n",
       "      <td>0</td>\n",
       "      <td>1</td>\n",
       "      <td>0</td>\n",
       "      <td>0.214401</td>\n",
       "    </tr>\n",
       "  </tbody>\n",
       "</table>\n",
       "</div>"
      ],
      "text/plain": [
       "   subid  raw2  raw3  niak2  niak3    motion\n",
       "0  51456     0     0      0      0  0.295384\n",
       "1  51458     4     3      4      0  0.147430\n",
       "2  51459     0     0      0      0  0.107184\n",
       "3  51460     0     0      0      0  0.122920\n",
       "4  51462     3     1      0      0  0.464329\n",
       "5  51464     0     0      0      0  0.229093\n",
       "6  51465     0     0      0      0  0.108433\n",
       "7  51466     0     0      1      0  0.245712\n",
       "8  51467     0     0      0      0  0.193433\n",
       "9  51469     2     0      1      0  0.214401"
      ]
     },
     "execution_count": 9,
     "metadata": {},
     "output_type": "execute_result"
    }
   ],
   "source": [
    "toddfile = '/Users/mrjeffs/projects/toddandclark/results/scannerbadness_test_october14_2020.csv'\n",
    "todd_results = pd.read_csv(toddfile)\n",
    "todd_results.head(10)"
   ]
  },
  {
   "cell_type": "code",
   "execution_count": 23,
   "metadata": {},
   "outputs": [
    {
     "data": {
      "text/plain": [
       "PosixPath('/Users/mrjeffs/data')"
      ]
     },
     "execution_count": 23,
     "metadata": {},
     "output_type": "execute_result"
    }
   ],
   "source": [
    "datadir"
   ]
  },
  {
   "cell_type": "code",
   "execution_count": null,
   "metadata": {},
   "outputs": [],
   "source": []
  },
  {
   "cell_type": "code",
   "execution_count": null,
   "metadata": {},
   "outputs": [],
   "source": []
  }
 ],
 "metadata": {
  "kernelspec": {
   "display_name": "Python 3",
   "language": "python",
   "name": "python3"
  },
  "language_info": {
   "codemirror_mode": {
    "name": "ipython",
    "version": 3
   },
   "file_extension": ".py",
   "mimetype": "text/x-python",
   "name": "python",
   "nbconvert_exporter": "python",
   "pygments_lexer": "ipython3",
   "version": "3.6.11"
  }
 },
 "nbformat": 4,
 "nbformat_minor": 4
}
