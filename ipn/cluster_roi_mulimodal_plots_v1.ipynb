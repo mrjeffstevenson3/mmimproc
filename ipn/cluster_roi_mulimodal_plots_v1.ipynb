{
 "cells": [
  {
   "cell_type": "code",
   "execution_count": 5,
   "metadata": {
    "collapsed": true
   },
   "outputs": [],
   "source": [
    "from pathlib import *\n",
    "import numpy as np\n",
    "import pandas as pd\n",
    "import mne\n",
    "import six, os\n",
    "np.set_printoptions(linewidth=999999, precision=6, suppress=True, threshold=99999)\n",
    "pd.set_option('display.width', 999999)\n",
    "pd.set_option('display.max_colwidth', 300)\n",
    "import nibabel as nib\n",
    "import matplotlib.pyplot as plt\n",
    "#plt.interactive(False)\n",
    "from pylabs.correlation.atlas import mori_region_labels, JHUtracts_region_labels\n",
    "from pylabs.projects.bbc.pairing import foster_behav_data, control_behav_data, behav_list\n",
    "from pylabs.projects.bbc.correl.atlases import atlases\n",
    "from pylabs.utils import run_subprocess, WorkingContext\n",
    "from pylabs.utils.paths import getnetworkdataroot\n",
    "fs = Path(getnetworkdataroot())\n",
    "project = 'bbc'\n",
    "statsdir = fs/project/'stats'/'py_correl_5thpass_cthr15_n5000' #'py_correl_2ndpass'   #'py_correl_5thpass_cthr15_n5000'    #'py_correl_3rdpass'   #'py_correl_5thpass'\n",
    "fname_templ = '{pool}_{mod}.nii'\n",
    "cluster_idx_fname_templ = '{pool}_{mod}_{behav}_t{dir}_cluster_index.nii.gz'"
   ]
  },
  {
   "cell_type": "code",
   "execution_count": 6,
   "metadata": {
    "collapsed": false
   },
   "outputs": [
    {
     "name": "stdout",
     "output_type": "stream",
     "text": [
      "successfully entered all cluster index files to dataframe\n"
     ]
    }
   ],
   "source": [
    "# prepare cluster roi data\n",
    "cluster_fname = 'cluster_report.csv'\n",
    "clusters = pd.read_csv(str(statsdir/cluster_fname), index_col=False, dtype='object')\n",
    "clusters.rename(index=str, columns={' k': 'k', ' x': 'x', ' y': 'y', ' z': 'z', ' name': 'name', ' mori': 'mori', ' JHU_tracts': 'JHU_tracts'}, inplace=True)\n",
    "clusters.drop(clusters[(clusters.mori == 'Background') & (clusters.JHU_tracts == 'Background')].index, inplace=True)\n",
    "clusters['mod'] = clusters['name'].str.split('-').apply(lambda x: x[-1])\n",
    "clusters['pool'] = clusters['name'].str.split('-').apply(lambda x: x[-2])\n",
    "clusters['dir'] = clusters['name'].str.split('-').apply(lambda x: x[-3])\n",
    "clusters['behav'] = clusters['name'].str.split('-').apply(lambda x: x[:-3]).str.join('-')\n",
    "clusters['clu_idx_fname'] = clusters[['pool', 'mod', 'behav', 'dir']].apply(lambda x : cluster_idx_fname_templ.format(pool=x[0], mod=x[1], behav=x[2], dir=x[3]), axis=1)\n",
    "with WorkingContext(str(statsdir)):\n",
    "    try:\n",
    "        for i, row in clusters.iterrows():\n",
    "            clusters.ix[i, 'idx_data'] = nib.load(row['clu_idx_fname'])\n",
    "    except:\n",
    "        print('an error has occured loading data into dataframe.')\n",
    "    else:\n",
    "        print('successfully entered all cluster index files to dataframe')"
   ]
  },
  {
   "cell_type": "code",
   "execution_count": 7,
   "metadata": {
    "collapsed": false
   },
   "outputs": [
    {
     "name": "stdout",
     "output_type": "stream",
     "text": [
      "successfully entered all multimodal files to dataframe\n"
     ]
    }
   ],
   "source": [
    "# prepare data for correlations\n",
    "data = pd.DataFrame(index=list(set(clusters['pool'].values)), columns=list(set(clusters['mod'].values)))\n",
    "with WorkingContext(str(statsdir)):\n",
    "    try:\n",
    "        for pool in list(set(clusters['pool'].values)):\n",
    "            for mod in list(set(clusters['mod'].values)):\n",
    "                fname = fname_templ.format(pool=pool, mod=mod)\n",
    "                data.set_value(pool, mod, nib.load(fname))\n",
    "    except:\n",
    "        print('an error has occured loading data into dataframe.')\n",
    "    else:\n",
    "        print('successfully entered all multimodal files to dataframe')"
   ]
  },
  {
   "cell_type": "code",
   "execution_count": null,
   "metadata": {
    "collapsed": true
   },
   "outputs": [],
   "source": [
    "atlases"
   ]
  },
  {
   "cell_type": "code",
   "execution_count": 2,
   "metadata": {
    "collapsed": false
   },
   "outputs": [
    {
     "data": {
      "text/html": [
       "<div>\n",
       "<table border=\"1\" class=\"dataframe\">\n",
       "  <thead>\n",
       "    <tr>\n",
       "      <th></th>\n",
       "      <th colspan=\"2\" halign=\"left\">dwi</th>\n",
       "      <th colspan=\"2\" halign=\"left\">vbm</th>\n",
       "    </tr>\n",
       "    <tr>\n",
       "      <th></th>\n",
       "      <th>mori</th>\n",
       "      <th>JHU_tracts</th>\n",
       "      <th>mori</th>\n",
       "      <th>JHU_tracts</th>\n",
       "    </tr>\n",
       "  </thead>\n",
       "  <tbody>\n",
       "    <tr>\n",
       "      <th>data</th>\n",
       "      <td>NaN</td>\n",
       "      <td>NaN</td>\n",
       "      <td>NaN</td>\n",
       "      <td>NaN</td>\n",
       "    </tr>\n",
       "  </tbody>\n",
       "</table>\n",
       "</div>"
      ],
      "text/plain": [
       "      dwi             vbm           \n",
       "     mori JHU_tracts mori JHU_tracts\n",
       "data  NaN        NaN  NaN        NaN"
      ]
     },
     "execution_count": 2,
     "metadata": {},
     "output_type": "execute_result"
    }
   ],
   "source": [
    "from pathlib import *\n",
    "import pandas as pd\n",
    "import numpy as np\n",
    "import nibabel as nib\n",
    "import scipy.ndimage.measurements as measurements\n",
    "from pylabs.correlation.atlas import mori_region_labels, JHUtracts_region_labels\n",
    "from pylabs.utils.paths import getnetworkdataroot\n",
    "fs = Path(getnetworkdataroot())\n",
    "\"\"\"\n",
    "makes atlas objects.\n",
    "\"\"\"\n",
    "project = 'bbc'\n",
    "atlases_in_templ_sp_dir = fs/project/'reg'/'atlases_in_template_space'\n",
    "# define atlases for labeling in template space\n",
    "atlas_midx = pd.MultiIndex.from_arrays([['dwi', 'dwi', 'vbm', 'vbm'], ['mori', 'JHU_tracts', 'mori', 'JHU_tracts']])\n",
    "atlases = pd.DataFrame(index=['data'], columns=atlas_midx)\n",
    "# get atlas data\n",
    "mori_atlas_vbm = atlases_in_templ_sp_dir/'mori_atlas_reg2template.nii.gz'\n",
    "JHUtracts_atlas_vbm = atlases_in_templ_sp_dir/'ilabsJHUtracts0_atlas_reg2template.nii.gz'\n",
    "mori_atlas_dwi = atlases_in_templ_sp_dir/'mori_atlas_reg2template_resamp2dwi.nii.gz'\n",
    "JHUtracts_atlas_dwi = atlases_in_templ_sp_dir/'ilabsJHUtracts0_atlas_reg2template_resamp2dwi.nii.gz'\n"
   ]
  },
  {
   "cell_type": "code",
   "execution_count": 30,
   "metadata": {
    "collapsed": false
   },
   "outputs": [
    {
     "data": {
      "text/html": [
       "<div>\n",
       "<table border=\"1\" class=\"dataframe\">\n",
       "  <thead>\n",
       "    <tr>\n",
       "      <th></th>\n",
       "      <th colspan=\"2\" halign=\"left\">dwi</th>\n",
       "      <th colspan=\"2\" halign=\"left\">vbm</th>\n",
       "    </tr>\n",
       "    <tr>\n",
       "      <th></th>\n",
       "      <th>JHU_tracts</th>\n",
       "      <th>mori</th>\n",
       "      <th>JHU_tracts</th>\n",
       "      <th>mori</th>\n",
       "    </tr>\n",
       "  </thead>\n",
       "  <tbody>\n",
       "    <tr>\n",
       "      <th>data</th>\n",
       "      <td>&lt;class 'nibabel.nifti1.Nifti1Image'&gt;\\ndata sha...</td>\n",
       "      <td>&lt;class 'nibabel.nifti1.Nifti1Image'&gt;\\ndata sha...</td>\n",
       "      <td>&lt;class 'nibabel.nifti1.Nifti1Image'&gt;\\ndata sha...</td>\n",
       "      <td>&lt;class 'nibabel.nifti1.Nifti1Image'&gt;\\ndata sha...</td>\n",
       "    </tr>\n",
       "  </tbody>\n",
       "</table>\n",
       "</div>"
      ],
      "text/plain": [
       "                                                    dwi  \\\n",
       "                                             JHU_tracts   \n",
       "data  <class 'nibabel.nifti1.Nifti1Image'>\\ndata sha...   \n",
       "\n",
       "                                                         \\\n",
       "                                                   mori   \n",
       "data  <class 'nibabel.nifti1.Nifti1Image'>\\ndata sha...   \n",
       "\n",
       "                                                    vbm  \\\n",
       "                                             JHU_tracts   \n",
       "data  <class 'nibabel.nifti1.Nifti1Image'>\\ndata sha...   \n",
       "\n",
       "                                                         \n",
       "                                                   mori  \n",
       "data  <class 'nibabel.nifti1.Nifti1Image'>\\ndata sha...  "
      ]
     },
     "execution_count": 30,
     "metadata": {},
     "output_type": "execute_result"
    }
   ],
   "source": [
    "atlases.sort_index(axis=1, inplace=True)\n",
    "atlases['vbm'].set_value('data', 'mori', nib.load(str(mori_atlas_vbm)))\n",
    "atlases['vbm'].set_value('data', 'JHU_tracts', nib.load(str(JHUtracts_atlas_vbm)))\n",
    "atlases['dwi'].set_value('data', 'mori', nib.load(str(mori_atlas_dwi)))\n",
    "atlases['dwi'].set_value('data', 'JHU_tracts', nib.load(str(JHUtracts_atlas_dwi)))\n",
    "atlases"
   ]
  },
  {
   "cell_type": "code",
   "execution_count": 51,
   "metadata": {
    "collapsed": false
   },
   "outputs": [
    {
     "data": {
      "text/plain": [
       "(105, 144, 110)"
      ]
     },
     "execution_count": 51,
     "metadata": {},
     "output_type": "execute_result"
    }
   ],
   "source": [
    "atlases.loc['data', ('dwi', 'JHU_tracts')].get_data().shape"
   ]
  },
  {
   "cell_type": "code",
   "execution_count": 1,
   "metadata": {
    "collapsed": false
   },
   "outputs": [
    {
     "data": {
      "text/html": [
       "<div>\n",
       "<table border=\"1\" class=\"dataframe\">\n",
       "  <thead>\n",
       "    <tr style=\"text-align: right;\">\n",
       "      <th></th>\n",
       "      <th>mori</th>\n",
       "      <th>JHU_tracts</th>\n",
       "    </tr>\n",
       "  </thead>\n",
       "  <tbody>\n",
       "    <tr>\n",
       "      <th>data</th>\n",
       "      <td>[[[0.0, 0.0, 0.0, 0.0, 0.0, 0.0, 0.0, 0.0, 0.0...</td>\n",
       "      <td>&lt;class 'nibabel.nifti1.Nifti1Image'&gt;\\ndata sha...</td>\n",
       "    </tr>\n",
       "  </tbody>\n",
       "</table>\n",
       "</div>"
      ],
      "text/plain": [
       "                                                   mori  \\\n",
       "data  [[[0.0, 0.0, 0.0, 0.0, 0.0, 0.0, 0.0, 0.0, 0.0...   \n",
       "\n",
       "                                             JHU_tracts  \n",
       "data  <class 'nibabel.nifti1.Nifti1Image'>\\ndata sha...  "
      ]
     },
     "execution_count": 1,
     "metadata": {},
     "output_type": "execute_result"
    }
   ],
   "source": [
    "atlases['vbm'].set_value('data', 'mori', nib.load(str(mori_atlas_vbm)))\n",
    "atlases['vbm'].set_value('data', 'JHU_tracts', nib.load(str(JHUtracts_atlas_vbm)))\n",
    "atlases['dwi'].set_value('data', 'mori', nib.load(str(mori_atlas_dwi)).get_data())\n",
    "atlases['dwi'].set_value('data', 'JHU_tracts', nib.load(str(JHUtracts_atlas_dwi)))"
   ]
  },
  {
   "cell_type": "code",
   "execution_count": null,
   "metadata": {
    "collapsed": true
   },
   "outputs": [],
   "source": []
  },
  {
   "cell_type": "code",
   "execution_count": null,
   "metadata": {
    "collapsed": true
   },
   "outputs": [],
   "source": []
  },
  {
   "cell_type": "code",
   "execution_count": null,
   "metadata": {
    "collapsed": true
   },
   "outputs": [],
   "source": []
  },
  {
   "cell_type": "code",
   "execution_count": null,
   "metadata": {
    "collapsed": true
   },
   "outputs": [],
   "source": []
  },
  {
   "cell_type": "code",
   "execution_count": null,
   "metadata": {
    "collapsed": true
   },
   "outputs": [],
   "source": []
  },
  {
   "cell_type": "code",
   "execution_count": null,
   "metadata": {
    "collapsed": true
   },
   "outputs": [],
   "source": []
  }
 ],
 "metadata": {
  "kernelspec": {
   "display_name": "Python [conda root]",
   "language": "python",
   "name": "conda-root-py"
  },
  "language_info": {
   "codemirror_mode": {
    "name": "ipython",
    "version": 2
   },
   "file_extension": ".py",
   "mimetype": "text/x-python",
   "name": "python",
   "nbconvert_exporter": "python",
   "pygments_lexer": "ipython2",
   "version": "2.7.13"
  }
 },
 "nbformat": 4,
 "nbformat_minor": 2
}
