{
 "cells": [
  {
   "cell_type": "code",
   "execution_count": 1,
   "metadata": {},
   "outputs": [],
   "source": [
    "%matplotlib inline\n",
    "from pathlib import *\n",
    "import matplotlib.pyplot as plt\n",
    "plt.interactive(True)\n",
    "import seaborn as sns\n",
    "sns.set(color_codes=True)\n",
    "from dipy.segment.mask import applymask\n",
    "from mmimproc.utils import *\n",
    "from mmimproc.structural.brain_extraction import extract_brain\n",
    "import mmimproc as ip, nibabel as nib, dipy, numpy as np, pandas as pd\n",
    "pd.set_option('display.max_colwidth', 90)\n",
    "pd.set_option('display.max_columns', None)\n",
    "pd.set_option('display.width', 1000)\n",
    "pd.set_option(\"display.precision\", 3)\n",
    "pd.options.display.float_format = \"{:,.3f}\".format"
   ]
  },
  {
   "cell_type": "code",
   "execution_count": 2,
   "metadata": {},
   "outputs": [
    {
     "name": "stdout",
     "output_type": "stream",
     "text": [
      "Niprov method [log] called but niprov switched off.\n",
      "Niprov method [log] called but niprov switched off.\n",
      "Niprov method [log] called but niprov switched off.\n"
     ]
    }
   ],
   "source": [
    "rest_fname = Path('/Users/mrjeffs/data/toddandclark/50048/session_1/rest_1/rest_50048.nii')\n",
    "rest_img = nib.load(rest_fname)\n",
    "rest_data = np.asanyarray(rest_img.dataobj).astype(np.float64)\n",
    "rest_meanvol = np.mean(rest_data, axis=(3))\n",
    "mean_fname = Path('/Users/mrjeffs/data/toddandclark/50048/session_1/rest_1/rest_50048_mean.nii.gz')\n",
    "nib.save(nib.Nifti1Image(rest_meanvol, rest_img.affine, rest_img.header), mean_fname)\n",
    "mean_brain, mean_mask, mean_brain_cropped = extract_brain(mean_fname)\n",
    "mean_mask_img = nib.load(mean_mask)\n",
    "mean_mask_data = np.asarray(mean_mask_img.dataobj).astype(np.int64)\n",
    "rest_data_masked = applymask(rest_data, mean_mask_data)\n",
    "nib.save(nib.Nifti1Image(rest_data_masked, rest_img.affine, rest_img.header), append2fn(rest_fname, '_masked_brain'))\n",
    "rest_data_masked[rest_data_masked == 0] = np.nan\n",
    "rest_data_masked_slice_perc = np.nanpercentile(rest_data_masked,[25,50,75],axis=(0,1))\n",
    "rest_data_masked_slice_mean = np.nanmean(rest_data_masked, axis=(0,1))\n",
    "zSlicesStats = (rest_data_masked - rest_data_masked_slice_mean[None, ...]) /   \\\n",
    "    (rest_data_masked_slice_perc[2][None, ...] - rest_data_masked_slice_perc[0][None, ...])\n",
    "nib.save(nib.Nifti1Image(zSlicesStats, rest_img.affine, rest_img.header), append2fn(rest_fname, '_zslicesstats'))"
   ]
  },
  {
   "cell_type": "code",
   "execution_count": 3,
   "metadata": {},
   "outputs": [
    {
     "data": {
      "text/plain": [
       "PosixPath('/Users/mrjeffs/data')"
      ]
     },
     "execution_count": 3,
     "metadata": {},
     "output_type": "execute_result"
    }
   ],
   "source": []
  },
  {
   "cell_type": "code",
   "execution_count": null,
   "metadata": {},
   "outputs": [],
   "source": []
  }
 ],
 "metadata": {
  "kernelspec": {
   "display_name": "Python 3",
   "language": "python",
   "name": "python3"
  },
  "language_info": {
   "codemirror_mode": {
    "name": "ipython",
    "version": 3
   },
   "file_extension": ".py",
   "mimetype": "text/x-python",
   "name": "python",
   "nbconvert_exporter": "python",
   "pygments_lexer": "ipython3",
   "version": "3.6.11"
  }
 },
 "nbformat": 4,
 "nbformat_minor": 4
}
