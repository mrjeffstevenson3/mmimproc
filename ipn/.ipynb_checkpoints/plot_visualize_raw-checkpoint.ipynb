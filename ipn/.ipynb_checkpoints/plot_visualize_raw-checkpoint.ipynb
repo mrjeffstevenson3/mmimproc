{
 "cells": [
  {
   "cell_type": "code",
   "execution_count": null,
   "metadata": {
    "collapsed": false
   },
   "outputs": [],
   "source": [
    "%matplotlib inline"
   ]
  },
  {
   "cell_type": "markdown",
   "metadata": {},
   "source": [
    "\n",
    ".. _tut_viz_raw:\n",
    "\n",
    "Visualize Raw data\n",
    "==================\n",
    "\n"
   ]
  },
  {
   "cell_type": "code",
   "execution_count": null,
   "metadata": {
    "collapsed": false
   },
   "outputs": [],
   "source": [
    "import os.path as op\n",
    "\n",
    "import mne\n",
    "\n",
    "data_path = op.join(mne.datasets.sample.data_path(), 'MEG', 'sample')\n",
    "raw = mne.io.read_raw_fif(op.join(data_path, 'sample_audvis_raw.fif'))\n",
    "events = mne.read_events(op.join(data_path, 'sample_audvis_raw-eve.fif'))"
   ]
  },
  {
   "cell_type": "markdown",
   "metadata": {},
   "source": [
    "The visualization module (:mod:`mne.viz`) contains all the plotting functions\n",
    "that work in combination with MNE data structures. Usually the easiest way to\n",
    "use them is to call a method of the data container. All of the plotting\n",
    "method names start with ``plot``. If you're using Ipython console, you can\n",
    "just write ``raw.plot`` and ask the interpreter for suggestions with a\n",
    "``tab`` key.\n",
    "\n",
    "To visually inspect your raw data, you can use the python equivalent of\n",
    "``mne_browse_raw``.\n"
   ]
  },
  {
   "cell_type": "code",
   "execution_count": null,
   "metadata": {
    "collapsed": false
   },
   "outputs": [],
   "source": [
    "raw.plot(block=True, events=events)"
   ]
  },
  {
   "cell_type": "markdown",
   "metadata": {},
   "source": [
    "The channels are color coded by channel type. Generally MEG channels are\n",
    "colored in different shades of blue, whereas EEG channels are black. The\n",
    "channels are also sorted by channel type by default. If you want to use a\n",
    "custom order for the channels, you can use ``order`` parameter of\n",
    ":func:`raw.plot`. The scrollbar on right side of the browser window also\n",
    "tells us that two of the channels are marked as ``bad``. Bad channels are\n",
    "color coded gray. By clicking the lines or channel names on the left, you can\n",
    "mark or unmark a bad channel interactively. You can use +/- keys to adjust\n",
    "the scale (also = works for magnifying the data). Note that the initial\n",
    "scaling factors can be set with parameter ``scalings``. With\n",
    "``pageup/pagedown`` and ``home/end`` keys you can adjust the amount of data\n",
    "viewed at once. To see all the interactive features, hit ``?`` or click\n",
    "``help`` in the lower left corner of the browser window.\n",
    "\n",
    "We read the events from a file and passed it as a parameter when calling the\n",
    "method. The events are plotted as vertical lines so you can see how they\n",
    "align with the raw data.\n",
    "\n",
    "We can check where the channels reside with ``plot_sensors``. Notice that\n",
    "this method (along with many other MNE plotting functions) is callable using\n",
    "any MNE data container where the channel information is available.\n"
   ]
  },
  {
   "cell_type": "code",
   "execution_count": null,
   "metadata": {
    "collapsed": false
   },
   "outputs": [],
   "source": [
    "raw.plot_sensors(kind='3d', ch_type='mag')"
   ]
  },
  {
   "cell_type": "markdown",
   "metadata": {},
   "source": [
    "Now let's add some ssp projectors to the raw data. Here we read them from a\n",
    "file and plot them.\n"
   ]
  },
  {
   "cell_type": "code",
   "execution_count": null,
   "metadata": {
    "collapsed": false
   },
   "outputs": [],
   "source": [
    "projs = mne.read_proj(op.join(data_path, 'sample_audvis_eog-proj.fif'))\n",
    "raw.add_proj(projs)\n",
    "raw.plot_projs_topomap()"
   ]
  },
  {
   "cell_type": "markdown",
   "metadata": {},
   "source": [
    "The first three projectors that we see are the SSP vectors from empty room\n",
    "measurements to compensate for the noise. The fourth one is the average EEG\n",
    "reference. These are already applied to the data and can no longer be\n",
    "removed. The next six are the EOG projections that we added. Every data\n",
    "channel type has two projection vectors each. Let's try the raw browser\n",
    "again.\n"
   ]
  },
  {
   "cell_type": "code",
   "execution_count": null,
   "metadata": {
    "collapsed": false
   },
   "outputs": [],
   "source": [
    "raw.plot()"
   ]
  },
  {
   "cell_type": "markdown",
   "metadata": {},
   "source": [
    "Now click the `proj` button at the lower right corner of the browser\n",
    "window. A selection dialog should appear, where you can toggle the projectors\n",
    "on and off. Notice that the first four are already applied to the data and\n",
    "toggling them does not change the data. However the newly added projectors\n",
    "modify the data to get rid of the EOG artifacts. Note that toggling the\n",
    "projectors here doesn't actually modify the data. This is purely for visually\n",
    "inspecting the effect. See :func:`mne.io.Raw.del_proj` to actually remove the\n",
    "projectors.\n",
    "\n",
    "Raw container also lets us easily plot the power spectra over the raw data.\n",
    "See the API documentation for more info.\n"
   ]
  },
  {
   "cell_type": "code",
   "execution_count": null,
   "metadata": {
    "collapsed": false
   },
   "outputs": [],
   "source": [
    "raw.plot_psd()"
   ]
  },
  {
   "cell_type": "markdown",
   "metadata": {},
   "source": [
    "Plotting channel wise power spectra is just as easy. The layout is inferred\n",
    "from the data by default when plotting topo plots. This works for most data,\n",
    "but it is also possible to define the layouts by hand. Here we select a\n",
    "layout with only magnetometer channels and plot it. Then we plot the channel\n",
    "wise spectra of first 30 seconds of the data.\n"
   ]
  },
  {
   "cell_type": "code",
   "execution_count": null,
   "metadata": {
    "collapsed": false
   },
   "outputs": [],
   "source": [
    "layout = mne.channels.read_layout('Vectorview-mag')\n",
    "layout.plot()\n",
    "raw.plot_psd_topo(tmax=30., fmin=5., fmax=60., n_fft=1024, layout=layout)"
   ]
  }
 ],
 "metadata": {
  "kernelspec": {
   "display_name": "Python 2",
   "language": "python",
   "name": "python2"
  },
  "language_info": {
   "codemirror_mode": {
    "name": "ipython",
    "version": 2
   },
   "file_extension": ".py",
   "mimetype": "text/x-python",
   "name": "python",
   "nbconvert_exporter": "python",
   "pygments_lexer": "ipython2",
   "version": "2.7.12"
  }
 },
 "nbformat": 4,
 "nbformat_minor": 0
}
