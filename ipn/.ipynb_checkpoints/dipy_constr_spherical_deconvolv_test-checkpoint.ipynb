{
 "cells": [
  {
   "cell_type": "code",
   "execution_count": 1,
   "metadata": {
    "collapsed": false
   },
   "outputs": [
    {
     "name": "stdout",
     "output_type": "stream",
     "text": [
      "Saving illustration as initial_vs_updated.png\n",
      "Saving illustration as full_sphere.png\n",
      "[    0.  1000.  1000.  1000.  1000.  1000.  1000.  1000.  1000.  1000.\n",
      "  1000.  1000.  1000.  1000.  1000.  1000.  1000.  1000.  1000.  1000.\n",
      "  1000.  1000.  1000.  1000.  1000.  1000.  1000.  1000.  1000.  1000.\n",
      "  1000.  1000.  1000.  1000.  1000.  1000.  1000.  1000.  1000.  1000.\n",
      "  1000.  1000.  1000.  1000.  1000.  1000.  1000.  1000.  1000.  1000.\n",
      "  1000.  1000.  1000.  1000.  1000.  1000.  1000.  1000.  1000.  1000.\n",
      "  1000.  1000.  1000.  1000.  1000.  2500.  2500.  2500.  2500.  2500.\n",
      "  2500.  2500.  2500.  2500.  2500.  2500.  2500.  2500.  2500.  2500.\n",
      "  2500.  2500.  2500.  2500.  2500.  2500.  2500.  2500.  2500.  2500.\n",
      "  2500.  2500.  2500.  2500.  2500.  2500.  2500.  2500.  2500.  2500.\n",
      "  2500.  2500.  2500.  2500.  2500.  2500.  2500.  2500.  2500.  2500.\n",
      "  2500.  2500.  2500.  2500.  2500.  2500.  2500.  2500.  2500.  2500.\n",
      "  2500.  2500.  2500.  2500.  2500.  2500.  2500.  2500.  2500.     0.]\n",
      "[[ 0.          0.          0.        ]\n",
      " [-0.03346573 -0.90760242  0.41849479]\n",
      " [ 0.26358351 -0.82849733  0.49408088]\n",
      " [ 0.27789705 -0.94009781  0.19745716]\n",
      " [ 0.4974299   0.83178879  0.24635525]\n",
      " [-0.24055818  0.6843307   0.6883482 ]\n",
      " [-0.37698003  0.83391725  0.4030733 ]\n",
      " [-0.28612573 -0.53191006  0.79699671]\n",
      " [-0.52319634 -0.3077961   0.79468682]\n",
      " [ 0.48823208  0.25602443  0.83431464]\n",
      " [ 0.31681183 -0.3146907   0.89476255]\n",
      " [-0.60424609 -0.52303184  0.60110262]\n",
      " [ 0.42278017  0.73472891  0.53050011]\n",
      " [ 0.53100693 -0.66624682  0.52359031]\n",
      " [ 0.56659741 -0.78758091  0.24224715]\n",
      " [ 0.73753849  0.15882799  0.65636168]\n",
      " [ 0.12883652  0.73996663  0.66018977]\n",
      " [-0.58238875 -0.73077749  0.35607247]\n",
      " [ 0.19301228  0.92387941  0.33044379]\n",
      " [-0.25290025 -0.22248757  0.94156293]\n",
      " [-0.1357049   0.14295121  0.98038213]\n",
      " [ 0.30844603  0.01078856  0.95118066]\n",
      " [ 0.93206901  0.33557236  0.13652308]\n",
      " [ 0.28639085 -0.60327856  0.74433545]\n",
      " [ 0.60160795  0.49799847  0.62455216]\n",
      " [ 0.76199177 -0.47387024  0.44137914]\n",
      " [ 0.01426361 -0.45574095  0.88999817]\n",
      " [-0.79145823  0.38695997  0.47313408]\n",
      " [ 0.57539189 -0.40043338  0.71314605]\n",
      " [-0.42683634  0.05117273  0.90287989]\n",
      " [-0.63620837  0.67815848  0.36788583]\n",
      " [-0.07874325  0.87417361  0.47918681]\n",
      " [-0.03445926  0.51349852  0.85739829]\n",
      " [-0.84702678  0.08861658  0.52411138]\n",
      " [-0.94844699 -0.24962592  0.19528239]\n",
      " [-0.61997544  0.27104413  0.73631891]\n",
      " [-0.01503877 -0.72506033  0.68852113]\n",
      " [ 0.99754819  0.03268434  0.0618817 ]\n",
      " [-0.82272994 -0.2472238   0.51185528]\n",
      " [ 0.29851361  0.95407239  0.02520914]\n",
      " [-0.60192665 -0.79683916  0.05226532]\n",
      " [-0.32301265 -0.90278736  0.28396797]\n",
      " [-0.32736253 -0.74945894  0.57545206]\n",
      " [ 0.3104059   0.51991658  0.79582342]\n",
      " [-0.66503994  0.74467447  0.05640756]\n",
      " [-0.79996167 -0.50344351  0.32650567]\n",
      " [ 0.14410677  0.27430103  0.95078504]\n",
      " [-0.33024073  0.38420003  0.86216669]\n",
      " [-0.52477272  0.56221121  0.6391652 ]\n",
      " [ 0.79693009 -0.16897638  0.57995639]\n",
      " [-0.95984249  0.27885088  0.03073418]\n",
      " [ 0.81881619  0.37776684  0.43224098]\n",
      " [-0.67717107 -0.05992845  0.73338116]\n",
      " [-0.81979115 -0.57222034  0.02250212]\n",
      " [ 0.92159924  0.07272232  0.38126933]\n",
      " [-0.10656406  0.97882988  0.174746  ]\n",
      " [ 0.81980016 -0.5528651   0.14922423]\n",
      " [-0.96291797  0.06955277  0.26067489]\n",
      " [ 0.57852988 -0.08756446  0.81094738]\n",
      " [ 0.03694829 -0.13368282  0.99033516]\n",
      " [-0.40583033  0.90961932  0.0888507 ]\n",
      " [ 0.72012121  0.63065818  0.28930209]\n",
      " [-0.0189192  -0.99431395  0.10479422]\n",
      " [ 0.92930227 -0.24015405  0.28057676]\n",
      " [-0.84712984  0.4946652   0.19410663]\n",
      " [-0.03346573 -0.90760242  0.41849479]\n",
      " [ 0.26358351 -0.82849733  0.49408088]\n",
      " [ 0.27789705 -0.94009781  0.19745716]\n",
      " [ 0.4974299   0.83178879  0.24635525]\n",
      " [-0.24055818  0.6843307   0.6883482 ]\n",
      " [-0.37698003  0.83391725  0.4030733 ]\n",
      " [-0.28612573 -0.53191006  0.79699671]\n",
      " [-0.52319634 -0.3077961   0.79468682]\n",
      " [ 0.48823208  0.25602443  0.83431464]\n",
      " [ 0.31681183 -0.3146907   0.89476255]\n",
      " [-0.60424609 -0.52303184  0.60110262]\n",
      " [ 0.42278017  0.73472891  0.53050011]\n",
      " [ 0.53100693 -0.66624682  0.52359031]\n",
      " [ 0.56659741 -0.78758091  0.24224715]\n",
      " [ 0.73753849  0.15882799  0.65636168]\n",
      " [ 0.12883652  0.73996663  0.66018977]\n",
      " [-0.58238875 -0.73077749  0.35607247]\n",
      " [ 0.19301228  0.92387941  0.33044379]\n",
      " [-0.25290025 -0.22248757  0.94156293]\n",
      " [-0.1357049   0.14295121  0.98038213]\n",
      " [ 0.30844603  0.01078856  0.95118066]\n",
      " [ 0.93206901  0.33557236  0.13652308]\n",
      " [ 0.28639085 -0.60327856  0.74433545]\n",
      " [ 0.60160795  0.49799847  0.62455216]\n",
      " [ 0.76199177 -0.47387024  0.44137914]\n",
      " [ 0.01426361 -0.45574095  0.88999817]\n",
      " [-0.79145823  0.38695997  0.47313408]\n",
      " [ 0.57539189 -0.40043338  0.71314605]\n",
      " [-0.42683634  0.05117273  0.90287989]\n",
      " [-0.63620837  0.67815848  0.36788583]\n",
      " [-0.07874325  0.87417361  0.47918681]\n",
      " [-0.03445926  0.51349852  0.85739829]\n",
      " [-0.84702678  0.08861658  0.52411138]\n",
      " [-0.94844699 -0.24962592  0.19528239]\n",
      " [-0.61997544  0.27104413  0.73631891]\n",
      " [-0.01503877 -0.72506033  0.68852113]\n",
      " [ 0.99754819  0.03268434  0.0618817 ]\n",
      " [-0.82272994 -0.2472238   0.51185528]\n",
      " [ 0.29851361  0.95407239  0.02520914]\n",
      " [-0.60192665 -0.79683916  0.05226532]\n",
      " [-0.32301265 -0.90278736  0.28396797]\n",
      " [-0.32736253 -0.74945894  0.57545206]\n",
      " [ 0.3104059   0.51991658  0.79582342]\n",
      " [-0.66503994  0.74467447  0.05640756]\n",
      " [-0.79996167 -0.50344351  0.32650567]\n",
      " [ 0.14410677  0.27430103  0.95078504]\n",
      " [-0.33024073  0.38420003  0.86216669]\n",
      " [-0.52477272  0.56221121  0.6391652 ]\n",
      " [ 0.79693009 -0.16897638  0.57995639]\n",
      " [-0.95984249  0.27885088  0.03073418]\n",
      " [ 0.81881619  0.37776684  0.43224098]\n",
      " [-0.67717107 -0.05992845  0.73338116]\n",
      " [-0.81979115 -0.57222034  0.02250212]\n",
      " [ 0.92159924  0.07272232  0.38126933]\n",
      " [-0.10656406  0.97882988  0.174746  ]\n",
      " [ 0.81980016 -0.5528651   0.14922423]\n",
      " [-0.96291797  0.06955277  0.26067489]\n",
      " [ 0.57852988 -0.08756446  0.81094738]\n",
      " [ 0.03694829 -0.13368282  0.99033516]\n",
      " [-0.40583033  0.90961932  0.0888507 ]\n",
      " [ 0.72012121  0.63065818  0.28930209]\n",
      " [-0.0189192  -0.99431395  0.10479422]\n",
      " [ 0.92930227 -0.24015405  0.28057676]\n",
      " [-0.84712984  0.4946652   0.19410663]\n",
      " [ 0.          0.          0.        ]]\n",
      "Saving illustration as gradients.png\n"
     ]
    }
   ],
   "source": [
    "outdir='/media/DiskArray/shared_data/js/bbc/defunct_data/test_dwi_out'\n",
    "import os\n",
    "os.chdir(outdir)\n",
    "%matplotlib inline\n",
    "import matplotlib.pyplot as plt\n",
    "import numpy as np\n",
    "from dipy.core.sphere import disperse_charges, Sphere, HemiSphere\n",
    "n_pts = 64\n",
    "theta = np.pi * np.random.rand(n_pts)\n",
    "phi = 2 * np.pi * np.random.rand(n_pts)\n",
    "hsph_initial = HemiSphere(theta=theta, phi=phi)\n",
    "hsph_updated, potential = disperse_charges(hsph_initial, 5000)\n",
    "from dipy.viz import fvtk\n",
    "ren = fvtk.ren()\n",
    "fvtk.rm_all(ren)\n",
    "ren.SetBackground(1, 1, 1)\n",
    "fvtk.add(ren, fvtk.point(hsph_initial.vertices, fvtk.colors.red, point_radius=0.05))\n",
    "fvtk.add(ren, fvtk.point(hsph_updated.vertices, fvtk.colors.green, point_radius=0.05))\n",
    "\n",
    "print('Saving illustration as initial_vs_updated.png')\n",
    "fvtk.record(ren, out_path='initial_vs_updated.png', size=(600, 600))\n",
    "fvtk.show(ren)\n",
    "sph = Sphere(xyz = np.vstack((hsph_updated.vertices, -hsph_updated.vertices)))\n",
    "\n",
    "fvtk.rm_all(ren)\n",
    "fvtk.add(ren, fvtk.point(sph.vertices, fvtk.colors.green, point_radius=0.05))\n",
    "\n",
    "print('Saving illustration as full_sphere.png')\n",
    "fvtk.record(ren, out_path='full_sphere.png', size=(600, 600))\n",
    "fvtk.show(ren)\n",
    "from dipy.core.gradients import gradient_table\n",
    "\n",
    "vertices = hsph_updated.vertices\n",
    "values = np.ones(vertices.shape[0])\n",
    "bvecs = np.vstack((vertices, vertices))\n",
    "bvals = np.hstack((1000 * values, 2500 * values))\n",
    "bvecs = np.insert(bvecs, (0, bvecs.shape[0]), np.array([0, 0, 0]), axis=0)\n",
    "bvals = np.insert(bvals, (0, bvals.shape[0]), 0)\n",
    "\n",
    "print(bvals)\n",
    "print(bvecs)\n",
    "\n",
    "gtab = gradient_table(bvals, bvecs)\n",
    "\n",
    "fvtk.rm_all(ren)\n",
    "colors_b1000 = fvtk.colors.blue * np.ones(vertices.shape)\n",
    "colors_b2500 = fvtk.colors.cyan * np.ones(vertices.shape)\n",
    "colors = np.vstack((colors_b1000, colors_b2500))\n",
    "colors = np.insert(colors, (0, colors.shape[0]), np.array([0, 0, 0]), axis=0)\n",
    "colors = np.ascontiguousarray(colors)\n",
    "\n",
    "fvtk.add(ren, fvtk.point(gtab.gradients, colors, point_radius=100))\n",
    "\n",
    "print('Saving illustration as gradients.png')\n",
    "fvtk.record(ren, out_path='gradients.png', size=(600, 600))\n",
    "fvtk.show(ren)"
   ]
  },
  {
   "cell_type": "code",
   "execution_count": 2,
   "metadata": {
    "collapsed": false
   },
   "outputs": [
    {
     "name": "stdout",
     "output_type": "stream",
     "text": [
      "Dataset is already in place. If you want to fetch it again please first remove the folder /home/toddr/.dipy/stanford_hardi \n",
      "Dataset is already in place. If you want to fetch it again please first remove the folder /home/toddr/.dipy/stanford_hardi \n",
      "Saving illustration as stanford_hardi_gradients.png\n"
     ]
    }
   ],
   "source": [
    "import numpy as np\n",
    "\n",
    "from dipy.data import fetch_stanford_hardi, read_stanford_hardi\n",
    "\n",
    "fetch_stanford_hardi()\n",
    "img, gtabsh = read_stanford_hardi()\n",
    "\n",
    "data = img.get_data()\n",
    "from dipy.viz import fvtk\n",
    "ren2 = fvtk.ren()\n",
    "fvtk.rm_all(ren2)\n",
    "ren2.SetBackground(1, 1, 1)\n",
    "colors_b2000 = fvtk.colors.blue * np.ones(gtabsh.bvecs.shape)\n",
    "fvtk.add(ren2, fvtk.point(gtabsh.gradients, colors_b2000, point_radius=100))\n",
    "print('Saving illustration as stanford_hardi_gradients.png')\n",
    "fvtk.record(ren2, out_path='stanford_hardi_gradients.png', size=(600, 600))\n",
    "fvtk.show(ren2)"
   ]
  },
  {
   "cell_type": "code",
   "execution_count": 3,
   "metadata": {
    "collapsed": false
   },
   "outputs": [
    {
     "name": "stdout",
     "output_type": "stream",
     "text": [
      "(array([ 0.00140825,  0.00029852,  0.00029852]), 416.2059843885516)\n",
      "ratio=0.211976678953\n"
     ]
    }
   ],
   "source": [
    "#using FA threshold as response determinant\n",
    "from dipy.reconst.csdeconv import auto_response\n",
    "response, ratio = auto_response(gtabsh, data, roi_radius=10, fa_thr=0.7)\n",
    "print(response)\n",
    "print('ratio='+str(ratio))"
   ]
  },
  {
   "cell_type": "code",
   "execution_count": 4,
   "metadata": {
    "collapsed": false
   },
   "outputs": [
    {
     "name": "stdout",
     "output_type": "stream",
     "text": [
      "Saving illustration as csd_response.png\n"
     ]
    }
   ],
   "source": [
    "from dipy.viz import fvtk\n",
    "ren3 = fvtk.ren()\n",
    "fvtk.rm_all(ren3)\n",
    "evals = response[0]\n",
    "evecs = np.array([[0, 1, 0], [0, 0, 1], [1, 0, 0]]).T\n",
    "from dipy.data import get_sphere\n",
    "sphere = get_sphere('symmetric724')\n",
    "from dipy.sims.voxel import single_tensor_odf\n",
    "response_odf = single_tensor_odf(sphere.vertices, evals, evecs)\n",
    "response_actor = fvtk.sphere_funcs(response_odf, sphere)\n",
    "fvtk.add(ren3, response_actor)\n",
    "print('Saving illustration as csd_response.png')\n",
    "fvtk.record(ren3, out_path='csd_response.png', size=(600, 600))\n",
    "fvtk.show(ren3)"
   ]
  },
  {
   "cell_type": "code",
   "execution_count": 5,
   "metadata": {
    "collapsed": false
   },
   "outputs": [
    {
     "data": {
      "text/plain": [
       "array([ 0.00140825,  0.00029852,  0.00029852])"
      ]
     },
     "execution_count": 5,
     "metadata": {},
     "output_type": "execute_result"
    }
   ],
   "source": [
    "response[0]"
   ]
  },
  {
   "cell_type": "code",
   "execution_count": 6,
   "metadata": {
    "collapsed": false
   },
   "outputs": [
    {
     "name": "stdout",
     "output_type": "stream",
     "text": [
      "Saving illustration as csd_recursive_response.png\n"
     ]
    }
   ],
   "source": [
    "#response derived from recursive data-driven method. can be better at higher b vals (more noise?)\n",
    "from dipy.reconst.csdeconv import recursive_response\n",
    "import dipy.reconst.dti as dti\n",
    "tenmodel = dti.TensorModel(gtabsh)\n",
    "tenfit = tenmodel.fit(data, mask=data[..., 0] > 200)\n",
    "\n",
    "from dipy.reconst.dti import fractional_anisotropy\n",
    "FA = fractional_anisotropy(tenfit.evals)\n",
    "MD = dti.mean_diffusivity(tenfit.evals)\n",
    "wm_mask = (np.logical_or(FA >= 0.4, (np.logical_and(FA >= 0.15, MD >= 0.0011))))\n",
    "\n",
    "response = recursive_response(gtabsh, data, mask=wm_mask, sh_order=8,\n",
    "                              peak_thr=0.01, init_fa=0.08,\n",
    "                              init_trace=0.0021, iter=8, convergence=0.001,\n",
    "                              parallel=True)\n",
    "response_signal = response.on_sphere(sphere)\n",
    "response_actor = fvtk.sphere_funcs(response_signal, sphere)\n",
    "\n",
    "ren4 = fvtk.ren()\n",
    "fvtk.rm_all(ren4)\n",
    "fvtk.add(ren4, response_actor)\n",
    "print('Saving illustration as csd_recursive_response.png')\n",
    "fvtk.record(ren4, out_path='csd_recursive_response.png', size=(600, 600))\n",
    "fvtk.show(ren4)"
   ]
  },
  {
   "cell_type": "code",
   "execution_count": 7,
   "metadata": {
    "collapsed": false
   },
   "outputs": [
    {
     "name": "stdout",
     "output_type": "stream",
     "text": [
      "Saving illustration as csd_odfs.png\n"
     ]
    }
   ],
   "source": [
    "ren5 = fvtk.ren()\n",
    "fvtk.rm_all(ren5)\n",
    "from dipy.reconst.csdeconv import ConstrainedSphericalDeconvModel\n",
    "csd_model = ConstrainedSphericalDeconvModel(gtabsh, response)\n",
    "data_small = data[20:50, 55:85, 38:39]\n",
    "csd_fit = csd_model.fit(data_small)\n",
    "csd_odf = csd_fit.odf(sphere)\n",
    "fodf_spheres = fvtk.sphere_funcs(csd_odf, sphere, scale=1.3, norm=False)\n",
    "\n",
    "fvtk.add(ren5, fodf_spheres)\n",
    "\n",
    "print('Saving illustration as csd_odfs.png')\n",
    "fvtk.record(ren, out_path='csd_odfs.png', size=(600, 600))\n",
    "fvtk.show(ren5)"
   ]
  },
  {
   "cell_type": "code",
   "execution_count": 8,
   "metadata": {
    "collapsed": false
   },
   "outputs": [
    {
     "name": "stdout",
     "output_type": "stream",
     "text": [
      "Saving illustration as csd_peaks.png\n"
     ]
    }
   ],
   "source": [
    "from dipy.direction import peaks_from_model\n",
    "\n",
    "csd_peaks = peaks_from_model(model=csd_model,\n",
    "                             data=data_small,\n",
    "                             sphere=sphere,\n",
    "                             relative_peak_threshold=.5,\n",
    "                             min_separation_angle=25,\n",
    "                             parallel=True)\n",
    "\n",
    "ren6 = fvtk.ren()\n",
    "fvtk.clear(ren6)\n",
    "fodf_peaks = fvtk.peaks(csd_peaks.peak_dirs, csd_peaks.peak_values, scale=1.3)\n",
    "fvtk.add(ren6, fodf_peaks)\n",
    "\n",
    "print('Saving illustration as csd_peaks.png')\n",
    "fvtk.record(ren6, out_path='csd_peaks.png', size=(600, 600))\n",
    "fvtk.show(ren6)"
   ]
  },
  {
   "cell_type": "code",
   "execution_count": 9,
   "metadata": {
    "collapsed": false
   },
   "outputs": [
    {
     "name": "stdout",
     "output_type": "stream",
     "text": [
      "Saving illustration as csd_both.png\n"
     ]
    }
   ],
   "source": [
    "ren7 = fvtk.ren()\n",
    "fvtk.clear(ren7)\n",
    "fodf_spheres.GetProperty().SetOpacity(0.4)\n",
    "fvtk.add(ren7, fodf_peaks)\n",
    "fvtk.add(ren7, fodf_spheres)\n",
    "\n",
    "print('Saving illustration as csd_both.png')\n",
    "fvtk.record(ren7, out_path='csd_both.png', size=(600, 600))\n",
    "fvtk.show(ren7)"
   ]
  },
  {
   "cell_type": "code",
   "execution_count": 10,
   "metadata": {
    "collapsed": false
   },
   "outputs": [
    {
     "name": "stdout",
     "output_type": "stream",
     "text": [
      "Saving illustration as tensor_ellipsoids.png\n"
     ]
    }
   ],
   "source": [
    "#tensor comparison\n",
    "from dipy.reconst.dti import color_fa\n",
    "ren8 = fvtk.ren()\n",
    "fvtk.clear(ren8)\n",
    "small_tenfit = tenmodel.fit(data_small, mask=data_small[..., 0] > 200)\n",
    "FA_ = fractional_anisotropy(small_tenfit.evals)\n",
    "RGB = color_fa(FA_, small_tenfit.evecs)\n",
    "evals = small_tenfit.evals\n",
    "evecs = small_tenfit.evecs\n",
    "cfa = RGB\n",
    "cfa /= cfa.max()\n",
    "fvtk.add(ren8, fvtk.tensor(evals, evecs, cfa, sphere))\n",
    "#fvtk.add(ren8, fodf_peaks)\n",
    "\n",
    "\n",
    "print('Saving illustration as tensor_ellipsoids.png')\n",
    "fvtk.record(ren8, n_frames=1, out_path='tensor_ellipsoids8.png', size=(600, 600))\n",
    "fvtk.show(ren8)"
   ]
  },
  {
   "cell_type": "code",
   "execution_count": 11,
   "metadata": {
    "collapsed": false
   },
   "outputs": [
    {
     "data": {
      "text/plain": [
       "(30, 30, 1, 160)"
      ]
     },
     "execution_count": 11,
     "metadata": {},
     "output_type": "execute_result"
    }
   ],
   "source": [
    "data_small.shape"
   ]
  },
  {
   "cell_type": "code",
   "execution_count": 12,
   "metadata": {
    "collapsed": false
   },
   "outputs": [
    {
     "data": {
      "text/plain": [
       "dipy.direction.peaks.PeaksAndMetrics"
      ]
     },
     "execution_count": 12,
     "metadata": {},
     "output_type": "execute_result"
    }
   ],
   "source": [
    "type(csd_peaks)"
   ]
  },
  {
   "cell_type": "code",
   "execution_count": null,
   "metadata": {
    "collapsed": true
   },
   "outputs": [],
   "source": []
  }
 ],
 "metadata": {
  "kernelspec": {
   "display_name": "Python 2",
   "language": "python",
   "name": "python2"
  },
  "language_info": {
   "codemirror_mode": {
    "name": "ipython",
    "version": 2
   },
   "file_extension": ".py",
   "mimetype": "text/x-python",
   "name": "python",
   "nbconvert_exporter": "python",
   "pygments_lexer": "ipython2",
   "version": "2.7.12"
  }
 },
 "nbformat": 4,
 "nbformat_minor": 0
}
