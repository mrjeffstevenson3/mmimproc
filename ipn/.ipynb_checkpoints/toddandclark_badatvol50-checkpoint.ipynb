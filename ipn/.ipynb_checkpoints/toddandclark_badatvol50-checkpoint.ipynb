{
 "cells": [
  {
   "cell_type": "code",
   "execution_count": 1,
   "metadata": {},
   "outputs": [],
   "source": [
    "import numpy as np\n",
    "import nibabel as nib\n",
    "import mmimproc as ip\n",
    "\n",
    "# set up file naming\n",
    "proj = 'toddandclark'\n",
    "subj = 'badrestingstate'\n",
    "niifname = 'rest_50125.nii'\n",
    "nii200volname = 'rest_50125_200vol.nii'\n",
    "maskname = 'rest_50125_mask.nii'\n",
    "snrmaskname = 'rest_50125_snrmask.nii'\n",
    "namedict  = {'proj': proj, 'subj': subj, 'niifname': niifname, 'maskname': maskname,\n",
    "             'snrmaskname': snrmaskname, 'nii200volname': nii200volname}\n",
    "fname = ip.fs_local / '{proj}/{subj}/{niifname}'.format(**namedict)\n",
    "\n",
    "# load resting state file memory map\n",
    "badvol = nib.load(fname)\n",
    "# make the numpy data array\n",
    "badvoldata = np.asanyarray(badvol.dataobj).astype(np.float64)[...,6:]\n",
    "# resave with 1st 5 vols chopped off\n",
    "nii200volfname = ip.fs_local / '{proj}/{subj}/{nii200volname}'.format(**namedict)\n",
    "nib.save(nib.Nifti1Image(badvoldata, badvol.affine), nii200volfname)\n",
    "\n",
    "# make 3 part mask\n",
    "bvsh = badvoldata.shape\n",
    "badvolmask = np.zeros(bvsh).astype(np.int)\n",
    "badvolmask[39:41 ,25:31 ,17:20, :] = 1  # Left operc\n",
    "badvolmask[25:27 ,25:31 ,17:20, :] = 2  # Right operc\n",
    "# define left anterior superior corner voxels for noise estimation\n",
    "oobcoord = np.index_exp[bvsh[0] - 5:bvsh[0] - 1, bvsh[1] - 10:bvsh[1] - 1, bvsh[2] - 4:bvsh[2] - 1, :]\n",
    "badvolmask[oobcoord] = 3 # out of body area left anterior superior corner\n",
    "# save mask to nii file\n",
    "maskfname = ip.fs_local / '{proj}/{subj}/{maskname}'.format(**namedict)\n",
    "nib.save(nib.Nifti1Image(badvolmask, badvol.affine), maskfname)"
   ]
  },
  {
   "cell_type": "code",
   "execution_count": 2,
   "metadata": {},
   "outputs": [],
   "source": [
    "# generate snr data and nii vol\n",
    "mbadvoldata_roi1 = np.where(badvolmask == 1, badvoldata, 0)\n",
    "mbadvoldata_roi1[mbadvoldata_roi1 == 0] = np.nan\n",
    "mean_roi1 = np.nanmean(mbadvoldata_roi1, axis=(0, 1, 2))\n",
    "mbadvoldata_roi2 = np.where(badvolmask == 2, badvoldata, 0)\n",
    "mbadvoldata_roi2[mbadvoldata_roi2 == 0] = np.nan\n",
    "mean_roi2 = np.nanmean(mbadvoldata_roi2, axis=(0, 1, 2))\n",
    "mbadvoldata_roi3 = np.where(badvolmask == 3, badvoldata, 0)\n",
    "mbadvoldata_roi3[mbadvoldata_roi3 == 0] = np.nan\n",
    "std_roi3 = np.nanstd(mbadvoldata_roi3, axis=(0, 1, 2))\n",
    "snr1 = mean_roi1 / std_roi3\n",
    "snr2 = mean_roi2 / std_roi3\n",
    "snrmask = np.zeros(bvsh).astype(np.int)\n",
    "snrmask[39:41 ,25:31 ,17:20, :] = snr1  # Left operc snr\n",
    "snrmask[25:27 ,25:31 ,17:20, :] = snr2  # Right operc snr\n",
    "snrmask[oobcoord] = std_roi3            # out of body sigma left anterior superior corner\n",
    "snrmaskfname = ip.fs_local / '{proj}/{subj}/{snrmaskname}'.format(**namedict)\n",
    "nib.save(nib.Nifti1Image(snrmask, badvol.affine), snrmaskfname)"
   ]
  },
  {
   "cell_type": "code",
   "execution_count": 3,
   "metadata": {
    "collapsed": true,
    "jupyter": {
     "outputs_hidden": true
    }
   },
   "outputs": [
    {
     "data": {
      "text/plain": [
       "array([122.9426016 , 146.77520775, 166.70333953, 150.90601361,\n",
       "       148.00203885, 139.97936935, 146.28492757, 141.6175533 ,\n",
       "       159.06517073, 139.95461318, 124.63283277, 150.68829555,\n",
       "       124.06930688, 137.92075266, 134.68511818, 149.11366658,\n",
       "       131.96800222, 151.25231852, 133.54402049, 143.39311568,\n",
       "       134.68337845, 126.83236247, 143.96653401, 142.80309375,\n",
       "       136.33438225, 128.33118772, 139.39830554, 148.73169676,\n",
       "       123.30503001, 150.8540805 , 151.29183917, 138.03279733,\n",
       "       155.23143973, 151.08714282, 149.00023696, 146.50325144,\n",
       "       135.06898639, 149.06792103, 151.04491356, 145.97741963,\n",
       "       133.32502895, 146.51390095, 146.93331642, 135.65089018,\n",
       "       152.59803338, 119.98774749, 126.64983881, 137.26247707,\n",
       "       146.77817521, 126.13341852, 133.5734203 , 135.01268767,\n",
       "       134.84919718, 138.97977964, 145.40479993, 128.91427577,\n",
       "       120.99478512, 116.49953264, 144.72741854, 151.59660026,\n",
       "       135.11567915, 155.52425782, 124.29890903, 145.59991894,\n",
       "       139.71528773, 144.90071675, 124.57542749, 131.02824722,\n",
       "       149.92312951, 128.37908322, 115.23925034, 130.00843855,\n",
       "       126.20762642, 150.85414838, 148.61219189, 129.53618118,\n",
       "       126.9103765 , 126.56348186, 130.70541209, 131.54980267,\n",
       "       150.47466855, 143.02542931, 120.37559721, 132.33769406,\n",
       "       133.00945724, 137.43160048, 135.66002304, 141.51104869,\n",
       "       175.50361873, 126.80283744, 140.68444064, 139.31395797,\n",
       "       145.74022437, 122.73117127, 133.72097233, 130.87862747,\n",
       "       140.51439019, 138.4506948 , 124.84570902, 135.87666022,\n",
       "       146.89250027, 133.59705136, 143.95924759, 117.47999199,\n",
       "       147.70643556, 134.01758438, 121.59723185, 139.73081337,\n",
       "       134.36149606, 137.26885683, 126.32349237, 124.37994273,\n",
       "       129.00378072, 130.39837444, 130.95322982, 143.68267415,\n",
       "       143.02829791, 136.53764356, 151.56169725, 140.67682215,\n",
       "       149.18579445, 158.61268167, 132.08186789, 147.20248104,\n",
       "       131.74979822, 126.65769201, 124.65404167, 138.99249922,\n",
       "       125.42853409, 152.94569413, 146.28241979, 151.3667852 ,\n",
       "       135.54587224, 135.10248365, 131.59485045, 140.65144212,\n",
       "       142.44917031, 121.68652409, 144.30996245, 143.5092606 ,\n",
       "       134.46827002, 135.89500968, 148.25208599, 145.11908005,\n",
       "       138.85165749, 148.84796706, 128.28517329, 111.24392578,\n",
       "       125.79876163, 127.38545359, 131.19769501, 123.96961169,\n",
       "       136.6659617 , 136.02466996, 134.18427199, 139.41257637,\n",
       "       126.70026047, 147.68202892, 129.36657176, 145.19672626,\n",
       "       113.42582599, 132.14230677, 119.2300269 , 151.35309521,\n",
       "       127.42956069, 136.44536404, 137.01386562, 133.03296011,\n",
       "       123.3210288 , 134.9588294 , 135.17448082, 156.31663931,\n",
       "       147.62471212, 147.17710612, 130.69734078, 131.97453682,\n",
       "       128.27433812, 134.02153311, 134.26234838, 120.72198176,\n",
       "       135.19805305, 125.29472725, 128.78960518, 130.79235243,\n",
       "       159.14737507, 134.46014728, 125.82652355, 134.38245707,\n",
       "       145.26567023, 130.90689772, 137.23359714, 129.22311318,\n",
       "       130.03431806, 133.27489058, 141.49388499, 154.09974434,\n",
       "       165.95267424, 139.98099353, 132.47499684, 126.15129093,\n",
       "       154.37972423, 126.58880243, 134.32327192, 138.98828152])"
      ]
     },
     "execution_count": 3,
     "metadata": {},
     "output_type": "execute_result"
    }
   ],
   "source": [
    "snr1"
   ]
  },
  {
   "cell_type": "code",
   "execution_count": null,
   "metadata": {},
   "outputs": [],
   "source": []
  },
  {
   "cell_type": "code",
   "execution_count": null,
   "metadata": {},
   "outputs": [],
   "source": []
  },
  {
   "cell_type": "code",
   "execution_count": null,
   "metadata": {},
   "outputs": [],
   "source": []
  },
  {
   "cell_type": "code",
   "execution_count": null,
   "metadata": {},
   "outputs": [],
   "source": []
  }
 ],
 "metadata": {
  "kernelspec": {
   "display_name": "Python 3",
   "language": "python",
   "name": "python3"
  },
  "language_info": {
   "codemirror_mode": {
    "name": "ipython",
    "version": 3
   },
   "file_extension": ".py",
   "mimetype": "text/x-python",
   "name": "python",
   "nbconvert_exporter": "python",
   "pygments_lexer": "ipython3",
   "version": "3.6.11"
  }
 },
 "nbformat": 4,
 "nbformat_minor": 4
}
