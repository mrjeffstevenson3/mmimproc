{
 "cells": [
  {
   "cell_type": "code",
   "execution_count": 3,
   "metadata": {},
   "outputs": [
    {
     "data": {
      "text/html": [
       "<div>\n",
       "<style scoped>\n",
       "    .dataframe tbody tr th:only-of-type {\n",
       "        vertical-align: middle;\n",
       "    }\n",
       "\n",
       "    .dataframe tbody tr th {\n",
       "        vertical-align: top;\n",
       "    }\n",
       "\n",
       "    .dataframe thead th {\n",
       "        text-align: right;\n",
       "    }\n",
       "</style>\n",
       "<table border=\"1\" class=\"dataframe\">\n",
       "  <thead>\n",
       "    <tr style=\"text-align: right;\">\n",
       "      <th></th>\n",
       "      <th>Cluster Index</th>\n",
       "      <th>Voxels</th>\n",
       "      <th>MAX</th>\n",
       "      <th>MAX X (vox)</th>\n",
       "      <th>MAX Y (vox)</th>\n",
       "      <th>MAX Z (vox)</th>\n",
       "      <th>COG X (vox)</th>\n",
       "      <th>COG Y (vox)</th>\n",
       "      <th>COG Z (vox)</th>\n",
       "      <th>dist2central</th>\n",
       "      <th>num_y_breaks</th>\n",
       "      <th>num_z_breaks</th>\n",
       "      <th>y_break_coords</th>\n",
       "      <th>z_break_coords</th>\n",
       "    </tr>\n",
       "  </thead>\n",
       "  <tbody>\n",
       "    <tr>\n",
       "      <th>central</th>\n",
       "      <td>3</td>\n",
       "      <td>129.0</td>\n",
       "      <td>23.5</td>\n",
       "      <td>28.0</td>\n",
       "      <td>19.0</td>\n",
       "      <td>24.0</td>\n",
       "      <td>27.8</td>\n",
       "      <td>20.4</td>\n",
       "      <td>23.4</td>\n",
       "      <td>0.000000</td>\n",
       "      <td>0.0</td>\n",
       "      <td>0.0</td>\n",
       "      <td>NaN</td>\n",
       "      <td>NaN</td>\n",
       "    </tr>\n",
       "    <tr>\n",
       "      <th>left</th>\n",
       "      <td>2</td>\n",
       "      <td>6.0</td>\n",
       "      <td>10.3</td>\n",
       "      <td>14.0</td>\n",
       "      <td>18.0</td>\n",
       "      <td>23.0</td>\n",
       "      <td>14.3</td>\n",
       "      <td>17.7</td>\n",
       "      <td>22.5</td>\n",
       "      <td>14.071247</td>\n",
       "      <td>1.0</td>\n",
       "      <td>1.0</td>\n",
       "      <td>21</td>\n",
       "      <td>[]</td>\n",
       "    </tr>\n",
       "    <tr>\n",
       "      <th>right</th>\n",
       "      <td>1</td>\n",
       "      <td>3.0</td>\n",
       "      <td>10.0</td>\n",
       "      <td>39.0</td>\n",
       "      <td>20.0</td>\n",
       "      <td>25.0</td>\n",
       "      <td>39.3</td>\n",
       "      <td>20.0</td>\n",
       "      <td>25.3</td>\n",
       "      <td>11.090537</td>\n",
       "      <td>-1.0</td>\n",
       "      <td>-1.0</td>\n",
       "      <td>[]</td>\n",
       "      <td>[]</td>\n",
       "    </tr>\n",
       "  </tbody>\n",
       "</table>\n",
       "</div>"
      ],
      "text/plain": [
       "        Cluster Index  Voxels   MAX  MAX X (vox)  MAX Y (vox)  MAX Z (vox)  COG X (vox)  COG Y (vox)  COG Z (vox)  dist2central  num_y_breaks  num_z_breaks y_break_coords z_break_coords\n",
       "central             3   129.0  23.5         28.0         19.0         24.0         27.8         20.4         23.4      0.000000           0.0           0.0            NaN            NaN\n",
       "left                2     6.0  10.3         14.0         18.0         23.0         14.3         17.7         22.5     14.071247           1.0           1.0             21             []\n",
       "right               1     3.0  10.0         39.0         20.0         25.0         39.3         20.0         25.3     11.090537          -1.0          -1.0             []             []"
      ]
     },
     "execution_count": 3,
     "metadata": {},
     "output_type": "execute_result"
    }
   ],
   "source": [
    "'''\n",
    "This assumes the highest z score for Default Network (DN) is the central posterior network.\n",
    "'''\n",
    "%matplotlib inline\n",
    "from pathlib import *\n",
    "from io import StringIO\n",
    "import numpy as np\n",
    "import pandas as pd\n",
    "import nibabel as nib\n",
    "import mmimproc as ip\n",
    "from mmimproc.io.mixed import df2h5\n",
    "from mmimproc.utils import run_subprocess\n",
    "import matplotlib.pyplot as plt\n",
    "import seaborn as sns\n",
    "sns.set(color_codes=True)\n",
    "pd.set_option('display.max_colwidth', 90)\n",
    "pd.set_option('display.max_columns', None)\n",
    "pd.set_option('display.width', 1000)\n",
    "  \n",
    "def append2fn(fn, newstr):\n",
    "    \"\"\"Appends new string to end of file name and before file extentions.\n",
    "    \"\"\"\n",
    "    return Path(fn).stem + newstr + ''.join(Path(fn).suffixes)\n",
    "\n",
    "def fslcluster2list(cluster_output):\n",
    "    return [line.split('\\t') for line in StringIO(cluster_output.decode('UTF-8')).read().split('\\n')]\n",
    "    \n",
    "def fslcluster2DF(fname, thresh, *argv):\n",
    "    if not Path(fname).is_file():\n",
    "        raise ValueError('Cannot find stats file '+str(fname))   \n",
    "    cluster_output = run_subprocess(' '.join(['cluster', '-i', fname, '-t', str(thresh), *argv]))\n",
    "    cluster_data = fslcluster2list(cluster_output[0])\n",
    "    cluster_df = pd.DataFrame(cluster_data[1:], columns=cluster_data[0], dtype=np.float)\n",
    "    cluster_df.replace('', np.nan, inplace=True)\n",
    "    cluster_df.dropna(how='all', inplace=True)\n",
    "    return cluster_df\n",
    "\n",
    "ssvolnum = 10    # integer volume number where steady state is acheived\n",
    "thresh = 9.5     # zstat file fsl cluster threshold\n",
    "radius = 1       # radius of cylinder mask for zstat median calculation\n",
    "# set up file naming\n",
    "datadir = ip.fs_local   # enter pathlib or string for BIDS root data directory\n",
    "proj = 'toddandclark'   # enter BIDS project name\n",
    "subj = 'connect_dn'  # enter BIDS subject name (todo: subject list option for for loop)\n",
    "sess = 1             # BIDS session number \n",
    "mod = 'rest_1'       # BIDS modality of interest (here session number appended manually)\n",
    "stats_dir = 'stats'  # stats folder with stats output\n",
    "niiname = 'Step0Orig.nii.gz'  # name of raw resting nifti file to process (todo: for loop if needed)\n",
    "statsfile = 'zstat1.nii.gz'   # name of z-stat file in stats folder\n",
    "seedfile = 'shadowreg_centralsignal.nii.gz'   # optional mask file with DN seed ROI\n",
    "resultsh5 = 'tcj_results1.h5'                 # name of results .h5 file to keep all our hard work safe\n",
    "# dictionary with all stored nomenclature\n",
    "namedict  = {'datadir': datadir, 'proj': proj, 'subj': subj, 'sess': 'session_{0}'.format(sess), 'modality': mod, 'niiname': niiname,\n",
    "              'maskname': append2fn(niiname, '_mask'), 'snrmaskname': append2fn(niiname, '_snrmask'), 'statsfile': statsfile,\n",
    "              'seedfile': seedfile, 'resultsname': resultsh5}\n",
    "\n",
    "cluster_df =  fslcluster2DF('{datadir}/{proj}/{subj}/{sess}/stats/{statsfile}'.format(**namedict), thresh)\n",
    "cluster_df.loc[cluster_df['MAX'].idxmax(axis=1), 'location'] = 'central'\n",
    "cluster_df.loc[cluster_df.loc[:,'MAX X (vox)']  <  cluster_df.loc[cluster_df.loc[:,'location'] == 'central']['MAX X (vox)'][0],'location']  = 'left'\n",
    "cluster_df.loc[cluster_df.loc[:,'MAX X (vox)']  >  cluster_df.loc[cluster_df.loc[:,'location'] == 'central']['MAX X (vox)'][0],'location']  = 'right'\n",
    "cluster_df.set_index('location', inplace=True )\n",
    "coordcols = ['MAX X (vox)',\t'MAX Y (vox)',\t'MAX Z (vox)']\n",
    "cluster_df.loc[cluster_df.index == 'central', ['dist2central', 'num_y_breaks', 'num_z_breaks']] = 0.0\n",
    "cluster_df.loc[cluster_df.index == 'right', 'dist2central'] = \\\n",
    "    np.linalg.norm(cluster_df.loc[cluster_df.index == 'central',:][coordcols].values - cluster_df.loc[cluster_df.index == 'right',:][coordcols].values)\n",
    "cluster_df.loc[cluster_df.index == 'left', 'dist2central'] = \\\n",
    "    np.linalg.norm(cluster_df.loc[cluster_df.index == 'central',:][coordcols].values - cluster_df.loc[cluster_df.index == 'left',:][coordcols].values)\n",
    "cluster_df.loc['left', 'num_y_breaks'] = cluster_df.T.loc[coordcols[1], 'central'] - cluster_df.T.loc[coordcols[1], 'left']\n",
    "cluster_df.loc['left', 'num_z_breaks'] = cluster_df.T.loc[coordcols[2], 'central'] - cluster_df.T.loc[coordcols[2], 'left']\n",
    "cluster_df.loc['right', 'num_y_breaks'] = cluster_df.T.loc[coordcols[1], 'central'] - cluster_df.T.loc[coordcols[1], 'right']\n",
    "cluster_df.loc['right', 'num_z_breaks'] = cluster_df.T.loc[coordcols[2], 'central'] - cluster_df.T.loc[coordcols[2], 'right']\n",
    "\n",
    "tempdf = pd.DataFrame({'y_break_coords': [np.array([]).astype(np.int)] * 2, 'z_break_coords': [np.array([]).astype(np.int)] * 2}, index=['left', 'right'])\n",
    "\n",
    "cluster_df = pd.concat([cluster_df, tempdf], axis=1)\n",
    "\n",
    "#for i in range(np.abs(cluster_df.loc['left', 'num_y_breaks']).astype(np.int)):\n",
    "\n",
    "cluster_df.loc['left', 'y_break_coords'] = np.append(cluster_df.loc['left', 'y_break_coords'], np.array([- ((cluster_df.T.loc[coordcols[0], 'central'] \\\n",
    "                             - cluster_df.T.loc[coordcols[0], 'left'])  //  (cluster_df.loc['left', 'num_y_breaks'] + 1)) + cluster_df.T.loc[coordcols[0], 'central']]).astype(np.int))\n",
    "\n",
    "\n",
    "\"\"\"\n",
    "make mask containing both cylinders.\n",
    "r = 1 is a line.\n",
    "r = 2 is cylinder of diameter 3 voxels\n",
    "r = 3 is cylinder of diameter 5 voxels\n",
    "r = 4 is cylinder of diameter 7 voxels\n",
    "lets stop there.\n",
    "set index for each segment of cylinder to unique label number for stats extraction left: 1 to 20. right: 30-50\n",
    "make break points in y and z dividing up (segmenting) line along x. increment by one voxel at each break point in the direction of left or right point.\n",
    "left: x is decreasing. y is -1 and z is also -1. distance is 14 so at vox count of 7 along x line both y and z should decrease by 1 and hold. x stops at 14 (left max x).\n",
    "right: x is increasing. y is +1 and z is also +1. distance is 11 so vox count of 5 (round down) along x line both y and z should increase by 1 and hold.\n",
    "x stops at 39 (right max x).\n",
    "make x radius fill function has r value and coord to surround x in y and z plane. sets np indexes up to be filled.\n",
    "def fillyz(arr, fillcoord, radius, fillvalue):\n",
    "    arr is array to be filled - here it is cylinder mask\n",
    "    fillcoord is xyz coord inside array to filled around\n",
    "    radius is how many voxels to traverse, index, and fill.\n",
    "    fillvalue is value to set array indexed coord to.\n",
    "left: r = 1, startcoord(28,19,24)\n",
    "    index1 = [[27, 19, 24],\n",
    "              [27, 18, 24],\n",
    "              [27, 18, 25],\n",
    "              [27, 19, 25],\n",
    "              [27, 20, 25],\n",
    "              [27, 20, 24],\n",
    "              [27, 20, 23],\n",
    "              [27, 19, 23],\n",
    "              [27, 18, 23]]\n",
    "    \n",
    "make a table of median zscore values for each point along the line.\n",
    "explore directly sampling zscore file by coordinate.\n",
    "graph median zscores center to left and center to right\n",
    "\"\"\"\n",
    "cluster_df#.loc['right', 'y_break_coords']"
   ]
  },
  {
   "cell_type": "code",
   "execution_count": 11,
   "metadata": {},
   "outputs": [
    {
     "data": {
      "text/plain": [
       "18.0"
      ]
     },
     "execution_count": 11,
     "metadata": {},
     "output_type": "execute_result"
    }
   ],
   "source": [
    "cluster_df.T.loc[coordcols[1], 'left']"
   ]
  },
  {
   "cell_type": "code",
   "execution_count": 6,
   "metadata": {},
   "outputs": [
    {
     "data": {
      "text/plain": [
       "array([], dtype=int64)"
      ]
     },
     "execution_count": 6,
     "metadata": {},
     "output_type": "execute_result"
    }
   ],
   "source": [
    "cluster_df.loc['left', 'z_break_coords']"
   ]
  },
  {
   "cell_type": "code",
   "execution_count": 62,
   "metadata": {},
   "outputs": [
    {
     "data": {
      "text/html": [
       "<div>\n",
       "<style scoped>\n",
       "    .dataframe tbody tr th:only-of-type {\n",
       "        vertical-align: middle;\n",
       "    }\n",
       "\n",
       "    .dataframe tbody tr th {\n",
       "        vertical-align: top;\n",
       "    }\n",
       "\n",
       "    .dataframe thead th {\n",
       "        text-align: right;\n",
       "    }\n",
       "</style>\n",
       "<table border=\"1\" class=\"dataframe\">\n",
       "  <thead>\n",
       "    <tr style=\"text-align: right;\">\n",
       "      <th></th>\n",
       "      <th>Cluster Index</th>\n",
       "      <th>Voxels</th>\n",
       "      <th>MAX</th>\n",
       "      <th>MAX X (vox)</th>\n",
       "      <th>MAX Y (vox)</th>\n",
       "      <th>MAX Z (vox)</th>\n",
       "      <th>COG X (vox)</th>\n",
       "      <th>COG Y (vox)</th>\n",
       "      <th>COG Z (vox)</th>\n",
       "      <th>dist2central</th>\n",
       "      <th>num_y_breaks</th>\n",
       "      <th>num_z_breaks</th>\n",
       "      <th>y_break_coords</th>\n",
       "      <th>z_break_coords</th>\n",
       "      <th>y_break_coords</th>\n",
       "      <th>z_break_coords</th>\n",
       "    </tr>\n",
       "  </thead>\n",
       "  <tbody>\n",
       "    <tr>\n",
       "      <th>central</th>\n",
       "      <td>3</td>\n",
       "      <td>129.0</td>\n",
       "      <td>23.5</td>\n",
       "      <td>28.0</td>\n",
       "      <td>19.0</td>\n",
       "      <td>24.0</td>\n",
       "      <td>27.8</td>\n",
       "      <td>20.4</td>\n",
       "      <td>23.4</td>\n",
       "      <td>0.000000</td>\n",
       "      <td>0.0</td>\n",
       "      <td>0.0</td>\n",
       "      <td>NaN</td>\n",
       "      <td>NaN</td>\n",
       "      <td>NaN</td>\n",
       "      <td>NaN</td>\n",
       "    </tr>\n",
       "    <tr>\n",
       "      <th>left</th>\n",
       "      <td>2</td>\n",
       "      <td>6.0</td>\n",
       "      <td>10.3</td>\n",
       "      <td>14.0</td>\n",
       "      <td>18.0</td>\n",
       "      <td>23.0</td>\n",
       "      <td>14.3</td>\n",
       "      <td>17.7</td>\n",
       "      <td>22.5</td>\n",
       "      <td>14.071247</td>\n",
       "      <td>1.0</td>\n",
       "      <td>1.0</td>\n",
       "      <td>NaN</td>\n",
       "      <td>NaN</td>\n",
       "      <td>[]</td>\n",
       "      <td>[]</td>\n",
       "    </tr>\n",
       "    <tr>\n",
       "      <th>right</th>\n",
       "      <td>1</td>\n",
       "      <td>3.0</td>\n",
       "      <td>10.0</td>\n",
       "      <td>39.0</td>\n",
       "      <td>20.0</td>\n",
       "      <td>25.0</td>\n",
       "      <td>39.3</td>\n",
       "      <td>20.0</td>\n",
       "      <td>25.3</td>\n",
       "      <td>11.090537</td>\n",
       "      <td>-1.0</td>\n",
       "      <td>-1.0</td>\n",
       "      <td>NaN</td>\n",
       "      <td>NaN</td>\n",
       "      <td>[]</td>\n",
       "      <td>[]</td>\n",
       "    </tr>\n",
       "  </tbody>\n",
       "</table>\n",
       "</div>"
      ],
      "text/plain": [
       "        Cluster Index  Voxels   MAX  MAX X (vox)  MAX Y (vox)  MAX Z (vox)  COG X (vox)  COG Y (vox)  COG Z (vox)  dist2central  num_y_breaks  num_z_breaks y_break_coords z_break_coords y_break_coords z_break_coords\n",
       "central             3   129.0  23.5         28.0         19.0         24.0         27.8         20.4         23.4      0.000000           0.0           0.0            NaN            NaN            NaN            NaN\n",
       "left                2     6.0  10.3         14.0         18.0         23.0         14.3         17.7         22.5     14.071247           1.0           1.0            NaN            NaN             []             []\n",
       "right               1     3.0  10.0         39.0         20.0         25.0         39.3         20.0         25.3     11.090537          -1.0          -1.0            NaN            NaN             []             []"
      ]
     },
     "execution_count": 62,
     "metadata": {},
     "output_type": "execute_result"
    }
   ],
   "source": [
    "tempdf = pd.DataFrame({'y_break_coords': [np.array([]).astype(np.int)] * 2, 'z_break_coords': [np.array([]).astype(np.int)] * 2}, index=['left', 'right'])\n",
    "\n",
    "test['y_break_coords'][0] = np.array([]).astype(np.int)\n",
    "test['y_break_coords'][0] = np.append(test['y_break_coords'][0], np.array([2]).astype(np.int))\n",
    "test['y_break_coords'][0] = np.append(test['y_break_coords'][0], np.array([3]).astype(np.int))\n",
    "test['z_break_coords'][0] = np.append(test['z_break_coords'][0], np.array([4]).astype(np.int))\n",
    "test['z_break_coords'][0] = np.append(test['z_break_coords'][0], np.array([5]).astype(np.int))\n",
    "pd.concat([cluster_df, tempdf], axis=1)\n",
    "#test\n",
    "#test['y_break_coords']"
   ]
  },
  {
   "cell_type": "code",
   "execution_count": 54,
   "metadata": {},
   "outputs": [
    {
     "data": {
      "text/plain": [
       "[array([], dtype=int64), array([], dtype=int64)]"
      ]
     },
     "execution_count": 54,
     "metadata": {},
     "output_type": "execute_result"
    }
   ],
   "source": [
    "[np.array([]).astype(np.int)] * 2"
   ]
  },
  {
   "cell_type": "code",
   "execution_count": 9,
   "metadata": {},
   "outputs": [
    {
     "data": {
      "text/html": [
       "<div>\n",
       "<style scoped>\n",
       "    .dataframe tbody tr th:only-of-type {\n",
       "        vertical-align: middle;\n",
       "    }\n",
       "\n",
       "    .dataframe tbody tr th {\n",
       "        vertical-align: top;\n",
       "    }\n",
       "\n",
       "    .dataframe thead th {\n",
       "        text-align: right;\n",
       "    }\n",
       "</style>\n",
       "<table border=\"1\" class=\"dataframe\">\n",
       "  <thead>\n",
       "    <tr style=\"text-align: right;\">\n",
       "      <th></th>\n",
       "      <th>id</th>\n",
       "      <th>a</th>\n",
       "      <th>b</th>\n",
       "      <th>new</th>\n",
       "    </tr>\n",
       "  </thead>\n",
       "  <tbody>\n",
       "    <tr>\n",
       "      <th>0</th>\n",
       "      <td>1</td>\n",
       "      <td>on</td>\n",
       "      <td>on</td>\n",
       "      <td>[1, on, on]</td>\n",
       "    </tr>\n",
       "    <tr>\n",
       "      <th>1</th>\n",
       "      <td>2</td>\n",
       "      <td>on</td>\n",
       "      <td>off</td>\n",
       "      <td>[2, on, off]</td>\n",
       "    </tr>\n",
       "    <tr>\n",
       "      <th>2</th>\n",
       "      <td>3</td>\n",
       "      <td>off</td>\n",
       "      <td>on</td>\n",
       "      <td>[3, off, on]</td>\n",
       "    </tr>\n",
       "    <tr>\n",
       "      <th>3</th>\n",
       "      <td>4</td>\n",
       "      <td>off</td>\n",
       "      <td>off</td>\n",
       "      <td>[4, off, off]</td>\n",
       "    </tr>\n",
       "  </tbody>\n",
       "</table>\n",
       "</div>"
      ],
      "text/plain": [
       "   id    a    b            new\n",
       "0   1   on   on    [1, on, on]\n",
       "1   2   on  off   [2, on, off]\n",
       "2   3  off   on   [3, off, on]\n",
       "3   4  off  off  [4, off, off]"
      ]
     },
     "execution_count": 9,
     "metadata": {},
     "output_type": "execute_result"
    }
   ],
   "source": [
    "df = pd.DataFrame({'id': [1, 2, 3, 4],\n",
    "                   'a': ['on', 'on', 'off', 'off'],\n",
    "                   'b': ['on', 'off', 'on', 'off']})\n",
    "\n",
    "df['new'] = df.apply(lambda r: tuple(r), axis=1).apply(np.array)\n",
    "df"
   ]
  },
  {
   "cell_type": "code",
   "execution_count": 8,
   "metadata": {},
   "outputs": [
    {
     "data": {
      "text/plain": [
       "Cluster Index          2\n",
       "Voxels                 6\n",
       "MAX                 10.3\n",
       "MAX X (vox)           14\n",
       "MAX Y (vox)           18\n",
       "MAX Z (vox)           23\n",
       "COG X (vox)         14.3\n",
       "COG Y (vox)         17.7\n",
       "COG Z (vox)         22.5\n",
       "dist2central     14.0712\n",
       "Name: left, dtype: object"
      ]
     },
     "execution_count": 8,
     "metadata": {},
     "output_type": "execute_result"
    }
   ],
   "source": [
    "cluster_df.loc['left', ]"
   ]
  },
  {
   "cell_type": "code",
   "execution_count": null,
   "metadata": {
    "jupyter": {
     "source_hidden": true
    }
   },
   "outputs": [],
   "source": [
    "radius2id = np.array([[-1,  0,  0],\n",
    "       [-1, -1,  0],\n",
    "       [-1, -1,  1],\n",
    "       [-1,  0,  1],\n",
    "       [-1,  1,  1],\n",
    "       [-1,  1,  0],\n",
    "       [-1,  1, -1],\n",
    "       [-1,  0, -1],\n",
    "       [-1, -1, -1]]).astype(np.int)\n",
    "radius3id = np.array([[-1,  0,  0],\n",
    "       [-1, -1,  0],\n",
    "       [-1, -1,  1],\n",
    "       [-1,  0,  1],\n",
    "       [-1,  1,  1],\n",
    "       [-1,  1,  0],\n",
    "       [-1,  1, -1],\n",
    "       [-1,  0, -1],\n",
    "       [-1, -1, -1],\n",
    "       [-1, -2, -1],\n",
    "       [-1, -2,  0],\n",
    "       [-1, -2,  1],\n",
    "       [-1, -2,  2],\n",
    "       [-1, -1,  2],\n",
    "       [-1,  0,  2],\n",
    "       [-1,  1,  2],\n",
    "       [-1,  2,  2],\n",
    "       [-1,  2,  1],\n",
    "       [-1,  2,  0],\n",
    "       [-1,  2, -1],\n",
    "       [-1,  2, -2],\n",
    "       [-1,  1, -2],\n",
    "       [-1,  0, -2],\n",
    "       [-1, -1, -2],\n",
    "       [-1, -2, -2]]).astype(np.int)\n",
    "# todo: radius 4 and 5 index maps"
   ]
  },
  {
   "cell_type": "code",
   "execution_count": null,
   "metadata": {},
   "outputs": [],
   "source": [
    "zstat_img = nib.load('{datadir}/{proj}/{subj}/{sess}/stats/{statsfile}'.format(**namedict))\n",
    "zstat_data = np.asanyarray(zstat_img.dataobj).astype(np.float64)\n",
    "cylndmask = np.zeros(zstat_data.shape).astype(np.int)\n",
    "# left side first\n",
    "left_breaks = \n",
    "for \n"
   ]
  },
  {
   "cell_type": "code",
   "execution_count": 46,
   "metadata": {},
   "outputs": [
    {
     "data": {
      "text/plain": [
       "array([[27, 19, 24],\n",
       "       [27, 18, 24],\n",
       "       [27, 18, 25],\n",
       "       [27, 19, 25],\n",
       "       [27, 20, 25],\n",
       "       [27, 20, 24],\n",
       "       [27, 20, 23],\n",
       "       [27, 19, 23],\n",
       "       [27, 18, 23],\n",
       "       [27, 17, 23],\n",
       "       [27, 17, 24],\n",
       "       [27, 17, 25],\n",
       "       [27, 17, 26],\n",
       "       [27, 18, 26],\n",
       "       [27, 19, 26],\n",
       "       [27, 20, 26],\n",
       "       [27, 21, 26],\n",
       "       [27, 21, 25],\n",
       "       [27, 21, 24],\n",
       "       [27, 21, 23],\n",
       "       [27, 21, 22],\n",
       "       [27, 20, 22],\n",
       "       [27, 19, 22],\n",
       "       [27, 18, 22],\n",
       "       [27, 17, 22]])"
      ]
     },
     "execution_count": 46,
     "metadata": {},
     "output_type": "execute_result"
    }
   ],
   "source": [
    "r = 2\n",
    "startcoord = np.array([28,19,24]).astype(np.int)\n",
    "index1 = np.array([[27, 19, 24],\n",
    "              [27, 18, 24],\n",
    "              [27, 18, 25],\n",
    "              [27, 19, 25],\n",
    "              [27, 20, 25],\n",
    "              [27, 20, 24],\n",
    "              [27, 20, 23],\n",
    "              [27, 19, 23],\n",
    "              [27, 18, 23]]).astype(np.int)\n",
    "index2 = np.array([[27, 17, 23],\n",
    "              [27, 17, 24],\n",
    "              [27, 17, 25],\n",
    "              [27, 17, 26],\n",
    "              [27, 18, 26],\n",
    "              [27, 19, 26],\n",
    "              [27, 20, 26],\n",
    "              [27, 21, 26],\n",
    "              [27, 21, 25],\n",
    "              [27, 21, 24],\n",
    "              [27, 21, 23],\n",
    "              [27, 21, 22],\n",
    "              [27, 20, 22],\n",
    "              [27, 19, 22],\n",
    "              [27, 18, 22],\n",
    "              [27, 17, 22],]).astype(np.int)\n",
    "\n",
    "filloneid = index1 -  startcoord\n",
    "#filltwoid = np.concatenate([filloneid, np.hstack([np.tile(-1, (9,1)), filloneid[:,1:] * 2])])\n",
    "#fillthreeid = np.concatenate([filltwoid, np.hstack([np.tile(-1, (9,1)), filloneid[:,1:] * 3])])\n",
    "filltwoid = np.concatenate([filloneid, index2 -  startcoord])\n",
    "filltwoid + startcoord"
   ]
  },
  {
   "cell_type": "code",
   "execution_count": 49,
   "metadata": {},
   "outputs": [
    {
     "data": {
      "text/plain": [
       "array([[-1,  0,  0],\n",
       "       [-1, -1,  0],\n",
       "       [-1, -1,  1],\n",
       "       [-1,  0,  1],\n",
       "       [-1,  1,  1],\n",
       "       [-1,  1,  0],\n",
       "       [-1,  1, -1],\n",
       "       [-1,  0, -1],\n",
       "       [-1, -1, -1],\n",
       "       [-1, -2, -1],\n",
       "       [-1, -2,  0],\n",
       "       [-1, -2,  1],\n",
       "       [-1, -2,  2],\n",
       "       [-1, -1,  2],\n",
       "       [-1,  0,  2],\n",
       "       [-1,  1,  2],\n",
       "       [-1,  2,  2],\n",
       "       [-1,  2,  1],\n",
       "       [-1,  2,  0],\n",
       "       [-1,  2, -1],\n",
       "       [-1,  2, -2],\n",
       "       [-1,  1, -2],\n",
       "       [-1,  0, -2],\n",
       "       [-1, -1, -2],\n",
       "       [-1, -2, -2]])"
      ]
     },
     "execution_count": 49,
     "metadata": {},
     "output_type": "execute_result"
    }
   ],
   "source": [
    "filloneid = np.array([[-1,  0,  0],\n",
    "       [-1, -1,  0],\n",
    "       [-1, -1,  1],\n",
    "       [-1,  0,  1],\n",
    "       [-1,  1,  1],\n",
    "       [-1,  1,  0],\n",
    "       [-1,  1, -1],\n",
    "       [-1,  0, -1],\n",
    "       [-1, -1, -1]]).astype(np.int)\n",
    "filltwoid = np.array([[-1,  0,  0],\n",
    "       [-1, -1,  0],\n",
    "       [-1, -1,  1],\n",
    "       [-1,  0,  1],\n",
    "       [-1,  1,  1],\n",
    "       [-1,  1,  0],\n",
    "       [-1,  1, -1],\n",
    "       [-1,  0, -1],\n",
    "       [-1, -1, -1],\n",
    "       [-1, -2, -1],\n",
    "       [-1, -2,  0],\n",
    "       [-1, -2,  1],\n",
    "       [-1, -2,  2],\n",
    "       [-1, -1,  2],\n",
    "       [-1,  0,  2],\n",
    "       [-1,  1,  2],\n",
    "       [-1,  2,  2],\n",
    "       [-1,  2,  1],\n",
    "       [-1,  2,  0],\n",
    "       [-1,  2, -1],\n",
    "       [-1,  2, -2],\n",
    "       [-1,  1, -2],\n",
    "       [-1,  0, -2],\n",
    "       [-1, -1, -2],\n",
    "       [-1, -2, -2]])"
   ]
  },
  {
   "cell_type": "code",
   "execution_count": 28,
   "metadata": {},
   "outputs": [
    {
     "data": {
      "text/plain": [
       "11.090536506409418"
      ]
     },
     "execution_count": 28,
     "metadata": {},
     "output_type": "execute_result"
    }
   ],
   "source": [
    "centralcoord = cluster_df.loc[cluster_df.index == 'central',:][coordcols].values\n",
    "leftcoord = cluster_df.loc[cluster_df.index == 'left',:][coordcols].values\n",
    "rightcoord = cluster_df.loc[cluster_df.index == 'right',:][coordcols].values\n",
    "\n",
    "np.sqrt(np.sum(np.square(rightcoord - centralcoord)))"
   ]
  },
  {
   "cell_type": "code",
   "execution_count": 25,
   "metadata": {},
   "outputs": [
    {
     "data": {
      "text/plain": [
       "14.071247279470288"
      ]
     },
     "execution_count": 25,
     "metadata": {},
     "output_type": "execute_result"
    }
   ],
   "source": [
    "np.linalg.norm(centralcoord - leftcoord)"
   ]
  },
  {
   "cell_type": "code",
   "execution_count": 29,
   "metadata": {},
   "outputs": [
    {
     "data": {
      "text/plain": [
       "11.090536506409418"
      ]
     },
     "execution_count": 29,
     "metadata": {},
     "output_type": "execute_result"
    }
   ],
   "source": [
    "np.linalg.norm(cluster_df.loc[cluster_df.index == 'central',:][coordcols].values - cluster_df.loc[cluster_df.index == 'right',:][coordcols].values)"
   ]
  },
  {
   "cell_type": "code",
   "execution_count": 5,
   "metadata": {
    "collapsed": true,
    "jupyter": {
     "outputs_hidden": true
    }
   },
   "outputs": [
    {
     "ename": "KeyError",
     "evalue": "False",
     "output_type": "error",
     "traceback": [
      "\u001b[0;31m---------------------------------------------------------------------------\u001b[0m",
      "\u001b[0;31mKeyError\u001b[0m                                  Traceback (most recent call last)",
      "\u001b[0;32m~/Software/anaconda2/envs/py36tf/lib/python3.6/site-packages/pandas/core/indexes/base.py\u001b[0m in \u001b[0;36mget_loc\u001b[0;34m(self, key, method, tolerance)\u001b[0m\n\u001b[1;32m   2894\u001b[0m             \u001b[0;32mtry\u001b[0m\u001b[0;34m:\u001b[0m\u001b[0;34m\u001b[0m\u001b[0;34m\u001b[0m\u001b[0m\n\u001b[0;32m-> 2895\u001b[0;31m                 \u001b[0;32mreturn\u001b[0m \u001b[0mself\u001b[0m\u001b[0;34m.\u001b[0m\u001b[0m_engine\u001b[0m\u001b[0;34m.\u001b[0m\u001b[0mget_loc\u001b[0m\u001b[0;34m(\u001b[0m\u001b[0mcasted_key\u001b[0m\u001b[0;34m)\u001b[0m\u001b[0;34m\u001b[0m\u001b[0;34m\u001b[0m\u001b[0m\n\u001b[0m\u001b[1;32m   2896\u001b[0m             \u001b[0;32mexcept\u001b[0m \u001b[0mKeyError\u001b[0m \u001b[0;32mas\u001b[0m \u001b[0merr\u001b[0m\u001b[0;34m:\u001b[0m\u001b[0;34m\u001b[0m\u001b[0;34m\u001b[0m\u001b[0m\n",
      "\u001b[0;32mpandas/_libs/index.pyx\u001b[0m in \u001b[0;36mpandas._libs.index.IndexEngine.get_loc\u001b[0;34m()\u001b[0m\n",
      "\u001b[0;32mpandas/_libs/index.pyx\u001b[0m in \u001b[0;36mpandas._libs.index.IndexEngine.get_loc\u001b[0;34m()\u001b[0m\n",
      "\u001b[0;32mpandas/_libs/index_class_helper.pxi\u001b[0m in \u001b[0;36mpandas._libs.index.Int64Engine._check_type\u001b[0;34m()\u001b[0m\n",
      "\u001b[0;31mKeyError\u001b[0m: False",
      "\nThe above exception was the direct cause of the following exception:\n",
      "\u001b[0;31mKeyError\u001b[0m                                  Traceback (most recent call last)",
      "\u001b[0;32m<ipython-input-5-95b063dd5b67>\u001b[0m in \u001b[0;36m<module>\u001b[0;34m\u001b[0m\n\u001b[0;32m----> 1\u001b[0;31m \u001b[0mcluster_df\u001b[0m\u001b[0;34m.\u001b[0m\u001b[0mloc\u001b[0m\u001b[0;34m[\u001b[0m\u001b[0mcluster_df\u001b[0m\u001b[0;34m[\u001b[0m\u001b[0;34m'MAX X (vox)'\u001b[0m\u001b[0;34m]\u001b[0m \u001b[0;34m<\u001b[0m \u001b[0mcluster_df\u001b[0m\u001b[0;34m.\u001b[0m\u001b[0mloc\u001b[0m\u001b[0;34m[\u001b[0m\u001b[0mcluster_df\u001b[0m\u001b[0;34m.\u001b[0m\u001b[0mloc\u001b[0m\u001b[0;34m[\u001b[0m\u001b[0;34m'location'\u001b[0m \u001b[0;34m==\u001b[0m \u001b[0;34m'central'\u001b[0m\u001b[0;34m]\u001b[0m\u001b[0;34m,\u001b[0m \u001b[0;34m'MAX X (vox)'\u001b[0m\u001b[0;34m]\u001b[0m\u001b[0;34m]\u001b[0m\u001b[0;34m\u001b[0m\u001b[0;34m\u001b[0m\u001b[0m\n\u001b[0m",
      "\u001b[0;32m~/Software/anaconda2/envs/py36tf/lib/python3.6/site-packages/pandas/core/indexing.py\u001b[0m in \u001b[0;36m__getitem__\u001b[0;34m(self, key)\u001b[0m\n\u001b[1;32m    877\u001b[0m \u001b[0;34m\u001b[0m\u001b[0m\n\u001b[1;32m    878\u001b[0m             \u001b[0mmaybe_callable\u001b[0m \u001b[0;34m=\u001b[0m \u001b[0mcom\u001b[0m\u001b[0;34m.\u001b[0m\u001b[0mapply_if_callable\u001b[0m\u001b[0;34m(\u001b[0m\u001b[0mkey\u001b[0m\u001b[0;34m,\u001b[0m \u001b[0mself\u001b[0m\u001b[0;34m.\u001b[0m\u001b[0mobj\u001b[0m\u001b[0;34m)\u001b[0m\u001b[0;34m\u001b[0m\u001b[0;34m\u001b[0m\u001b[0m\n\u001b[0;32m--> 879\u001b[0;31m             \u001b[0;32mreturn\u001b[0m \u001b[0mself\u001b[0m\u001b[0;34m.\u001b[0m\u001b[0m_getitem_axis\u001b[0m\u001b[0;34m(\u001b[0m\u001b[0mmaybe_callable\u001b[0m\u001b[0;34m,\u001b[0m \u001b[0maxis\u001b[0m\u001b[0;34m=\u001b[0m\u001b[0maxis\u001b[0m\u001b[0;34m)\u001b[0m\u001b[0;34m\u001b[0m\u001b[0;34m\u001b[0m\u001b[0m\n\u001b[0m\u001b[1;32m    880\u001b[0m \u001b[0;34m\u001b[0m\u001b[0m\n\u001b[1;32m    881\u001b[0m     \u001b[0;32mdef\u001b[0m \u001b[0m_is_scalar_access\u001b[0m\u001b[0;34m(\u001b[0m\u001b[0mself\u001b[0m\u001b[0;34m,\u001b[0m \u001b[0mkey\u001b[0m\u001b[0;34m:\u001b[0m \u001b[0mTuple\u001b[0m\u001b[0;34m)\u001b[0m\u001b[0;34m:\u001b[0m\u001b[0;34m\u001b[0m\u001b[0;34m\u001b[0m\u001b[0m\n",
      "\u001b[0;32m~/Software/anaconda2/envs/py36tf/lib/python3.6/site-packages/pandas/core/indexing.py\u001b[0m in \u001b[0;36m_getitem_axis\u001b[0;34m(self, key, axis)\u001b[0m\n\u001b[1;32m   1108\u001b[0m         \u001b[0;31m# fall thru to straight lookup\u001b[0m\u001b[0;34m\u001b[0m\u001b[0;34m\u001b[0m\u001b[0;34m\u001b[0m\u001b[0m\n\u001b[1;32m   1109\u001b[0m         \u001b[0mself\u001b[0m\u001b[0;34m.\u001b[0m\u001b[0m_validate_key\u001b[0m\u001b[0;34m(\u001b[0m\u001b[0mkey\u001b[0m\u001b[0;34m,\u001b[0m \u001b[0maxis\u001b[0m\u001b[0;34m)\u001b[0m\u001b[0;34m\u001b[0m\u001b[0;34m\u001b[0m\u001b[0m\n\u001b[0;32m-> 1110\u001b[0;31m         \u001b[0;32mreturn\u001b[0m \u001b[0mself\u001b[0m\u001b[0;34m.\u001b[0m\u001b[0m_get_label\u001b[0m\u001b[0;34m(\u001b[0m\u001b[0mkey\u001b[0m\u001b[0;34m,\u001b[0m \u001b[0maxis\u001b[0m\u001b[0;34m=\u001b[0m\u001b[0maxis\u001b[0m\u001b[0;34m)\u001b[0m\u001b[0;34m\u001b[0m\u001b[0;34m\u001b[0m\u001b[0m\n\u001b[0m\u001b[1;32m   1111\u001b[0m \u001b[0;34m\u001b[0m\u001b[0m\n\u001b[1;32m   1112\u001b[0m     \u001b[0;32mdef\u001b[0m \u001b[0m_get_slice_axis\u001b[0m\u001b[0;34m(\u001b[0m\u001b[0mself\u001b[0m\u001b[0;34m,\u001b[0m \u001b[0mslice_obj\u001b[0m\u001b[0;34m:\u001b[0m \u001b[0mslice\u001b[0m\u001b[0;34m,\u001b[0m \u001b[0maxis\u001b[0m\u001b[0;34m:\u001b[0m \u001b[0mint\u001b[0m\u001b[0;34m)\u001b[0m\u001b[0;34m:\u001b[0m\u001b[0;34m\u001b[0m\u001b[0;34m\u001b[0m\u001b[0m\n",
      "\u001b[0;32m~/Software/anaconda2/envs/py36tf/lib/python3.6/site-packages/pandas/core/indexing.py\u001b[0m in \u001b[0;36m_get_label\u001b[0;34m(self, label, axis)\u001b[0m\n\u001b[1;32m   1057\u001b[0m     \u001b[0;32mdef\u001b[0m \u001b[0m_get_label\u001b[0m\u001b[0;34m(\u001b[0m\u001b[0mself\u001b[0m\u001b[0;34m,\u001b[0m \u001b[0mlabel\u001b[0m\u001b[0;34m,\u001b[0m \u001b[0maxis\u001b[0m\u001b[0;34m:\u001b[0m \u001b[0mint\u001b[0m\u001b[0;34m)\u001b[0m\u001b[0;34m:\u001b[0m\u001b[0;34m\u001b[0m\u001b[0;34m\u001b[0m\u001b[0m\n\u001b[1;32m   1058\u001b[0m         \u001b[0;31m# GH#5667 this will fail if the label is not present in the axis.\u001b[0m\u001b[0;34m\u001b[0m\u001b[0;34m\u001b[0m\u001b[0;34m\u001b[0m\u001b[0m\n\u001b[0;32m-> 1059\u001b[0;31m         \u001b[0;32mreturn\u001b[0m \u001b[0mself\u001b[0m\u001b[0;34m.\u001b[0m\u001b[0mobj\u001b[0m\u001b[0;34m.\u001b[0m\u001b[0mxs\u001b[0m\u001b[0;34m(\u001b[0m\u001b[0mlabel\u001b[0m\u001b[0;34m,\u001b[0m \u001b[0maxis\u001b[0m\u001b[0;34m=\u001b[0m\u001b[0maxis\u001b[0m\u001b[0;34m)\u001b[0m\u001b[0;34m\u001b[0m\u001b[0;34m\u001b[0m\u001b[0m\n\u001b[0m\u001b[1;32m   1060\u001b[0m \u001b[0;34m\u001b[0m\u001b[0m\n\u001b[1;32m   1061\u001b[0m     \u001b[0;32mdef\u001b[0m \u001b[0m_handle_lowerdim_multi_index_axis0\u001b[0m\u001b[0;34m(\u001b[0m\u001b[0mself\u001b[0m\u001b[0;34m,\u001b[0m \u001b[0mtup\u001b[0m\u001b[0;34m:\u001b[0m \u001b[0mTuple\u001b[0m\u001b[0;34m)\u001b[0m\u001b[0;34m:\u001b[0m\u001b[0;34m\u001b[0m\u001b[0;34m\u001b[0m\u001b[0m\n",
      "\u001b[0;32m~/Software/anaconda2/envs/py36tf/lib/python3.6/site-packages/pandas/core/generic.py\u001b[0m in \u001b[0;36mxs\u001b[0;34m(self, key, axis, level, drop_level)\u001b[0m\n\u001b[1;32m   3489\u001b[0m             \u001b[0mloc\u001b[0m\u001b[0;34m,\u001b[0m \u001b[0mnew_index\u001b[0m \u001b[0;34m=\u001b[0m \u001b[0mself\u001b[0m\u001b[0;34m.\u001b[0m\u001b[0mindex\u001b[0m\u001b[0;34m.\u001b[0m\u001b[0mget_loc_level\u001b[0m\u001b[0;34m(\u001b[0m\u001b[0mkey\u001b[0m\u001b[0;34m,\u001b[0m \u001b[0mdrop_level\u001b[0m\u001b[0;34m=\u001b[0m\u001b[0mdrop_level\u001b[0m\u001b[0;34m)\u001b[0m\u001b[0;34m\u001b[0m\u001b[0;34m\u001b[0m\u001b[0m\n\u001b[1;32m   3490\u001b[0m         \u001b[0;32melse\u001b[0m\u001b[0;34m:\u001b[0m\u001b[0;34m\u001b[0m\u001b[0;34m\u001b[0m\u001b[0m\n\u001b[0;32m-> 3491\u001b[0;31m             \u001b[0mloc\u001b[0m \u001b[0;34m=\u001b[0m \u001b[0mself\u001b[0m\u001b[0;34m.\u001b[0m\u001b[0mindex\u001b[0m\u001b[0;34m.\u001b[0m\u001b[0mget_loc\u001b[0m\u001b[0;34m(\u001b[0m\u001b[0mkey\u001b[0m\u001b[0;34m)\u001b[0m\u001b[0;34m\u001b[0m\u001b[0;34m\u001b[0m\u001b[0m\n\u001b[0m\u001b[1;32m   3492\u001b[0m \u001b[0;34m\u001b[0m\u001b[0m\n\u001b[1;32m   3493\u001b[0m             \u001b[0;32mif\u001b[0m \u001b[0misinstance\u001b[0m\u001b[0;34m(\u001b[0m\u001b[0mloc\u001b[0m\u001b[0;34m,\u001b[0m \u001b[0mnp\u001b[0m\u001b[0;34m.\u001b[0m\u001b[0mndarray\u001b[0m\u001b[0;34m)\u001b[0m\u001b[0;34m:\u001b[0m\u001b[0;34m\u001b[0m\u001b[0;34m\u001b[0m\u001b[0m\n",
      "\u001b[0;32m~/Software/anaconda2/envs/py36tf/lib/python3.6/site-packages/pandas/core/indexes/base.py\u001b[0m in \u001b[0;36mget_loc\u001b[0;34m(self, key, method, tolerance)\u001b[0m\n\u001b[1;32m   2895\u001b[0m                 \u001b[0;32mreturn\u001b[0m \u001b[0mself\u001b[0m\u001b[0;34m.\u001b[0m\u001b[0m_engine\u001b[0m\u001b[0;34m.\u001b[0m\u001b[0mget_loc\u001b[0m\u001b[0;34m(\u001b[0m\u001b[0mcasted_key\u001b[0m\u001b[0;34m)\u001b[0m\u001b[0;34m\u001b[0m\u001b[0;34m\u001b[0m\u001b[0m\n\u001b[1;32m   2896\u001b[0m             \u001b[0;32mexcept\u001b[0m \u001b[0mKeyError\u001b[0m \u001b[0;32mas\u001b[0m \u001b[0merr\u001b[0m\u001b[0;34m:\u001b[0m\u001b[0;34m\u001b[0m\u001b[0;34m\u001b[0m\u001b[0m\n\u001b[0;32m-> 2897\u001b[0;31m                 \u001b[0;32mraise\u001b[0m \u001b[0mKeyError\u001b[0m\u001b[0;34m(\u001b[0m\u001b[0mkey\u001b[0m\u001b[0;34m)\u001b[0m \u001b[0;32mfrom\u001b[0m \u001b[0merr\u001b[0m\u001b[0;34m\u001b[0m\u001b[0;34m\u001b[0m\u001b[0m\n\u001b[0m\u001b[1;32m   2898\u001b[0m \u001b[0;34m\u001b[0m\u001b[0m\n\u001b[1;32m   2899\u001b[0m         \u001b[0;32mif\u001b[0m \u001b[0mtolerance\u001b[0m \u001b[0;32mis\u001b[0m \u001b[0;32mnot\u001b[0m \u001b[0;32mNone\u001b[0m\u001b[0;34m:\u001b[0m\u001b[0;34m\u001b[0m\u001b[0;34m\u001b[0m\u001b[0m\n",
      "\u001b[0;31mKeyError\u001b[0m: False"
     ]
    }
   ],
   "source": []
  },
  {
   "cell_type": "code",
   "execution_count": 9,
   "metadata": {},
   "outputs": [
    {
     "data": {
      "text/plain": [
       "pandas.core.series.Series"
      ]
     },
     "execution_count": 9,
     "metadata": {},
     "output_type": "execute_result"
    }
   ],
   "source": []
  },
  {
   "cell_type": "code",
   "execution_count": 19,
   "metadata": {},
   "outputs": [
    {
     "data": {
      "text/html": [
       "<div>\n",
       "<style scoped>\n",
       "    .dataframe tbody tr th:only-of-type {\n",
       "        vertical-align: middle;\n",
       "    }\n",
       "\n",
       "    .dataframe tbody tr th {\n",
       "        vertical-align: top;\n",
       "    }\n",
       "\n",
       "    .dataframe thead th {\n",
       "        text-align: right;\n",
       "    }\n",
       "</style>\n",
       "<table border=\"1\" class=\"dataframe\">\n",
       "  <thead>\n",
       "    <tr style=\"text-align: right;\">\n",
       "      <th></th>\n",
       "      <th>Cluster Index</th>\n",
       "      <th>Voxels</th>\n",
       "      <th>MAX</th>\n",
       "      <th>MAX X (vox)</th>\n",
       "      <th>MAX Y (vox)</th>\n",
       "      <th>MAX Z (vox)</th>\n",
       "      <th>COG X (vox)</th>\n",
       "      <th>COG Y (vox)</th>\n",
       "      <th>COG Z (vox)</th>\n",
       "    </tr>\n",
       "  </thead>\n",
       "  <tbody>\n",
       "    <tr>\n",
       "      <th>0</th>\n",
       "      <td>3</td>\n",
       "      <td>129.0</td>\n",
       "      <td>23.5</td>\n",
       "      <td>28.0</td>\n",
       "      <td>19.0</td>\n",
       "      <td>24.0</td>\n",
       "      <td>27.8</td>\n",
       "      <td>20.4</td>\n",
       "      <td>23.4</td>\n",
       "    </tr>\n",
       "    <tr>\n",
       "      <th>1</th>\n",
       "      <td>2</td>\n",
       "      <td>6.0</td>\n",
       "      <td>10.3</td>\n",
       "      <td>14.0</td>\n",
       "      <td>18.0</td>\n",
       "      <td>23.0</td>\n",
       "      <td>14.3</td>\n",
       "      <td>17.7</td>\n",
       "      <td>22.5</td>\n",
       "    </tr>\n",
       "    <tr>\n",
       "      <th>2</th>\n",
       "      <td>1</td>\n",
       "      <td>3.0</td>\n",
       "      <td>10.0</td>\n",
       "      <td>39.0</td>\n",
       "      <td>20.0</td>\n",
       "      <td>25.0</td>\n",
       "      <td>39.3</td>\n",
       "      <td>20.0</td>\n",
       "      <td>25.3</td>\n",
       "    </tr>\n",
       "    <tr>\n",
       "      <th>3</th>\n",
       "      <td>NaN</td>\n",
       "      <td>NaN</td>\n",
       "      <td>NaN</td>\n",
       "      <td>NaN</td>\n",
       "      <td>NaN</td>\n",
       "      <td>NaN</td>\n",
       "      <td>NaN</td>\n",
       "      <td>NaN</td>\n",
       "      <td>NaN</td>\n",
       "    </tr>\n",
       "  </tbody>\n",
       "</table>\n",
       "</div>"
      ],
      "text/plain": [
       "  Cluster Index  Voxels   MAX  MAX X (vox)  MAX Y (vox)  MAX Z (vox)  COG X (vox)  COG Y (vox)  COG Z (vox)\n",
       "0             3   129.0  23.5         28.0         19.0         24.0         27.8         20.4         23.4\n",
       "1             2     6.0  10.3         14.0         18.0         23.0         14.3         17.7         22.5\n",
       "2             1     3.0  10.0         39.0         20.0         25.0         39.3         20.0         25.3\n",
       "3           NaN     NaN   NaN          NaN          NaN          NaN          NaN          NaN          NaN"
      ]
     },
     "execution_count": 19,
     "metadata": {},
     "output_type": "execute_result"
    }
   ],
   "source": []
  },
  {
   "cell_type": "code",
   "execution_count": 20,
   "metadata": {},
   "outputs": [
    {
     "data": {
      "text/html": [
       "<div>\n",
       "<style scoped>\n",
       "    .dataframe tbody tr th:only-of-type {\n",
       "        vertical-align: middle;\n",
       "    }\n",
       "\n",
       "    .dataframe tbody tr th {\n",
       "        vertical-align: top;\n",
       "    }\n",
       "\n",
       "    .dataframe thead th {\n",
       "        text-align: right;\n",
       "    }\n",
       "</style>\n",
       "<table border=\"1\" class=\"dataframe\">\n",
       "  <thead>\n",
       "    <tr style=\"text-align: right;\">\n",
       "      <th></th>\n",
       "      <th>Cluster Index</th>\n",
       "      <th>Voxels</th>\n",
       "      <th>MAX</th>\n",
       "      <th>MAX X (vox)</th>\n",
       "      <th>MAX Y (vox)</th>\n",
       "      <th>MAX Z (vox)</th>\n",
       "      <th>COG X (vox)</th>\n",
       "      <th>COG Y (vox)</th>\n",
       "      <th>COG Z (vox)</th>\n",
       "    </tr>\n",
       "  </thead>\n",
       "  <tbody>\n",
       "    <tr>\n",
       "      <th>0</th>\n",
       "      <td>3</td>\n",
       "      <td>129.0</td>\n",
       "      <td>23.5</td>\n",
       "      <td>28.0</td>\n",
       "      <td>19.0</td>\n",
       "      <td>24.0</td>\n",
       "      <td>27.8</td>\n",
       "      <td>20.4</td>\n",
       "      <td>23.4</td>\n",
       "    </tr>\n",
       "    <tr>\n",
       "      <th>1</th>\n",
       "      <td>2</td>\n",
       "      <td>6.0</td>\n",
       "      <td>10.3</td>\n",
       "      <td>14.0</td>\n",
       "      <td>18.0</td>\n",
       "      <td>23.0</td>\n",
       "      <td>14.3</td>\n",
       "      <td>17.7</td>\n",
       "      <td>22.5</td>\n",
       "    </tr>\n",
       "    <tr>\n",
       "      <th>2</th>\n",
       "      <td>1</td>\n",
       "      <td>3.0</td>\n",
       "      <td>10.0</td>\n",
       "      <td>39.0</td>\n",
       "      <td>20.0</td>\n",
       "      <td>25.0</td>\n",
       "      <td>39.3</td>\n",
       "      <td>20.0</td>\n",
       "      <td>25.3</td>\n",
       "    </tr>\n",
       "  </tbody>\n",
       "</table>\n",
       "</div>"
      ],
      "text/plain": [
       "  Cluster Index  Voxels   MAX  MAX X (vox)  MAX Y (vox)  MAX Z (vox)  COG X (vox)  COG Y (vox)  COG Z (vox)\n",
       "0             3   129.0  23.5         28.0         19.0         24.0         27.8         20.4         23.4\n",
       "1             2     6.0  10.3         14.0         18.0         23.0         14.3         17.7         22.5\n",
       "2             1     3.0  10.0         39.0         20.0         25.0         39.3         20.0         25.3"
      ]
     },
     "execution_count": 20,
     "metadata": {},
     "output_type": "execute_result"
    }
   ],
   "source": []
  },
  {
   "cell_type": "code",
   "execution_count": null,
   "metadata": {},
   "outputs": [],
   "source": []
  }
 ],
 "metadata": {
  "kernelspec": {
   "display_name": "Python 3",
   "language": "python",
   "name": "python3"
  },
  "language_info": {
   "codemirror_mode": {
    "name": "ipython",
    "version": 3
   },
   "file_extension": ".py",
   "mimetype": "text/x-python",
   "name": "python",
   "nbconvert_exporter": "python",
   "pygments_lexer": "ipython3",
   "version": "3.6.11"
  }
 },
 "nbformat": 4,
 "nbformat_minor": 4
}
